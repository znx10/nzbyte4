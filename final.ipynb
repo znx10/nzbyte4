{
 "metadata": {
  "name": "",
  "signature": "sha256:aab0e927452c0d54c98edfa97afd7b3b8ba17126ff9da8d4f910ba48c55b774d"
 },
 "nbformat": 3,
 "nbformat_minor": 0,
 "worksheets": [
  {
   "cells": [
    {
     "cell_type": "markdown",
     "metadata": {},
     "source": [
      "## Scrape McDonalds locations across the United States, and animate the order in which they were built\n",
      "\n",
      "Original URL: http://nbviewer.ipython.org/url/rsargent.cmucreatelab.org/mcdonalds/McDonalds%20across%20the%20U.S..ipynb\n",
      "Check here for updates.\n",
      "\n",
      "For this assignment:\n",
      "\n",
      "- You'll need Python 2.7.  (You should already have this for your previous App Engine work)\n",
      "- You'll need IPython 1.x.  To install, follow the directions at the top of [this page](http://ipython.org/install.html)\n",
      "- You'll need your own copy of this notebook.  Assuming you haven't already downloaded the notebook, you're probably just viewing this notebook in the notebook viewer, which doesn't let you make any changes.  Look for the download icon on the top left to bring the notebook local.\n",
      "- Start up the IPython Notebook Dashboard on your local computer\n",
      "- Follow the directions at the top of the Dashboard page to import this notebook into your local IPython Notebook server.  (If you have troubles loading the file on Windows, you might need to rename the notebook to a simpler filename first, like 'mcdonalds.ipynb')\n",
      "\n",
      "If you've succeeded in all this, you should now be running this notebook inside your local IPython Notebook server.  Instead of a download icon, you'll now be seeing a menubar and a number of tool icons at the top of the page.  And you can edit.\n",
      "\n",
      "Windows 7 installation directions, from Yen-Chia Hsu:\n",
      "\n",
      "- Download and install Anaconda from http://continuum.io/downloads (Because Anaconda includes Python 2.7, there is no need to download Python separately).\n",
      "- Go into Windows start menu, find Anaconda folder, and click \"Anaconda Command Prompt\" to bring up the Anaconda console.\n",
      "- type \"easy_install Scrapy\" in the console to install the package, ignore the errors for now.\n",
      "- type \"easy_install Twisted\" in the console to install the package.\n",
      "- type \"easy_install w3lib\" in the console to install the package."
     ]
    },
    {
     "cell_type": "markdown",
     "metadata": {},
     "source": [
      "###A few tips on using iPython:\n",
      "To execute a block of code, click on it, and then hit shift-return (or Cell/Run)\n",
      "\n",
      "Generally, you'll want to execute blocks from top to bottom.  If you see a message that something's undefined, double-check that perhaps you missed executing a block that defined what you need.\n",
      "\n",
      "###Notes on browser compatibility:\n",
      "The explorable visualization in this notebook makes use of WebGL, which requires Chrome, Firefox, or IE 11+.  iPython notebook doesn't officially support IE 11, so you're probably best off using Chrome or Firefox.\n",
      "\n",
      "###Support and office hours:\n",
      "You're playing with some really new stuff.  Please don't hesitate to reach out to me by email <randy.sargent@cs.cmu.edu>, gchat randy.sargent@gmail.com, or to come by office hours at 4pm each day until assignment due date in NSH 3220.  Come by if you have questions, get stuck, or especially if you want to do learn how to do something that's not covered.\n",
      "\n",
      "Also, consider emailing me when you start, and I can be sure to send updates or FAQ answers to you as they develop."
     ]
    },
    {
     "cell_type": "markdown",
     "metadata": {},
     "source": [
      "### Ready to go!\n",
      "#### First, a few functions to cope with keeping a copy of the McDonalds locations on your local disk\n",
      "(Read the code in each block below, and then put your cursor in each one in sequence, and hit shift-return to evaluate)"
     ]
    },
    {
     "cell_type": "code",
     "collapsed": false,
     "input": [
      "#\n",
      "# Functions to load and save scraped McDonalds locations to/from this local JSON file:\n",
      "#\n",
      "\n",
      "import os\n",
      "import json\n",
      "\n",
      "locations_path = os.path.expanduser('~/projects/mcdonalds/mcdonalds_locations.json')\n",
      "\n",
      "# Read locations from your local json file.  If the file is missing, create it.\n",
      "def read_or_create_locations():\n",
      "    try:\n",
      "        locations = json.load(open(locations_path))\n",
      "        print 'Read %d locations from %s' % (len(locations), locations_path)\n",
      "    except StandardError:\n",
      "        locations = []\n",
      "        print '%s does not exist; creating' % locations_path\n",
      "        write_locations(locations)\n",
      "    return locations\n",
      "\n",
      "# Write locations to your local json file\n",
      "def write_locations(locations):\n",
      "    try:\n",
      "        os.makedirs(os.path.dirname(locations_path))\n",
      "    except StandardError:\n",
      "        pass\n",
      "    json.dump(locations, open(locations_path, 'w'), indent=2)\n",
      "    print 'Wrote %d locations to %s' % (len(locations), locations_path)"
     ],
     "language": "python",
     "metadata": {},
     "outputs": [],
     "prompt_number": 17
    },
    {
     "cell_type": "code",
     "collapsed": false,
     "input": [
      "# Read previously scraped locations, if any\n",
      "#\n",
      "# Note:  if you need to restart python, you'll especially want to reevaluate this line\n",
      "# to reload your current set of locations\n",
      "\n",
      "locations = read_or_create_locations()"
     ],
     "language": "python",
     "metadata": {},
     "outputs": [
      {
       "output_type": "stream",
       "stream": "stdout",
       "text": [
        "/Users/naixinzhang/projects/mcdonalds/mcdonalds_locations.json does not exist; creating\n",
        "Wrote 0 locations to /Users/naixinzhang/projects/mcdonalds/mcdonalds_locations.json\n"
       ]
      }
     ],
     "prompt_number": 18
    },
    {
     "cell_type": "markdown",
     "metadata": {},
     "source": [
      "###Geocode a street address into Lat/Long"
     ]
    },
    {
     "cell_type": "code",
     "collapsed": false,
     "input": [
      "import urllib\n",
      "import urllib2\n",
      "\n",
      "# Geocode a street address using Google's geocoding API\n",
      "# Returns {'lat': latitude, 'lng': longitude} on success\n",
      "# Returns False if not found\n",
      "# Raises exception if a problem occurs (such as running out of quota)\n",
      "#\n",
      "# Note:  Google's geolocation service is limited to around 2500 geolocations per day.  If you receive\n",
      "# an error that you've run out of quota, you'll need to wait a day, or change your IP address.\n",
      "#\n",
      "# (For the purposes of this assignment, see below for a shortcut to download already geolocated addresses to\n",
      "#  fill in your gaps)\n",
      "#\n",
      "#  If you run into quota limitation and don't want to wait a day, here are some ways to change your IP address:\n",
      "#    - If you're on a laptop, move to a different wireless network\n",
      "#    - Find an HTTP proxy at http://www.hidemyass.com/proxy-list and switch to that proxy with this python command:\n",
      "#      urllib2.install_opener(urllib2.build_opener(urllib2.ProxyHandler({'http': '168.63.167.183'})))\n",
      "#    - Utitlize a VPN service (e.g. Hide My Ass's \"Pro VPN\" account, which costs $)\n",
      "\n",
      "def geocode(address):\n",
      "    # Perform API call to maps.googleapis.com, which will return address in JSON format\n",
      "    url = 'http://maps.googleapis.com/maps/api/geocode/json?%s' % urllib.urlencode({'address': address, 'sensor': 'false'})\n",
      "    geocode = json.loads(urllib2.urlopen(url).read())\n",
      "    if geocode['status'] == 'OK' and geocode['results']:\n",
      "        # Success!  Return the first result\n",
      "        return geocode['results'][0]['geometry']['location']\n",
      "    elif geocode['status'] <> 'ZERO_RESULTS':\n",
      "        # Something failed (maybe out of quota?).  Raise an exception.\n",
      "        msg = 'When trying to geocode address %s by reading url %s, received a status != OK: %s' % (address, url, geocode['status'])\n",
      "        print msg\n",
      "        raise Exception(msg)\n",
      "    else:\n",
      "        # No results for this address.  Return false.\n",
      "        return False"
     ],
     "language": "python",
     "metadata": {},
     "outputs": [],
     "prompt_number": 19
    },
    {
     "cell_type": "code",
     "collapsed": false,
     "input": [
      "# Try it out\n",
      "geocode(\"5000 Forbes Avenue, Pittsburgh, PA\")"
     ],
     "language": "python",
     "metadata": {},
     "outputs": [
      {
       "metadata": {},
       "output_type": "pyout",
       "prompt_number": 20,
       "text": [
        "{u'lat': 40.4411659, u'lng': -79.9421425}"
       ]
      }
     ],
     "prompt_number": 20
    },
    {
     "cell_type": "code",
     "collapsed": false,
     "input": [
      "# Go ahead and try it out on some other addresses.  Does it work outside the U.S.?"
     ],
     "language": "python",
     "metadata": {},
     "outputs": [],
     "prompt_number": 21
    },
    {
     "cell_type": "markdown",
     "metadata": {},
     "source": [
      "###Scrape the street address of a single McDonalds store\n",
      "This uses the Scrapy library for parsing HTML.  If you don't already have it installed, you'll see \"No module named scrapy.selector\";  see the comments in the code below for a link to download and installation instructions."
     ]
    },
    {
     "cell_type": "code",
     "collapsed": false,
     "input": [
      "from scrapy.selector import Selector\n",
      "\n",
      "# Scrape an individual McDonalds store #\n",
      "# Returns {'store_number': store_number, 'address': address, 'lat': latitude, 'lng': longitude} on success\n",
      "# If McDonalds website doesn't show a store by that number, return False\n",
      "# If geolocation fails, will return only 'store_number' and 'address'\n",
      "#\n",
      "# Things to watch out for:\n",
      "#\n",
      "# 1) If you see \"No module named scrapy.selector\", you'll need to install the scrapy library.\n",
      "#   See http://scrapy.org/download/ for directions how to download and install.\n",
      "#\n",
      "# 2) If you see errors about zope.interface, try updating zope.interface to a newer version like so:\n",
      "#    \"pip install --upgrade zope.interface\"\n",
      "#    and then restart the kernel (Kernel/Restart, at the top of the notebook, above).\n",
      "#\n",
      "# Or, if you have troubles getting scrapy to install properly, consider switching to the\n",
      "# BeautifulSoup-based scraper below\n",
      "\n",
      "def scrape_store(store_number):\n",
      "    # Oddly, www.mcdonalds.com's map application redirects to www.mc<statename>.com to show store details.\n",
      "    # But, lucky for us, any of the states sites seem to work for all store #s.  So let's go with PA for no particular reason.\n",
      "    url = \"http://www.mcpennsylvania.com/%d\" % store_number\n",
      "    \n",
      "    print \"Trying to fetch store# %d from %s\" % (store_number, url)\n",
      "    html = urllib2.urlopen(url).read()\n",
      "    print \"  Read %d bytes\" % len(html)\n",
      "    \n",
      "    # Using Scrapy, build an XPath selector to parse the received HTML\n",
      "    selector = Selector(text = html)\n",
      "    \n",
      "    # The street address is buried in the <li> tag whose class contains the word \"address\" (usually address_3 but\n",
      "    # sometimes address_1 and maybe others).\n",
      "    # Inside that <li>, find all the <h3> tags, extract text from them, and then join together with newlines in-between.\n",
      "    address = '\\n'.join(selector.xpath('//li[contains(@class, \"address\")]/h3/text()').extract())\n",
      "    \n",
      "    if address:\n",
      "        location = {'store_number': store_number, 'address': address}\n",
      "        print '  Address is %s' % address.replace('\\n', '|')\n",
      "        latlng = geocode(address)\n",
      "        if latlng:\n",
      "            print '  Geocoded to %s' % latlng\n",
      "            location['lat'] = latlng['lat']\n",
      "            location['lng'] = latlng['lng']\n",
      "        else:\n",
      "            print '  No geocode'\n",
      "        return location\n",
      "    else:\n",
      "        print '  Store not found'\n",
      "        return False"
     ],
     "language": "python",
     "metadata": {},
     "outputs": [],
     "prompt_number": 22
    },
    {
     "cell_type": "code",
     "collapsed": false,
     "input": [
      "# Uncomment below and comment above if you'd like to switch to BeautifulSoup for\n",
      "# parsing HTML.  You can install BeautifulSoup using easy_install:\n",
      "# easy_install BeautifulSoup\n",
      "\n",
      "# from bs4 import BeautifulSoup\n",
      "#\n",
      "# # Scrape an individual McDonalds store #\n",
      "# # Returns {'store_number': store_number, 'address': address, 'lat': latitude, 'lng': longitude} on success\n",
      "# # If McDonalds website doesn't show a store by that number, return False\n",
      "# # If geolocation fails, will return only 'store_number' and 'address'\n",
      "# #\n",
      "# # If you don't already have BeautifulSoup installed, you can install like so:\n",
      "# # easy_install BeautifulSoup\n",
      "#\n",
      "# def scrape_store(store_number):\n",
      "#     # Oddly, www.mcdonalds.com's map application redirects to www.mc<statename>.com to show store details.\n",
      "#     # But, lucky for us, any of the states sites seem to work for all store #s.  So let's go with PA for no particular reason.\n",
      "#     url = \"http://www.mcpennsylvania.com/%d\" % store_number\n",
      "#     \n",
      "#     print \"Trying to fetch store# %d from %s\" % (store_number, url)\n",
      "#     html = urllib2.urlopen(url).read()\n",
      "#     print \"  Read %d bytes\" % len(html)\n",
      "#     \n",
      "#     parsed = BeautifulSoup(html)\n",
      "# \n",
      "#     # The street address is buried in the <li> tag whose class contains the word \"address\" (usually address_3 but\n",
      "#     # sometimes address_1 and maybe others).\n",
      "#     li = parsed.select('li[class^=\"address\"]')\n",
      "# \n",
      "#     if li:\n",
      "#         # Join together the strings with newlines to construct the address\n",
      "#         address = '\\n'.join(li[0].strings)\n",
      "#     else:\n",
      "#         address = ''\n",
      "# \n",
      "#     if address:\n",
      "#         location = {'store_number': store_number, 'address': address}\n",
      "#         print '  Address is %s' % address.replace('\\n', '|')\n",
      "#         latlng = geocode(address)\n",
      "#         if latlng:\n",
      "#             print '  Geocoded to %s' % latlng\n",
      "#             location['lat'] = latlng['lat']\n",
      "#             location['lng'] = latlng['lng']\n",
      "#         else:\n",
      "#             print '  No geocode'\n",
      "#         return location\n",
      "#     else:\n",
      "#         print '  Store not found'\n",
      "#         return False"
     ],
     "language": "python",
     "metadata": {},
     "outputs": [],
     "prompt_number": 23
    },
    {
     "cell_type": "code",
     "collapsed": false,
     "input": [
      "# Try it out\n",
      "scrape_store(100)"
     ],
     "language": "python",
     "metadata": {},
     "outputs": [
      {
       "output_type": "stream",
       "stream": "stdout",
       "text": [
        "Trying to fetch store# 100 from http://www.mcpennsylvania.com/100\n",
        "  Read 17582 bytes"
       ]
      },
      {
       "output_type": "stream",
       "stream": "stdout",
       "text": [
        "\n",
        "  Address is 715 E. Memorial Blvd|Lakeland, FL 33801\n",
        "  Geocoded to {u'lat': 28.0546697, u'lng': -81.95060199999999}"
       ]
      },
      {
       "output_type": "stream",
       "stream": "stdout",
       "text": [
        "\n"
       ]
      },
      {
       "metadata": {},
       "output_type": "pyout",
       "prompt_number": 24,
       "text": [
        "{'address': u'715 E. Memorial Blvd\\nLakeland, FL 33801',\n",
        " 'lat': 28.0546697,\n",
        " 'lng': -81.95060199999999,\n",
        " 'store_number': 100}"
       ]
      }
     ],
     "prompt_number": 24
    },
    {
     "cell_type": "code",
     "collapsed": false,
     "input": [
      "# The highest McDonalds store # is a bit under 17000, as of February 2014.\n",
      "# Try a few more stores.  What does the function return if a store by the requested ID doesn't exist?"
     ],
     "language": "python",
     "metadata": {},
     "outputs": [],
     "prompt_number": 25
    },
    {
     "cell_type": "code",
     "collapsed": false,
     "input": [
      "locations=[]"
     ],
     "language": "python",
     "metadata": {},
     "outputs": [],
     "prompt_number": 26
    },
    {
     "cell_type": "code",
     "collapsed": false,
     "input": [
      "# Time to scrape the stores!  This will take a while.\n",
      "# As noted above, you'll run out of geolocation quota after around 2500 stores.  So let's scrape up to store 999\n",
      "# for now, and see what it looks like.\n",
      "\n",
      "# Scrape up to this store#:\n",
      "last_store = 16997\n",
      "\n",
      "# If we have previous scraped data, start where we left off.  Otherwise start at store # 1.\n",
      "starting_store = (max([location['store_number'] for location in locations]) + 1) if locations else 1\n",
      "\n",
      "for store_number in range(starting_store, last_store + 1):\n",
      "    location = scrape_store(store_number)\n",
      "    if location:\n",
      "        locations.append(location)\n",
      "        if len(locations) % 10 == 0:\n",
      "            # Checkpoint:  every ten, save all locations to disk\n",
      "            write_locations(locations)\n",
      "\n",
      "# Done.  Save all locations\n",
      "write_locations(locations)"
     ],
     "language": "python",
     "metadata": {},
     "outputs": [
      {
       "output_type": "stream",
       "stream": "stdout",
       "text": [
        "Trying to fetch store# 6617 from http://www.mcpennsylvania.com/6617\n",
        "  Read 9433 bytes"
       ]
      },
      {
       "output_type": "stream",
       "stream": "stdout",
       "text": [
        "\n",
        "  Store not found\n",
        "Trying to fetch store# 6618 from http://www.mcpennsylvania.com/6618\n",
        "  Read 9433 bytes"
       ]
      },
      {
       "output_type": "stream",
       "stream": "stdout",
       "text": [
        "\n",
        "  Store not found\n",
        "Trying to fetch store# 6619 from http://www.mcpennsylvania.com/6619\n",
        "  Read 9433 bytes"
       ]
      },
      {
       "output_type": "stream",
       "stream": "stdout",
       "text": [
        "\n",
        "  Store not found\n",
        "Trying to fetch store# 6620 from http://www.mcpennsylvania.com/6620\n",
        "  Read 9433 bytes"
       ]
      },
      {
       "output_type": "stream",
       "stream": "stdout",
       "text": [
        "\n",
        "  Store not found\n",
        "Trying to fetch store# 6621 from http://www.mcpennsylvania.com/6621\n",
        "  Read 19299 bytes"
       ]
      },
      {
       "output_type": "stream",
       "stream": "stdout",
       "text": [
        "\n",
        "  Address is 1504 Corsicana Highway|Hillsboro, TX 76645\n",
        "  Geocoded to {u'lat': 32.008404, u'lng': -97.09236}"
       ]
      },
      {
       "output_type": "stream",
       "stream": "stdout",
       "text": [
        "\n",
        "Trying to fetch store# 6622 from http://www.mcpennsylvania.com/6622\n",
        "  Read 17695 bytes"
       ]
      },
      {
       "output_type": "stream",
       "stream": "stdout",
       "text": [
        "\n",
        "  Address is 1740 Elton Rd.|Jennings, LA 70546\n",
        "  Geocoded to {u'lat': 30.2410246, u'lng': -92.6629055}"
       ]
      },
      {
       "output_type": "stream",
       "stream": "stdout",
       "text": [
        "\n",
        "Trying to fetch store# 6623 from http://www.mcpennsylvania.com/6623\n",
        "  Read 17062 bytes"
       ]
      },
      {
       "output_type": "stream",
       "stream": "stdout",
       "text": [
        "\n",
        "  Address is 9755 Airline Hwy|Baton Rouge, LA 70816\n",
        "When trying to geocode address 9755 Airline Hwy\n",
        "Baton Rouge, LA 70816 by reading url http://maps.googleapis.com/maps/api/geocode/json?sensor=false&address=9755+Airline+Hwy%0ABaton+Rouge%2C+LA+70816, received a status != OK: OVER_QUERY_LIMIT"
       ]
      },
      {
       "output_type": "stream",
       "stream": "stdout",
       "text": [
        "\n"
       ]
      },
      {
       "ename": "Exception",
       "evalue": "When trying to geocode address 9755 Airline Hwy\nBaton Rouge, LA 70816 by reading url http://maps.googleapis.com/maps/api/geocode/json?sensor=false&address=9755+Airline+Hwy%0ABaton+Rouge%2C+LA+70816, received a status != OK: OVER_QUERY_LIMIT",
       "output_type": "pyerr",
       "traceback": [
        "\u001b[0;31m---------------------------------------------------------------------------\u001b[0m\n\u001b[0;31mException\u001b[0m                                 Traceback (most recent call last)",
        "\u001b[0;32m<ipython-input-34-7996f9177743>\u001b[0m in \u001b[0;36m<module>\u001b[0;34m()\u001b[0m\n\u001b[1;32m     10\u001b[0m \u001b[0;34m\u001b[0m\u001b[0m\n\u001b[1;32m     11\u001b[0m \u001b[0;32mfor\u001b[0m \u001b[0mstore_number\u001b[0m \u001b[0;32min\u001b[0m \u001b[0mrange\u001b[0m\u001b[0;34m(\u001b[0m\u001b[0mstarting_store\u001b[0m\u001b[0;34m,\u001b[0m \u001b[0mlast_store\u001b[0m \u001b[0;34m+\u001b[0m \u001b[0;36m1\u001b[0m\u001b[0;34m)\u001b[0m\u001b[0;34m:\u001b[0m\u001b[0;34m\u001b[0m\u001b[0m\n\u001b[0;32m---> 12\u001b[0;31m     \u001b[0mlocation\u001b[0m \u001b[0;34m=\u001b[0m \u001b[0mscrape_store\u001b[0m\u001b[0;34m(\u001b[0m\u001b[0mstore_number\u001b[0m\u001b[0;34m)\u001b[0m\u001b[0;34m\u001b[0m\u001b[0m\n\u001b[0m\u001b[1;32m     13\u001b[0m     \u001b[0;32mif\u001b[0m \u001b[0mlocation\u001b[0m\u001b[0;34m:\u001b[0m\u001b[0;34m\u001b[0m\u001b[0m\n\u001b[1;32m     14\u001b[0m         \u001b[0mlocations\u001b[0m\u001b[0;34m.\u001b[0m\u001b[0mappend\u001b[0m\u001b[0;34m(\u001b[0m\u001b[0mlocation\u001b[0m\u001b[0;34m)\u001b[0m\u001b[0;34m\u001b[0m\u001b[0m\n",
        "\u001b[0;32m<ipython-input-22-7f60e60d5753>\u001b[0m in \u001b[0;36mscrape_store\u001b[0;34m(store_number)\u001b[0m\n\u001b[1;32m     38\u001b[0m         \u001b[0mlocation\u001b[0m \u001b[0;34m=\u001b[0m \u001b[0;34m{\u001b[0m\u001b[0;34m'store_number'\u001b[0m\u001b[0;34m:\u001b[0m \u001b[0mstore_number\u001b[0m\u001b[0;34m,\u001b[0m \u001b[0;34m'address'\u001b[0m\u001b[0;34m:\u001b[0m \u001b[0maddress\u001b[0m\u001b[0;34m}\u001b[0m\u001b[0;34m\u001b[0m\u001b[0m\n\u001b[1;32m     39\u001b[0m         \u001b[0;32mprint\u001b[0m \u001b[0;34m'  Address is %s'\u001b[0m \u001b[0;34m%\u001b[0m \u001b[0maddress\u001b[0m\u001b[0;34m.\u001b[0m\u001b[0mreplace\u001b[0m\u001b[0;34m(\u001b[0m\u001b[0;34m'\\n'\u001b[0m\u001b[0;34m,\u001b[0m \u001b[0;34m'|'\u001b[0m\u001b[0;34m)\u001b[0m\u001b[0;34m\u001b[0m\u001b[0m\n\u001b[0;32m---> 40\u001b[0;31m         \u001b[0mlatlng\u001b[0m \u001b[0;34m=\u001b[0m \u001b[0mgeocode\u001b[0m\u001b[0;34m(\u001b[0m\u001b[0maddress\u001b[0m\u001b[0;34m)\u001b[0m\u001b[0;34m\u001b[0m\u001b[0m\n\u001b[0m\u001b[1;32m     41\u001b[0m         \u001b[0;32mif\u001b[0m \u001b[0mlatlng\u001b[0m\u001b[0;34m:\u001b[0m\u001b[0;34m\u001b[0m\u001b[0m\n\u001b[1;32m     42\u001b[0m             \u001b[0;32mprint\u001b[0m \u001b[0;34m'  Geocoded to %s'\u001b[0m \u001b[0;34m%\u001b[0m \u001b[0mlatlng\u001b[0m\u001b[0;34m\u001b[0m\u001b[0m\n",
        "\u001b[0;32m<ipython-input-19-816c554d3ebc>\u001b[0m in \u001b[0;36mgeocode\u001b[0;34m(address)\u001b[0m\n\u001b[1;32m     30\u001b[0m         \u001b[0mmsg\u001b[0m \u001b[0;34m=\u001b[0m \u001b[0;34m'When trying to geocode address %s by reading url %s, received a status != OK: %s'\u001b[0m \u001b[0;34m%\u001b[0m \u001b[0;34m(\u001b[0m\u001b[0maddress\u001b[0m\u001b[0;34m,\u001b[0m \u001b[0murl\u001b[0m\u001b[0;34m,\u001b[0m \u001b[0mgeocode\u001b[0m\u001b[0;34m[\u001b[0m\u001b[0;34m'status'\u001b[0m\u001b[0;34m]\u001b[0m\u001b[0;34m)\u001b[0m\u001b[0;34m\u001b[0m\u001b[0m\n\u001b[1;32m     31\u001b[0m         \u001b[0;32mprint\u001b[0m \u001b[0mmsg\u001b[0m\u001b[0;34m\u001b[0m\u001b[0m\n\u001b[0;32m---> 32\u001b[0;31m         \u001b[0;32mraise\u001b[0m \u001b[0mException\u001b[0m\u001b[0;34m(\u001b[0m\u001b[0mmsg\u001b[0m\u001b[0;34m)\u001b[0m\u001b[0;34m\u001b[0m\u001b[0m\n\u001b[0m\u001b[1;32m     33\u001b[0m     \u001b[0;32melse\u001b[0m\u001b[0;34m:\u001b[0m\u001b[0;34m\u001b[0m\u001b[0m\n\u001b[1;32m     34\u001b[0m         \u001b[0;31m# No results for this address.  Return false.\u001b[0m\u001b[0;34m\u001b[0m\u001b[0;34m\u001b[0m\u001b[0m\n",
        "\u001b[0;31mException\u001b[0m: When trying to geocode address 9755 Airline Hwy\nBaton Rouge, LA 70816 by reading url http://maps.googleapis.com/maps/api/geocode/json?sensor=false&address=9755+Airline+Hwy%0ABaton+Rouge%2C+LA+70816, received a status != OK: OVER_QUERY_LIMIT"
       ]
      }
     ],
     "prompt_number": 34
    },
    {
     "cell_type": "markdown",
     "metadata": {},
     "source": [
      "###Take a peek at mcdonalds_locations.json\n",
      "Fire up your favorite editor or file viewer and verify that mcdonalds_locations.json is looking reasonable."
     ]
    },
    {
     "cell_type": "markdown",
     "metadata": {},
     "source": [
      "###Displaying locations\n",
      "\n",
      "To display the McDonalds locations on a map, we're going to build a web page and display it inside an &lt;iframe&gt; inside this notebook.  First, we'll need the utility function \"iframe_with_source\", which lets you pass HTML as a big string."
     ]
    },
    {
     "cell_type": "code",
     "collapsed": false,
     "input": [
      "# iframe_with_source is a utility function to let us insert HTML into an iframe\n",
      "# as an iPython result\n",
      "\n",
      "from IPython.display import HTML\n",
      "import json\n",
      "\n",
      "def iframe_with_source(source, height):\n",
      "    name = 'iframe-%d' % get_ipython().execution_count\n",
      "    source = json.dumps(source)\n",
      "    source = source.replace('</script', '</scr\"+\"ipt')\n",
      "    width = '100%'\n",
      "    height = '%spx' % height\n",
      "    template = \"\"\"\n",
      "<iframe id=\"%s\" style=\"width:%s; height:%s\"></iframe>\n",
      "<script>\n",
      "document.getElementById('%s').srcdoc = %s;\n",
      "</script>\n",
      "\"\"\"\n",
      "    # Fill in the %s slots with id, width, height, and the HTML source\n",
      "    return HTML(template % (name, width, height, name, source))"
     ],
     "language": "python",
     "metadata": {},
     "outputs": [],
     "prompt_number": 35
    },
    {
     "cell_type": "code",
     "collapsed": false,
     "input": [
      "# Try out iframe_with_source with a on trivially simple web page.  Note python's triple-quote syntax for multi-line strings.\n",
      "\n",
      "source = \"\"\"\n",
      "<html>\n",
      "  <body>\n",
      "    Hello world!\n",
      "  </body>\n",
      "</html>\"\"\"\n",
      "height = 100  # pixels\n",
      "iframe_with_source(source, height)"
     ],
     "language": "python",
     "metadata": {},
     "outputs": [
      {
       "html": [
        "\n",
        "<iframe id=\"iframe-36\" style=\"width:100%; height:100px\"></iframe>\n",
        "<script>\n",
        "document.getElementById('iframe-36').srcdoc = \"\\n<html>\\n  <body>\\n    Hello world!\\n  </body>\\n</html>\";\n",
        "</script>\n"
       ],
       "metadata": {},
       "output_type": "pyout",
       "prompt_number": 36,
       "text": [
        "<IPython.core.display.HTML at 0x10491e3d0>"
       ]
      }
     ],
     "prompt_number": 36
    },
    {
     "cell_type": "markdown",
     "metadata": {},
     "source": [
      "Next, we need to convert the store information into the JSON format our page is going to need."
     ]
    },
    {
     "cell_type": "code",
     "collapsed": false,
     "input": [
      "# Convert to Javascript series:  {latlng: [lat0, lng0, lat1, lng1, lat2, lng2 ...], index: [index0, index1, index2 ...]}\n",
      "javascript_latlng = []\n",
      "javascript_index = []\n",
      "for location in locations:\n",
      "    if 'lat' in location:\n",
      "        javascript_index.append(location['store_number'])\n",
      "        javascript_latlng.append(location['lat'])\n",
      "        javascript_latlng.append(location['lng'])\n",
      "javascript_series = \"// Data from %d locations, index %s - %s\\n\" % (len(javascript_index), javascript_index[0], javascript_index[-1])\n",
      "javascript_series += 'var mcDonalds = {\\n  latlng: new Float32Array(%s),\\n\\n  index: new Float32Array(%s)\\n};' % (json.dumps(javascript_latlng), json.dumps(javascript_index))\n",
      "print \"javascript_series contains %d locations and is %s bytes long\" % (len(javascript_index), len(javascript_series))"
     ],
     "language": "python",
     "metadata": {},
     "outputs": [
      {
       "output_type": "stream",
       "stream": "stdout",
       "text": [
        "javascript_series contains 4496 locations and is 147290 bytes long\n"
       ]
      }
     ],
     "prompt_number": 37
    },
    {
     "cell_type": "markdown",
     "metadata": {},
     "source": [
      "Here's the web page.  We'll construct it by sandwiching the JSON above between a header and footer.  Don't let the length of the javascript below scare you.  You can do pretty much all the customization you'll want inside the two functions init() and drawFrame().\n",
      "\n",
      "When you evaluate this code below, you should see an iframe with a Google map displaying an animation of McDonalds being built."
     ]
    },
    {
     "cell_type": "code",
     "collapsed": false,
     "input": [
      "# Construct HTML source for viewing page, with javascript_series inserted\n",
      "# Insert as an <iframe> to prevent conflicts between this code and the parent page.\n",
      "\n",
      "src = \"\"\"\n",
      "\n",
      "<html style=\"height:100%\">\n",
      "<head>\n",
      "    <script src=\"http://maps.googleapis.com/maps/api/js?sensor=false\"></script>\n",
      "    <script src=\"http://ajax.googleapis.com/ajax/libs/jquery/1.11.0/jquery.min.js\"></script>\n",
      "    <script src=\"http://api.cmucreatelab.org/exp-0.1/js/CanvasLayer.js\"></script>\n",
      "    <script src=\"http://api.cmucreatelab.org/exp-0.1/js/utils.js\"></script>\n",
      "    <script src=\"http://api.cmucreatelab.org/exp-0.1/js/series.js\"></script>\n",
      "    <script>\n",
      "\"\"\"\n",
      "\n",
      "src += javascript_series;\n",
      "\n",
      "src += \"\"\"\n",
      "      var latlngm = mcDonalds.latlng;\n",
      "      var map;\n",
      "      var canvasLayer;\n",
      "      var gl;\n",
      "      var pixelsToWebGLMatrix = new Float32Array(16);\n",
      "      var mapMatrix = new Float32Array(16);\n",
      "\n",
      "      var advancing = true; // true when in 'play' mode; false when paused\n",
      "\n",
      "      var lastTime = 0;\n",
      "      var totalElapsedTime = 0;\n",
      "      var fps = 50;\n",
      "\n",
      "      var currentIndex, minIndex, maxIndex;\n",
      "\n",
      "      function init() {\n",
      "\t// initialize the map\n",
      "\tvar mapOptions = {\n",
      "          zoom: 4,\n",
      "          center: new google.maps.LatLng(39.3, -95.8),\n",
      "\t};\n",
      "        var mapDiv = document.getElementById('map-div');\n",
      "\tmap = new google.maps.Map(mapDiv, mapOptions);\n",
      "\n",
      "        if (!initWebGL()) {\n",
      "          $('#map-div').append('<div align=\"center\" style=\"position: absolute; z-index:1000000; margin:50px; padding:10px; border-color:black; border-style:solid; border-width:1px; box-shadow:5px 5px 5px grey; background-color:white; font-size:20px\"><b>WebGL required</b><br>Please try using a browser that supports WebGL,<br>such as Chrome, Firefox, or Internet Explorer 11.</div>');\n",
      "        }\n",
      "\n",
      "        // Convert from latlng to xy for map, and set up shader programs\n",
      "        prepareSeries(gl, mcDonalds);\n",
      "\n",
      "        currentIndex = minIndex = mcDonalds.index[0];\n",
      "        maxIndex = mcDonalds.index[mcDonalds.index.length - 1];\n",
      "\n",
      "        initPlaybackControls();\n",
      "        console.log(mcDonalds.index.length);\n",
      "\t\tconsole.log(latlngm.length);\n",
      "\t\t\n",
      "  \t\tvar contentString = ''; \n",
      "\n",
      "\n",
      " \t\t\t\n",
      "  \t\tvar prev_infowindow = false;\n",
      "\t\tgoogle.maps.event.addListener(map, 'mousemove', function(event) \n",
      "\t\t{\n",
      "\t\telt = findClosestElement(gl, mapMatrix, mcDonalds, event.pixel, 10);\n",
      "\t\tconsole.log(elt);//lat, lng, i \n",
      "\t\tvar storenumber = '';\n",
      "\t\tstorenumber = mcDonalds.index[elt.i]\n",
      "\t\tconsole.log(storenumber)\n",
      "\t\tcontentString = 'Store Number: '+ storenumber + '</br>' + 'Website: '+'http://www.mcpennsylvania.com/' + storenumber;\n",
      "\t\t//var marker = new google.maps.Marker({\n",
      "      //position: elt,\n",
      "      //map: map,\n",
      "      //title: 'Uluru (Ayers Rock)'\n",
      "  \t\t//});\n",
      "  \t\tvar infowindow = new google.maps.InfoWindow({\n",
      "\t\t\tcontent: contentString,\n",
      "\t\t\tposition: elt});\n",
      "  \t\t\n",
      "\t\tif(prev_infowindow){\n",
      "\t\t\tprev_infowindow.close();\n",
      "\t\t}\n",
      "\n",
      "\t\tprev_infowindow = infowindow;\n",
      "\t\tinfowindow.open(map);\n",
      "\t\t\n",
      "\t\t// create_info \n",
      "\t\t// takes \"i\" uses it to get data from series\n",
      "\t\t// \" absolute div over canvas\"\n",
      "\t\t// info bubble google maps\n",
      "\t\t// http:/ ... /id is the link to the store\n",
      "\n",
      "\n",
      " \t\t// \tconsole.log('Mouse clicked on pixel ' + event.pixel + ', ' + event.pixel.y);\n",
      " \t\t\n",
      " \t\t\n",
      " \t\t\n",
      " \t\t\n",
      "\t\t});\n",
      "\t\t\n",
      "\t\t\n",
      "\t\t\n",
      "      }\n",
      "\n",
      "      \n",
      "\n",
      "      function drawFrame() {\n",
      "        if (advancing) {\n",
      "          advanceCurrentIndex();\n",
      "        }\n",
      "\n",
      "        // Use additive blending mode.  As we draw overlapping pixels, color values\n",
      "        // are added and then clamped to go no higher than 1.  This has the effect of\n",
      "        // making overlapped areas brighter, approaching white (assuming use of colors\n",
      "        // which are non-zero in each of R, G, B)\n",
      "\n",
      "        gl.enable(gl.BLEND);\n",
      "        gl.blendFunc( gl.SRC_ALPHA, gl.ONE );\n",
      "\n",
      "        // Compute WebGL transform from world xy coords to screen\n",
      "        // copy pixel->webgl matrix\n",
      "        mapMatrix.set(pixelsToWebGLMatrix);\n",
      "\n",
      "        var scale = canvasLayer.getMapScale();\n",
      "        scaleMatrix(mapMatrix, scale, scale);\n",
      "\n",
      "        var translation = canvasLayer.getMapTranslation();\n",
      "        translateMatrix(mapMatrix, translation.x, translation.y);\n",
      "\n",
      "        // Erase frame\n",
      "        gl.clear(gl.COLOR_BUFFER_BIT);\n",
      "\n",
      "        // Compute point diameter, in pixels, based on zoom level\n",
      "\n",
      "        // map.zoom is approx 4 at country level\n",
      "        // How many pixels in diameter should marker be when map zoomed to country level?\n",
      "        var countryPointSizePixels = 3;\n",
      "\n",
      "        // map.zoom is approx 18 at block level\n",
      "        // How many pixels in diameter should marker be when map zoomed to block level?\n",
      "        var blockPointSizePixels = 90;\n",
      "\n",
      "        var pointSize = countryPointSizePixels * Math.pow(blockPointSizePixels / countryPointSizePixels, (map.zoom - 4) / (18 - 4));\n",
      "        var color = [.82, .22, .07, 1.0]; // RGBA, orange\n",
      "\n",
      "        // How much of the marker's radius do we draw at alpha=1, before starting the slope to alpha=0?\n",
      "        // 0 is very soft, 0.95 is a hard circle with well-defined edge\n",
      "        var hardFraction = 0.4;  \n",
      "\n",
      "        drawPoints(gl, mapMatrix, mcDonalds, 0, findIndex(currentIndex, mcDonalds), \n",
      "                   {color: color, pointSize: pointSize, hardFraction: hardFraction});\n",
      "      }\n",
      "      \n",
      "      function advanceCurrentIndex() {\n",
      "        var timeNow = new Date().getTime();\n",
      "        if (lastTime != 0) {\n",
      "          var elapsed = timeNow - lastTime;\n",
      "          totalElapsedTime += elapsed;\n",
      "        }\n",
      "        lastTime = timeNow;\n",
      "\n",
      "        if (totalElapsedTime > 1000 / fps) {\n",
      "          totalElapsedTime = 0;\n",
      "          var newIndex = currentIndex + 100;\n",
      "          if (newIndex >= maxIndex) {\n",
      "            // TODO(rsargent): implement delay at beginning and end\n",
      "            newIndex = 0;\n",
      "          }\n",
      "          playbackSetIndex(newIndex);\n",
      "        }\n",
      "      }\n",
      "\n",
      "      function initWebGL() {\n",
      "        // initialize the canvasLayer\n",
      "        var canvasLayerOptions = {\n",
      "          map: map,\n",
      "          resizeHandler: resize,\n",
      "          animate: true,\n",
      "          updateHandler: drawFrame\n",
      "        };\n",
      "        canvasLayer = new CanvasLayer(canvasLayerOptions);\n",
      "\n",
      "        window.addEventListener('resize', function () {  google.maps.event.trigger(map, 'resize') }, false);\n",
      "\n",
      "        // initialize WebGL\n",
      "        gl = canvasLayer.canvas.getContext('experimental-webgl');\n",
      "        return !!gl;\n",
      "      }\n",
      "\n",
      "      function initPlaybackControls() {\n",
      "        $('#playback-play-pause-button').click(function() {\n",
      "          advancing = (this.textContent == 'Play');\n",
      "          this.textContent = advancing ? 'Pause' : 'Play';\n",
      "        });\n",
      "\n",
      "        $('#playback-range')\n",
      "          .on(\"input change\", function() {\n",
      "            console.log('change, yeah');\n",
      "            playbackSetIndex(this.valueAsNumber);\n",
      "          })\n",
      "          .mousedown(function() {\n",
      "            advancing = false;\n",
      "          })\n",
      "          .mouseup(function() {\n",
      "            if ($('#playback-play-pause-button').text() == 'Pause') {\n",
      "              advancing = true;\n",
      "            }\n",
      "          });\n",
      "      }\n",
      "\n",
      "      function playbackSetIndex(newIndex) {\n",
      "        currentIndex = newIndex;\n",
      "        $('#playback-display').text(currentIndex);\n",
      "        $('#playback-range').val(currentIndex);\n",
      "      }\n",
      "\n",
      "      function resize() {\n",
      "        var w = canvasLayer.canvas.width;\n",
      "        var h = canvasLayer.canvas.height;\n",
      "\n",
      "        // Extend viewport to entire canvas\n",
      "        gl.viewport(0, 0, w, h);\n",
      "\n",
      "        // Map canvas pixel coordinates to WebGL coordinates\n",
      "        pixelsToWebGLMatrix.set([2/w, 0,   0, 0,\n",
      "                                 0,  -2/h, 0, 0,\n",
      "                                 0,   0,   1, 0,\n",
      "                                -1,   1,   0, 1]);\n",
      "      }\n",
      "\n",
      "      $(init);\n",
      "    </script>\n",
      "\n",
      "    <script id=\"pointVertexShader\" type=\"x-shader/x-vertex\">\n",
      "      attribute vec4 worldCoord;\n",
      "      attribute float aPointSize;\n",
      "\n",
      "      uniform mat4 mapMatrix;\n",
      "\n",
      "      void main() {\n",
      "        // transform world coordinate by matrix uniform variable\n",
      "        gl_Position = mapMatrix * worldCoord;\n",
      "\n",
      "        // a constant size for points, regardless of zoom level\n",
      "        gl_PointSize = aPointSize;\n",
      "      }\n",
      "    </script>\n",
      "    <script id=\"pointFragmentShader\" type=\"x-shader/x-fragment\">\n",
      "      precision mediump float;\n",
      "      uniform vec4 color;\n",
      "      uniform float hardFraction;\n",
      "\n",
      "      // Circle of diameter 0.5, composed of a \"hard\" (alpha=1) center of radius 0.5 * hardFraction,\n",
      "      // then transitioning to alpha=0 at diameter 0.5\n",
      "      void main() {\n",
      "        float dist = length(gl_PointCoord.xy - vec2(.5, .5));\n",
      "        // TODO(rsargent):  shouldn't we just be adjusting the alpha here?  Maybe we're taking\n",
      "        // advantage of the double-multiplication to get something other than linear.\n",
      "        // But multiplying all the channels will break if we do something other than an additive blend.\n",
      "        gl_FragColor = color * clamp((0.5 - dist) / (0.5 - 0.5 * hardFraction), 0., 1.);\n",
      "      }\n",
      "    </script>\n",
      "</head>\n",
      "<body style=\"height:100%; margin:0; padding:0\">\n",
      "    <div id=\"map-div\" style=\"height:100%\"></div>\n",
      "    <div style=\"position:relative; left:90px; top:-30px; width:550px\">\n",
      "      <button id=\"playback-play-pause-button\" style=\"width:50px\">Pause</button>\n",
      "      <div align=\"right\" id=\"playback-display\" style=\"width:40px; display:inline-block\"></div>\n",
      "      <input type=\"range\" style=\"width: 300px; position:relative; top:3px\"  value=\"0\" min=\"0\" max=\"17000\" list=\"number\" id=\"playback-range\"/>\n",
      "    </div>\n",
      "</body>\n",
      "</html>\n",
      "\n",
      "\"\"\"\n",
      "\n",
      "# You might find it easier to debug changes to this code by writing everything out to a .html file\n",
      "# and loading it separately into your browser;  uncomment the following to do so\n",
      "\n",
      "# open(os.path.expanduser('~/Desktop/mcdonalds.html'), 'w').write(src)\n",
      "\n",
      "height = 500\n",
      "iframe_with_source(src, height)"
     ],
     "language": "python",
     "metadata": {},
     "outputs": [
      {
       "html": [
        "\n",
        "<iframe id=\"iframe-38\" style=\"width:100%; height:500px\"></iframe>\n",
        "<script>\n",
        "document.getElementById('iframe-38').srcdoc = \"\\n\\n<html style=\\\"height:100%\\\">\\n<head>\\n    <script src=\\\"http://maps.googleapis.com/maps/api/js?sensor=false\\\"></scr\"+\"ipt>\\n    <script src=\\\"http://ajax.googleapis.com/ajax/libs/jquery/1.11.0/jquery.min.js\\\"></scr\"+\"ipt>\\n    <script src=\\\"http://api.cmucreatelab.org/exp-0.1/js/CanvasLayer.js\\\"></scr\"+\"ipt>\\n    <script src=\\\"http://api.cmucreatelab.org/exp-0.1/js/utils.js\\\"></scr\"+\"ipt>\\n    <script src=\\\"http://api.cmucreatelab.org/exp-0.1/js/series.js\\\"></scr\"+\"ipt>\\n    <script>\\n// Data from 4496 locations, index 3 - 6622\\nvar mcDonalds = {\\n  latlng: new Float32Array([40.7455, -73.9067122, 30.5611122, -88.20657469999999, 30.4496173, -88.8419512, 40.8345906, -73.85221779999999, 40.5427718, -74.2078085, 32.9643856, -102.8342272, 47.1853785, -122.2928974, 41.9593144, -87.7479075, 42.0410551, -87.74862809999999, 41.7756657, -87.58636299999999, 42.0452999, -87.88551939999999, 36.7789461, -119.7908846, 34.2014262, -118.542322, 33.975492, -118.373305, 38.94946530000001, -76.9933493, 38.525314, -121.441833, 41.52313609999999, -88.1195054, 33.780875, -117.914369, 41.906645, -87.90289, 41.8096071, -87.9920125, 41.99002240000001, -87.71054250000002, 38.750952, -77.08363419999999, 41.60040840000001, -87.54098839999999, 40.55976099999999, -75.487803, 45.003603, -93.1675039, 39.1907642, -84.5993034, 42.5571308, -87.8253575, 40.528545, -80.008239, 38.5570734, -90.3937852, 41.7786135, -88.31513609999999, 41.858901, -88.070507, 42.756994, -84.54333489999999, 40.7314971, -89.6120596, 42.7041261, -87.825977, 41.89037800000001, -87.970017, 43.03951000000001, -89.3947189, 42.0458347, -88.2754721, 42.0197767, -87.6877039, 41.9715764, -87.8071175, 38.934671, -77.1775, 27.9109181, -82.5067557, 42.1323952, -88.0912357, 40.5033763, -88.99412219999999, 41.4915597, -90.4880359, 44.52962609999999, -88.06055669999999, 44.9424539, -93.3598825, 42.5171638, -89.06321530000001, 42.7040484, -89.00632399999999, 43.4372653, -84.0152171, 28.0546697, -81.95060199999999, 42.0637526, -87.7997414, 38.9805242, -76.52766319999999, 38.814886, -76.9977773, 40.1193942, -87.63665499999999, 40.019227, -105.257828, 42.089276, -80.0853319, 40.191249, -85.38147699999999, 38.127948, -85.850494, 42.9138688, -85.69634789999999, 42.2975559, -87.95610909999999, 43.773609, -87.736729, 30.6661819, -88.10647689999999, 38.8688292, -77.17682769999999, 40.6250395, -75.435425, 41.0693984, -85.0452465, 44.04071039999999, -88.5430536, 40.7282972, -73.22541989999999, 37.1827216, -93.29677749999999, 42.7312269, -84.470168, 40.9261469, -74.0997096, 38.5790901, -92.1951896, 42.5047709, -83.105879, 38.836865, -104.8173039, 41.6877626, -72.7081496, 28.023043, -82.459952, 26.609518, -81.87136199999999, 40.9606083, -90.3837231, 41.1182733, -85.1379424, 43.205254, -86.2896694, 44.0511317, -91.6814306, 40.4279875, -74.3823554, 44.8024079, -91.469304, 43.7636821, -88.46612139999999, 44.0837126, -87.6917526, 42.987426, -88.00816999999999, 37.6640084, -97.29844109999999, 39.7804706, -89.6687218, 42.2269808, -84.415972, 38.96514850000001, -92.3349437, 42.99262, -88.048001, 41.4391942, -81.86935439999999, 43.6125537, -83.9146743, 41.2175879, -73.2150663, 40.3986587, -104.6905396, 40.7258505, -73.4941255, 39.7047915, -84.1424663, 42.68647199999999, -84.548485, 41.912323, -88.33748299999999, 40.5560306, -105.0775696, 42.2985638, -85.2148342, 36.089091, -79.77461799999999, 42.9917977, -78.82182089999999, 41.0611762, -81.4549715, 40.8596975, -73.07270020000001, 38.8550939, -77.31592719999999, 41.2786178, -72.9878456, 45.052105, -93.24673299999999, 45.52657960000001, -122.5382615, 42.3190195, -87.8661692, 41.41727789999999, -81.573332, 42.8312789, -78.7541037, 42.5237863, -96.4178036, 42.9782105, -83.672883, 38.984569, -76.970637, 39.3783806, -84.5502644, 41.9315556, -88.7681592, 35.595399, -82.53336, 39.7404983, -104.8597407, 35.108694, -106.5779256, 40.6838141, -73.3532639, 43.0453515, -83.7320329, 44.0814944, -103.2567132, 39.6856185, -75.7374234, 41.1372224, -104.7665131, 40.7954134, -81.4357252, 40.5199076, -74.39538399999999, 39.6821023, -105.0251673, 39.9360667, -75.0441417, 35.0867907, -106.5777149, 39.1998691, -84.3761392, 41.7517111, -87.5654114, 39.068177, -77.12865599999999, 40.83893459999999, -73.3278311, 43.0319057, -85.62534819999999, 43.6093522, -116.2429185, 27.838765, -82.703463, 30.40595029999999, -87.275662, 38.8085301, -77.0908058, 41.2459149, -75.88130749999999, 43.6136785, -84.2130796, 38.1683429, -85.706848, 34.537067, -82.6666803, 39.7434967, -84.1143375, 41.421238, -81.527783, 35.9910189, -83.88965619999999, 40.3960085, -74.10486499999999, 40.6333226, -80.22982449999999, 41.6881411, -85.9733219, 40.653895, -73.555691, 39.0941398, -76.855057, 41.1311063, -81.50765729999999, 41.5205279, -81.4553747, 41.622995, -87.628491, 44.06169999999999, -103.231366, 44.8578813, -93.2791292, 39.5268085, -84.38532959999999, 36.0008588, -83.92508819999999, 39.1871569, -86.5336351, 41.690419, -86.894339, 44.9077849, -93.0814802, 34.6231325, -98.4347256, 41.3859632, -81.76806359999999, 40.5909883, -79.735668, 40.2499135, -74.7763318, 41.6903497, -72.92249160000001, 42.02178000000001, -87.957128, 42.198622, -83.2046349, 41.245634, -111.97048, 43.2342093, -86.2052989, 39.2691362, -76.5003909, 43.5155545, -96.73072259999999, 42.0257924, -87.8132203, 35.9796585, -80.0217047, 39.011277, -95.688621, 40.5964728, -83.12995049999999, 42.971185, -82.45312899999999, 39.021715, -84.5885837, 42.0970924, -79.2915295, 42.1080937, -88.25805489999999, 39.7976328, -84.2532458, 42.14014, -87.911118, 45.48685829999999, -122.7741729, 41.78861089999999, -87.70315819999999, 43.0904169, -78.96773619999999, 33.8955264, -84.283338, 41.64296179999999, -81.4699657, 33.8730991, -118.3936853, 37.651237, -97.352272, 42.4961328, -83.0271686, 42.9184005, -78.7535207, 37.24047480000001, -93.3039831, 33.99287, -118.451112, 42.115765, -72.62403189999999, 43.0335309, -83.6395826, 32.7906741, -83.67034389999999, 41.678647, -83.6222219, 35.1369695, -106.641258, 41.440214, -81.7250105, 36.0166246, -78.88960809999999, 44.97754279999999, -93.0404662, 42.2477271, -71.8261364, 42.1024055, -80.1466579, 37.5248718, -122.2818347, 41.1083142, -81.5688052, 38.3093297, -85.76961209999999, 45.497751, -122.6359003, 42.756556, -87.799428, 42.2536604, -83.194665, 35.9505545, -83.9146504, 38.54009509999999, -90.02349889999999, 41.5832024, -93.7008858, 39.3965189, -76.5652214, 41.8646359, -87.8033245, 38.271992, -104.6181578, 40.5207018, -74.2856846, 36.52525790000001, -82.52081199999999, 30.4028675, -88.9353601, 38.0576, -97.93070000000002, 47.4626184, -122.3334053, 41.6766256, -87.6810567, 37.4792898, -122.2242071, 39.8757325, -75.0842092, 39.885613, -104.994657, 30.3142074, -97.7079785, 45.496692, -122.5701439, 40.4652079, -79.828907, 38.78336090000001, -90.35491479999999, 43.4003929, -83.9120818, 39.7401983, -104.9807486, 47.5816087, -122.2999787, 33.8311675, -118.303346, 39.1024929, -94.43650769999999, 39.9236466, -83.77359589999999, 40.3318643, -80.0223972, 38.8963215, -77.1262627, 43.2305175, -75.4394847, 33.4994224, -86.9081412, 40.2293664, -76.8962782, 40.1922367, -74.715755, 30.1614024, -85.66059589999999, 32.4823003, -84.9411439, 40.8444811, -96.7385394, 47.668252, -122.37318, 33.7969628, -117.8362073, 32.4890727, -93.7045023, 40.912472, -74.034795, 37.0602139, -94.5141965, 42.5796138, -71.7740622, 41.4726907, -81.62260619999999, 26.7909852, -80.05469819999999, 40.573699, -85.67606500000001, 41.6771208, -71.1615554, 47.4668638, -122.2881282, 40.6956429, -89.62323699999999, 33.83276500000001, -118.159522, 41.6281235, -93.69831909999999, 27.960932, -82.7604051, 33.818016, -117.968456, 34.2331328, -118.4378261, 42.5016313, -82.9345388, 42.5260978, -82.89703689999999, 41.705484, -87.70168, 38.4720279, -82.6271924, 42.981662, -87.947356, 41.6809817, -86.25008799999999, 30.0060335, -90.23875009999999, 28.015911, -81.7334013, 42.663242, -71.1447239, 45.5469598, -122.5783765, 41.5194533, -81.51800639999999, 33.989094, -80.972471, 40.9391278, -73.7441254, 44.9802988, -93.23450059999999, 39.9356653, -91.3643347, 33.818539, -117.909195, 39.075772, -76.54839249999999, 37.3320564, -121.88505, 33.976224, -81.075048, 34.1885461, -118.3197254, 39.1862807, -76.6134312, 30.5047992, -91.1507176, 34.5891646, -86.9799804, 45.0513139, -93.360765, 39.77132, -94.80297499999999, 33.83798, -118.367418, 41.0291446, -81.4928431, 39.059134, -77.049544, 34.0206633, -118.1210451, 35.2606337, -81.20852839999999, 42.2828909, -71.11352649999999, 42.74070160000001, -84.6046726, 34.6998447, -86.58590819999999, 34.228246, -118.500659, 33.9625803, -83.3958923, 45.0497843, -93.0137594, 40.050384, -75.009517, 33.4743311, -81.9860628, 33.9394669, -117.9377261, 40.037139, -82.9630968, 35.238401, -80.884618, 36.53979400000001, -87.36513599999999, 38.562924, -90.1774901, 42.4017063, -83.2216084, 29.228345, -81.03147299999999, 28.032284, -82.422253, 47.715909, -117.425778, 39.7414441, -75.5834965, 33.9167043, -118.3082938, 40.04672619999999, -74.9034174, 41.65303129999999, -86.2497989, 38.5647512, -90.29343089999999, 33.741207, -118.292691, 34.2467685, -85.1614902, 40.1021857, -75.0294631, 47.25529, -122.445461, 41.1924461, -111.9716897, 47.1663601, -122.518492, 42.13672709999999, -72.5177693, 34.1674239, -118.32343, 44.940278, -123.0270406, 42.5205606, -71.1029307, 42.9711636, -71.45460539999999, 30.701425, -88.11490800000001, 33.9691292, -118.0986841, 41.8790212, -87.81351269999999, 37.29805500000001, -121.950424, 43.6549539, -70.280384, 34.1988846, -118.4492241, 42.421974, -76.51778999999999, 38.901331, -76.900628, 37.5887303, -77.501547, 29.267748, -81.02901949999999, 33.759181, -117.957302, 47.1916133, -122.4336427, 37.3738845, -122.0548694, 41.5545839, -72.6830793, 33.130346, -117.06799, 34.0881562, -117.7498396, 40.5985996, -75.5275645, 41.635065, -72.87272899999999, 42.3017482, -71.337098, 37.2455788, -121.8882464, 33.928755, -118.1478761, 33.7909939, -118.2609494, 37.995553, -87.54239899999999, 36.8443064, -87.48402089999999, 43.0753119, -88.0484139, 40.8267384, -91.14198999999999, 42.1975321, -72.5746155, 33.8738854, -84.3814565, 36.144557, -80.301267, 38.8174089, -77.1411641, 38.9079088, -77.0062908, 42.588693, -87.85683999999999, 39.8251286, -75.15950120000001, 37.303899, -122.031775, 41.403723, -81.79981599999999, 33.797508, -118.308493, 43.051947, -76.072525, 38.5505264, -121.4884415, 33.9198514, -84.3785161, 44.8222263, -68.77928179999999, 30.45046259999999, -91.13570849999999, 28.0846594, -80.6228043, 38.6731026, -90.39783229999999, 44.93108720000001, -93.12284600000001, 40.5815343, -74.29306079999999, 43.3307999, -73.6761412, 34.7469738, -87.6670894, 26.188614, -80.12887400000001, 34.0511271, -117.9428024, 41.5586831, -73.0529468, 42.2826286, -71.0550797, 34.0733463, -117.669769, 38.6599218, -121.3473461, 36.6698324, -121.6722235, 42.1345316, -71.1010472, 39.027825, -76.91671869999999, 38.9623895, -77.0283056, 38.2004189, -85.78303059999999, 27.974769, -82.48438, 44.987423, -93.37958080000001, 35.4051959, -97.547473, 40.7292905, -112.0057612, 40.6900517, -74.29448169999999, 43.4452659, -83.97615979999999, 38.6179071, -121.367011, 40.6102178, -80.05396549999999, 41.87966979999999, -87.7779248, 42.0824395, -87.93767340000001, 28.0115214, -81.957413, 40.58070910000001, -74.4952161, 40.7364468, -111.8876974, 43.04649, -87.95723149999999, 43.1684285, -88.1031636, 34.277791, -119.213678, 26.1210011, -80.1870483, 40.7476647, -73.5910202, 38.965814, -77.001941, 38.821752, -76.886471, 34.107821, -118.055477, 33.6431698, -117.9247698, 42.282154, -71.17483299999999, 42.1078219, -71.0248021, 41.5936453, -87.6947699, 41.5287544, -72.7774276, 27.4573041, -82.5749163, 34.18705, -118.414609, 42.6292349, -71.2764134, 33.726831, -117.888887, 37.7021301, -97.3351699, 41.024071, -73.635329, 30.305196, -81.752966, 39.4917682, -75.043322, 37.7160383, -97.2994188, 40.179962, -75.1058843, 41.7268239, -87.74149249999999, 33.9025653, -118.0984085, 38.11919, -122.255486, 39.8254773, -86.0094708, 42.3248793, -83.331473, 38.959345, -76.919555, 37.9668782, -122.3438581, 37.674243, -120.993544, 25.867021, -80.305145, 40.7738086, -73.4833094, 40.6388741, -73.6413307, 34.151462, -118.02669, 41.9680589, -87.7248408, 41.5388408, -81.6162416, 38.5589471, -121.4384821, 38.98886299999999, -94.66832, 37.882531, -122.296874, 33.788288, -117.872909, 36.9671056, -122.0390174, 34.0666575, -118.0258319, 43.1142287, -87.9159722, 34.02473, -118.458965, 40.0026439, -83.00811000000002, 41.4050646, -81.6976603, 33.874256, -117.997873, 27.4439172, -80.34018590000001, 35.0649491, -89.9051288, 35.1137618, -89.94626439999999, 25.927848, -80.195928, 25.70128, -80.2926923, 33.930656, -117.9942205, 29.9335813, -90.0077378, 34.2581754, -118.5360778, 42.5745515, -82.8891958, 42.3019311, -89.6450409, 33.945113, -118.211464, 37.9893053, -121.3125051, 33.6850315, -117.9198338, 34.1597171, -118.1328969, 41.7923723, -87.7899424, 34.1712239, -119.1770919, 33.858353, -117.9596405, 33.758809, -118.005348, 38.7167734, -90.2597693, 41.7552449, -87.63221999999999, 39.1674234, -94.57704070000001, 36.736194, -119.749379, 39.0786197, -84.4805713, 42.91379209999999, -78.8637428, 41.41541420000001, -81.92487849999999, 41.4159047, -81.7305599, 41.204955, -73.093116, 41.6733853, -81.3262249, 37.6707575, -122.1207464, 43.07996079999999, -75.3181196, 25.8722532, -80.2422414, 34.107138, -117.366842, 44.5050559, -87.9846858, 34.7563586, -86.5940749, 30.2375122, -97.7519884, 34.270353, -118.467711, 41.94447359999999, -73.996849, 38.63450419999999, -121.3287195, 41.525492, -81.587819, 40.1312124, -75.11576509999999, 37.3110046, -121.931319, 41.8440808, -87.70476239999999, 41.2497516, -76.9700575, 38.8368847, -77.0607729, 32.6704194, -117.0959486, 39.97243599999999, -82.011619, 39.635948, -86.118044, 42.9355749, -88.04766719999999, 42.1611805, -88.1394318, 33.889429, -118.351964, 33.9753301, -117.3591818, 27.9966933, -82.5171881, 33.7172053, -117.9885879, 38.9011898, -76.94163259999999, 40.458523, -74.29563379999999, 42.328857, -72.63325999999999, 38.832965, -77.207751, 33.831863, -118.075313, 33.9457804, -118.3445777, 41.9931792, -87.78348749999999, 40.725568, -111.824103, 41.6121437, -87.7170726, 43.1189298, -76.14324049999999, 40.2331064, -74.6841766, 37.6920805, -122.0897105, 38.8507555, -104.7578544, 34.0516548, -118.3690515, 39.910599, -75.09803699999999, 39.8293312, -84.8786126, 39.3557418, -76.7650898, 40.6360413, -75.4876293, 39.823259, -86.23689499999999, 44.08794959999999, -103.1979319, 42.5143861, -92.4462748, 42.03505699999999, -88.314162, 41.137656, -73.4249899, 40.5656727, -89.6368377, 38.7598278, -77.4614015, 42.683448, -73.7946929, 41.73655919999999, -87.5888325, 39.36745790000001, -76.71657859999999, 36.1954663, -115.1285385, 34.1426763, -118.2364734, 34.1392098, -117.98093, 26.166776, -80.148788, 33.959672, -118.301066, 42.33460230000001, -83.27235189999999, 42.4710827, -96.3542954, 41.8882771, -87.8334915, 38.844552, -76.890721, 41.93076629999999, -87.6433685, 40.8033575, -74.1462671, 32.626973, -117.087417, 38.8626484, -77.08852569999999, 44.1665742, -93.9713513, 40.321088, -75.9345769, 39.926278, -75.30603909999999, 26.0105437, -80.2049821, 40.2104503, -74.7951137, 25.8225617, -80.2719164, 33.975062, -118.231177, 42.7637502, -71.2161871, 38.7235974, -90.12145459999999, 41.4453196, -75.669646, 39.9579656, -74.97958779999999, 33.8316632, -118.0030816, 37.707855, -122.1328704, 40.7679049, -72.9867459, 38.2367119, -85.7172393, 34.117421, -118.149902, 38.996347, -76.905377, 33.8348085, -84.38247609999999, 32.7360477, -97.11374099999999, 34.1724239, -118.3723008, 34.1502089, -118.091386, 41.4069741, -73.4437938, 32.523885, -92.112343, 34.2429565, -77.89165340000001, 47.4841129, -122.2179111, 42.89371329999999, -85.6658131, 34.000282, -118.402876, 41.596108, -87.499696, 33.9464355, -117.4215334, 36.5948827, -82.2140944, 41.64858419999999, -83.524202, 39.0259256, -76.4443282, 38.89303, -77.274907, 37.9659375, -121.2746583, 33.8909933, -118.3015796, 34.03978, -118.1443552, 37.2900008, -121.8807448, 33.9570309, -118.0385021, 36.1200201, -115.1380273, 42.958787, -87.91319000000001, 42.2790961, -83.2700235, 42.3001521, -85.5687548, 41.57181, -73.008443, 34.1070885, -117.8646449, 43.074244, -73.787797, 39.7540819, -86.247236, 38.047232, -84.553113, 43.09227740000001, -70.7995201, 39.7874985, -86.21750730000001, 39.0438312, -95.67619549999999, 43.109952, -75.21904119999999, 38.8506765, -76.9220516, 38.878476, -77.12144599999999, 42.023435, -87.89702299999999, 39.8458517, -88.9316489, 34.2982834, -118.4372837, 42.7980084, -73.92444379999999, 33.849258, -117.88878, 37.3383398, -121.9939173, 32.3802049, -86.275623, 47.255868, -122.521511, 26.2688884, -80.09895929999999, 32.753715, -117.218495, 40.0975069, -88.2452826, 42.55688, -70.96741999999999, 43.0666939, -89.326623, 47.738898, -122.345876, 34.2168875, -118.3881134, 39.3393976, -76.6679621, 41.3963909, -72.8556997, 34.0886995, -118.309546, 40.191842, -85.419497, 41.1490943, -73.2447456, 34.1064781, -117.6492351, 32.2066639, -110.921414, 32.2364559, -110.94606, 30.4560144, -91.0731017, 37.31245, -89.545827, 42.3241995, -83.3750562, 35.788295, -78.6490992, 40.0964863, -74.9458305, 33.8976266, -84.3026161, 39.1413979, -121.6292656, 43.1652268, -77.69258409999999, 41.1032803, -80.704324, 39.7378968, -121.8354079, 34.0550677, -117.175348, 39.9988334, -105.2535062, 38.6762726, -90.2506338, 44.0347211, -92.46251099999999, 33.7304518, -118.0143612, 40.8726201, -73.8523307, 38.9612686, -76.8620067, 34.0302453, -118.3347211, 39.5278861, -119.8270327, 40.665825, -74.237821, 40.3273005, -75.88099670000001, 38.7725896, -90.491381, 40.6738969, -73.729096, 39.9641688, -74.19741429999999, 33.87141140000001, -118.0827881, 26.70693, -80.089078, 39.653471, -104.906808, 43.9140162, -69.9669961, 40.7591594, -86.310576, 35.1076592, -89.8858903, 40.243498, -74.281195, 34.1491626, -118.4362415, 41.8289657, -72.4965805, 31.1264496, -97.72744159999999, 29.6530737, -82.3389782, 34.1189931, -118.1927832, 33.480692, -111.985722, 39.0760363, -77.0009298, 39.3744191, -74.5537686, 40.698687, -73.9534879, 25.7631406, -80.3130212, 27.79384, -82.729586, 46.8430587, -96.7978804, 40.3686105, -80.03782389999999, 34.4368989, -119.830214, 40.64379599999999, -111.8883062, 33.5492029, -101.8589797, 27.1894901, -80.24830899999999, 34.8237227, -82.3936715, 39.0396381, -77.0573029, 38.319945, -122.298451, 34.228695, -118.554491, 34.9296198, -120.4353913, 38.57397350000001, -121.4849965, 30.358136, -97.7309992, 35.45014800000001, -97.40249, 34.0355738, -81.00444, 33.805831, -118.354099, 33.9752071, -118.3311795, 39.7953959, -75.546903, 40.201609, -76.770235, 27.8064436, -82.6380844, 28.47327, -81.397095, 34.011239, -118.293861, 33.7275014, -117.8850248, 42.3456366, -83.15692299999999, 41.5686062, -83.6564971, 34.041633, -118.308543, 34.026659, -118.199328, 39.1111339, -77.5575479, 42.704185, -73.1063369, 38.2471584, -85.77212089999999, 47.9102043, -97.0445373, 37.9691479, -87.493822, 41.5061742, -87.71339549999999, 32.8231809, -97.2023498, 27.9451841, -82.51992469999999, 44.4674989, -73.175629, 33.5237804, -112.1086245, 40.7639337, -73.8811551, 40.799573, -81.39339439999999, 33.9165643, -118.3718535, 43.0339434, -88.1061417, 41.5479172, -72.09443879999999, 25.6528835, -80.3294937, 33.8496083, -84.2168434, 42.1564385, -71.2438355, 40.6862267, -73.7938468, 33.8742351, -117.923198, 40.7688698, -73.7375002, 40.8046036, -81.9348657, 39.227117, -76.640492, 39.0717964, -84.3451449, 35.1925013, -101.8847486, 35.82809, -90.678479, 31.1554898, -81.47940899999999, 24.571806, -81.7568639, 21.2789857, -157.7534205, 45.5497304, -94.2165351, 61.1947049, -149.8986368, 33.7457885, -117.8220602, 34.194578, -118.500689, 33.9711322, -118.0654156, 34.272168, -118.770372, 21.2868826, -157.806448, 37.180645, -93.246332, 42.9036394, -87.865139, 38.602125, -90.4385439, 41.3845937, -81.44008529999999, 41.6783211, -70.3130315, 42.2223872, -72.6417132, 33.203562, -117.364025, 36.0401895, -79.8002388, 40.4797131, -78.4024151, 35.653062, -88.8292115, 37.3724305, -79.1847023, 33.5774709, -101.8664187, 38.654501, -77.25205199999999, 41.3520591, -72.0591365, 43.4493225, -76.5364651, 41.71721160000001, -72.23337769999999, 39.4238897, -84.5629647, 37.5342712, -121.9666609, 33.8462811, -118.1159635, 32.797605, -117.249478, 38.0011916, -84.5207527, 37.556852, -122.014015, 39.1765756, -78.1694484, 40.1137769, -74.2183317, 37.6277196, -77.532401, 41.8179367, -72.86842659999999, 35.931337, -84.02341700000001, 43.666189, -92.98684279999999, 38.2858196, -85.57876879999999, 47.4944823, -111.2770487, 45.7836818, -108.5427508, 38.1773421, -85.8209401, 42.4689948, -83.2790679, 36.5875364, -79.422929, 41.722994, -72.615449, 33.4802112, -112.11092, 34.256823, -118.589573, 21.3954407, -157.7428489, 34.7733984, -92.3610094, 28.2282739, -82.73042009999999, 27.9382814, -82.29167199999999, 32.5001469, -94.73417339999999, 43.0903707, -87.9474879, 42.4386271, -83.311365, 41.5672512, -70.5946116, 42.1927169, -71.1986864, 42.871989, -78.79369899999999, 34.0193034, -118.4070028, 30.8581, -83.2817, 33.8433133, -84.2578375, 35.115224, -85.2544314, 33.8812798, -98.52840440000001, 34.033968, -118.4729496, 31.2471243, -85.4257646, 27.9598021, -82.7871041, 41.5404016, -72.65354909999999, 39.9147857, -75.01275439999999, 34.0998964, -118.1177039, 30.416352, -91.142203, 32.4511549, -99.76753339999999, 32.33429, -95.290432, 42.2742868, -71.2374964, 34.0585285, -118.2124003, 41.6750329, -83.6835767, 34.0842283, -117.9678658, 42.2320942, -83.2701277, 41.142321, -81.35816299999999, 42.9118502, -85.5977896, 37.3185763, -120.4732642, 27.9966964, -82.4386121, 31.859963, -102.348829, 39.5148551, -76.1597944, 43.1767407, -84.8530926, 40.0944449, -75.2900105, 42.5421852, -71.7604971, 34.052499, -118.3442835, 26.1010019, -80.1362694, 41.69896139999999, -86.00357, 43.0009277, -82.4392424, 35.3376799, -94.4231568, 33.901669, -118.029558, 41.9068055, -83.4049308, 38.9161849, -90.1514629, 40.1665638, -75.0468449, 44.3153434, -69.8043539, 42.20226, -87.834992, 44.59845749999999, -69.5948686, 41.2880154, -72.3938058, 39.2013452, -94.4944936, 43.0763417, -77.6069626, 41.280215, -72.847983, 40.7984641, -77.8558293, 37.9621737, -121.9865609, 38.2692756, -122.0337018, 33.6690703, -85.8267188, 38.884049, -94.8064179, 39.090876, -77.04708699999999, 39.8418837, -96.05711099999999, 38.0158918, -122.5408049, 39.3137042, -82.10419480000002, 36.0470801, -94.1588367, 47.543295, -122.3869228, 48.755515, -122.463007, 45.17574, -93.27729500000001, 40.0322879, -75.1065778, 42.1886592, -87.8018333, 45.5530974, -94.18311380000002, 38.91198199999999, -77.038129, 27.6414107, -80.3890899, 39.1169709, -94.75473620000001, 34.42227980000001, -119.6802103, 41.2280092, -73.7122909, 41.7533488, -72.7147358, 36.864192, -76.4050297, 39.021851, -94.663309, 37.5542665, -122.316473, 34.1868801, -79.80861829999999, 33.395786, -86.96911700000001, 41.18970179999999, -73.1545228, 34.095258, -118.284197, 41.9369937, -88.00084340000001, 41.5284089, -87.63523459999999, 43.5439237, -96.75754750000002, 41.9639818, -91.70691389999999, 43.6371142, -70.3333146, 35.439703, -80.6067425, 31.87988, -106.422081, 21.3246372, -157.8756983, 33.4866173, -112.0297471, 37.8494309, -122.2858834, 44.9282473, -93.223963, 40.112587, -74.76924199999999, 40.0679152, -75.3115464, 34.0916614, -118.3443589, 30.687767, -88.0501773, 27.2619636, -82.5233516, 36.8755288, -76.1354944, 36.8550654, -76.20708139999999, 33.94519500000001, -118.265532, 41.4865589, -87.04966189999999, 36.120846, -86.774733, 36.0724884, -86.72416129999999, 36.1429164, -86.7436592, 35.1165476, -106.5343143, 33.66655009999999, -117.9879453, 39.1458856, -75.5157651, 37.2509327, -121.8318984, 42.62903410000001, -73.8089136, 34.170459, -118.28946, 41.5331773, -72.7900129, 42.599776, -72.59437799999999, 33.5380416, -112.1538286, 41.3009203, -75.8540952, 40.77012130000001, -74.28169489999999, 39.8962675, -83.8109566, 31.3251022, -89.33685419999999, 39.81448, -74.988342, 40.4422917, -79.99894549999999, 38.9225919, -77.04248849999999, 37.2783071, -77.3092891, 41.9276937, -87.9402374, 38.4237839, -82.4205204, 37.9758834, -122.5470207, 42.3028287, -71.40087989999999, 36.820193, -76.2227039, 42.2026063, -71.0043845, 36.953593, -76.252353, 43.510196, -70.43472899999999, 42.474008, -71.212446, 42.5232087, -70.9216959, 40.6561329, -74.40160999999999, 26.1395348, -80.2020601, 27.9971049, -82.5696644, 34.0351751, -81.0898551, 32.3277196, -86.2550694, 29.4386181, -98.5056219, 41.482808, -81.733659, 33.8291436, -118.2633744, 21.394507, -157.9696611, 35.22160960000001, -101.8300163, 40.4858171, -74.4703818, 42.7713616, -71.0762871, 40.696437, -75.1798759, 42.0921182, -76.8094344, 39.723681, -90.2374552, 41.7524991, -87.9648567, 42.46559300000001, -82.935898, 47.6225933, -122.1330081, 34.7042684, -118.146783, 19.6396847, -155.9906583, 39.441591, -76.62778399999999, 39.1640281, -76.6216424, 42.1282985, -80.04482469999999, 27.8808529, -82.8306503, 32.7046948, -97.44980760000001, 37.7062062, -121.924256, 38.9424196, -95.2446887, 41.7583703, -70.6591175, 42.0492541, -88.0936131, 43.3112409, -76.4018928, 34.217154, -119.177851, 33.687621, -117.953552, 20.8876041, -156.4650445, 47.5974826, -122.6289127, 26.6223943, -80.08944699999999, 37.3914328, -122.0963175, 32.8018459, -117.011701, 38.757357, -90.430093, 38.5862897, -90.27602069999999, 43.2138516, -71.5129324, 34.415368, -118.46449, 37.0691109, -88.62625589999999, 37.7298809, -89.2425188, 42.5043385, -90.72191939999999, 40.901214, -81.09569499999999, 41.3578759, -83.6510705, 42.3650551, -71.1963045, 40.7493262, -73.3249929, 43.1188626, -87.9848248, 42.5865069, -70.8857355, 42.6261012, -71.36071079999999, 42.1218168, -70.9149826, 42.1136668, -72.7269629, 38.7200821, -77.1248635, 44.2274646, -72.5515739, 39.4497606, -76.8181108, 46.6869439, -68.01272999999999, 34.440889, -119.753051, 32.6132741, -117.0694695, 34.8912005, -116.9990986, 37.8918541, -122.5161944, 42.37656260000001, -71.2421474, 41.9047177, -71.01981599999999, 40.1085989, -82.9244543, 41.482618, -81.769319, 39.6890135, -86.14938479999999, 40.4310413, -86.91311329999999, 39.80602469999999, -84.0300286, 37.5228899, -77.441656, 37.5620998, -77.4426744, 37.5460118, -77.3656895, 41.9600172, -87.7939877, 45.673783, -122.663643, 25.9448275, -80.1632158, 26.2320324, -80.1036177, 36.8089555, -119.7187975, 44.1157418, -69.1050778, 41.6435865, -72.7695504, 40.799173, -73.006038, 41.4574164, -74.3802582, 47.65357909999999, -117.402847, 40.5572711, -74.34283529999999, 42.1262368, -71.51795179999999, 30.378054, -88.5280452, 43.97721900000001, -75.932863, 39.9374445, -75.0761189, 39.95443119999999, -75.20233189999999, 41.5673927, -73.4148429, 44.6967303, -73.4815291, 45.02782209999999, -84.6831091, 37.748945, -87.11394399999999, 42.5896669, -83.0299479, 37.0440814, -76.3504426, 39.9781462, -76.681938, 33.539235, -84.365053, 21.4478357, -158.1889368, 42.6660577, -71.3037616, 40.8953678, -72.39834859999999, 35.492832, -97.63579, 39.8770612, -88.9555204, 37.502837, -77.520583, 38.3052364, -77.479731, 38.7262949, -77.8030424, 38.0486032, -78.5043915, 42.605918, -83.294912, 34.2925893, -83.829894, 28.0550722, -82.45013039999999, 40.022512, -75.077527, 38.8637244, -77.2753798, 39.4309214, -77.42158540000001, 39.9002876, -75.3039908, 40.6157539, -79.1706062, 40.0154719, -74.95490889999999, 39.2181335, -85.8859253, 42.244736, -71.7589969, 39.8027341, -89.66106189999999, 41.8493216, -87.9725105, 34.0035893, -117.8889978, 61.2096679, -149.7756292, 32.583454, -117.109722, 37.6522277, -122.4912646, 35.5675021, -82.544376, 40.218547, -85.376223, 41.4695729, -81.704942, 37.7814205, -122.2342783, 34.885543, -82.3542113, 27.7967263, -97.44077109999999, 44.0960032, -123.1265049, 42.2087825, -71.8356477, 40.1460974, -74.9934719, 42.4537497, -75.09083249999999, 31.7696378, -106.4266027, 21.456497, -158.015728, 21.2753368, -157.7858233, 21.9779315, -159.3687853, 38.76665, -76.8862989, 33.7385185, -84.4258206, 43.5596803, -71.4530394, 39.925118, -82.878784, 47.667693, -122.3003711, 32.5093109, -92.1193012, 32.8575124, -96.7483034, 33.847005, -84.429653, 42.4456393, -83.08310780000001, 29.357066, -98.527993, 33.9282788, -84.55051139999999, 37.8984453, -122.0627341, 40.654151, -74.3211199, 43.198784, -77.94189, 40.84866, -73.244011, 43.6782858, -70.3348606, 34.1625293, -118.5175428, 41.539895, -74.0441139, 42.05907699999999, -87.841858, 34.651558, -120.458291, 43.3688984, -72.3255425, 43.3150459, -70.9770537, 42.3552331, -71.0630443, 42.0945846, -72.51299329999999, 28.8243255, -81.8870576, 41.716749, -71.267788, 25.940164, -80.245729, 29.5070043, -98.49983250000001, 41.6028972, -87.7530948, 42.50071, -94.1615975, 41.5836782, -88.16802400000002, 40.8988599, -73.3303914, 40.8704868, -72.9990696, 38.1954576, -85.8416608, 36.573089, -82.1935759, 36.5487365, -82.51942249999999, 43.0607233, -87.9234014, 40.4353737, -79.7868838, 40.9150259, -72.6611762, 37.833517, -122.262884, 40.284325, -74.01887599999999, 46.586557, -120.496717, 41.6972126, -73.9060904, 39.7170568, -75.1127794, 37.129694, -76.5358755, 32.9270547, -96.81174, 33.5245959, -86.7227101, 43.0226271, -87.9455199, 39.104972, -94.51967529999999, 44.9492394, -93.2982995, 46.7998713, -92.1297707, 42.5206759, -82.9888142, 36.101252, -95.92174899999999, 32.518605, -93.71617599999999, 32.797307, -116.935109, 44.005064, -92.47497899999999, 38.5911526, -89.984295, 33.615912, -117.707937, 13.4828892, 144.7733742, 42.9531604, -112.4665251, 42.2980408, -71.76671859999999, 34.011428, -117.965982, 41.3724515, -81.8271463, 37.723447, -122.455509, 42.1115471, -87.9811592, 41.29276460000001, -73.8596069, 41.661273, -87.79375300000001, 33.9824618, -84.5584846, 25.7499596, -80.2484496, 39.829389, -86.042399, 42.5713947, -71.277186, 42.1439592, -70.8450953, 37.0413704, -76.3872622, 39.1145156, -77.16350659999999, 38.86903, -77.226721, 43.4329001, -70.7703962, 34.8675106, -92.1181307, 40.764834, -84.15450299999999, 41.7246532, -81.247983, 44.590917, -123.254188, 40.6447189, -73.9216671, 40.8409062, -74.82427299999999, 39.794687, -86.046334, 40.200114, -77.177429, 34.2093663, -84.8273506, 44.8983946, -123.0378728, 25.7733807, -80.2117799, 40.6789893, -73.4170673, 40.8087747, -73.5164994, 42.0555566, -71.8734535, 42.4426628, -73.27493179999999, 40.7022807, -73.81430759999999, 40.5835552, -74.62198649999999, 41.25875480000001, -95.97367469999999, 40.9191886, -98.3528079, 38.7844369, -77.131554, 40.8038432, -73.4114281, 41.7387153, -72.65934349999999, 33.6160819, -84.47277620000001, 42.9923616, -83.73420159999999, 38.8046274, -76.9762393, 43.5959451, -72.9700395, 43.049417, -70.77168979999999, 29.483926, -98.54605199999999, 32.8397344, -96.9760008, 27.4435996, -80.3262644, 42.3989778, -83.3351314, 40.7806384, -73.24717559999999, 40.7254649, -73.5483867, 40.6578184, -73.8399785, 37.4178563, -121.8716266, 25.6008929, -80.35234349999999, 40.7078289, -73.693499, 43.628423, -72.3221007, 40.44113900000001, -79.957151, 41.9262684, -87.88439939999999, 41.6156212, -86.73200680000001, 42.4852023, -71.2600701, 31.457445, -83.52671, 26.0217031, -80.2490418, 35.4346874, -97.4368295, 33.71336700000001, -116.2352651, 34.0681145, -118.2919335, 44.494886, -73.122338, 27.9897226, -81.6729048, 41.5624515, -87.5150503, 40.02236800000001, -75.050718, 44.3926679, -71.1861869, 42.6889137, -83.3832278, 41.019073, -85.1698406, 42.7002212, -84.56674280000001, 46.87209960000001, -96.7672521, 39.472221, -87.3728701, 41.9888902, -76.5281861, 34.270911, -85.2286309, 38.843417, -77.11206399999999, 40.5889447, -73.8169612, 42.9258087, -72.2894051, 21.401804, -157.7978624, 42.122748, -80.085092, 40.7200906, -73.8451846, 37.2083401, -79.9550951, 26.035697, -80.1437152, 40.8379699, -81.326617, 33.8582939, -118.0452211, 40.8858602, -73.1231028, 42.475985, -83.0802709, 41.7718298, -71.4532977, 29.46997, -98.463022, 32.8507687, -96.81398080000001, 41.0937568, -73.4518858, 42.2117019, -121.7544538, 38.985975, -94.6075819, 38.9377824, -92.33303839999999, 40.714878, -89.5943089, 39.1503562, -92.68994219999999, 38.6641068, -121.2912603, 34.0805621, -118.2606555, 40.8002685, -72.8024823, 41.4808681, -87.6378211, 28.514505, -81.3769698, 33.543837, -86.748553, 42.9833348, -78.6962541, 40.7382066, -74.2250944, 32.743482, -96.83430100000001, 44.5309848, -68.4068182, 39.8950441, -74.9401785, 43.3032736, -70.5861206, 43.0604841, -87.99559479999999, 44.7638335, -85.6069467, 32.6178015, -83.64071229999999, 28.1422164, -82.7410831, 33.5539289, -86.8189326, 41.1788256, -73.9474249, 32.8185416, -96.8138622, 46.413243, -117.001548, 33.5096941, -86.7876725, 36.2952734, -76.2406671, 29.548235, -98.292096, 36.59970940000001, -121.8880626, 44.8821588, -93.3195992, 44.0270119, -71.119165, 28.011397, -82.39415199999999, 28.0862582, -81.97232609999999, 40.0762231, -76.2959963, 33.193911, -117.2351595, 42.486331, -83.201549, 39.985218, -75.156022, 38.073317, -78.902232, 43.2198011, -70.8858794, 40.300141, -76.9280239, 29.4066296, -98.6296814, 39.8159247, -76.992839, 41.98395900000001, -87.66928999999999, 21.30242, -157.846484, 33.6134356, -117.893854, 41.550303, -87.24217999999999, 40.384943, -75.926401, 36.738034, -76.583069, 38.4810255, -77.9924757, 38.6292585, -76.9066217, 40.9224839, -73.05111099999999, 41.4630801, -75.65399579999999, 37.7718041, -122.2761119, 42.2516016, -83.6656629, 41.442474, -71.48315590000001, 42.1138189, -79.2077893, 42.43241, -71.6871165, 42.0471286, -87.9377033, 29.814582, -95.430016, 40.79443, -73.972464, 38.3612303, -121.9723025, 41.7401098, -87.7213001, 41.3997257, -75.6732904, 38.3161829, -85.8050102, 31.531324, -97.188594, 26.161271, -80.115836, 40.330534, -74.0744931, 42.314682, -122.788413, 44.0592832, -122.999327, 41.361973, -81.687334, 33.44601000000001, -86.7902, 39.0453115, -95.72517889999999, 37.6920036, -122.4712898, 39.16476, -86.49527499999999, 34.1652289, -117.281195, 29.665449, -95.1941159, 34.4047987, -103.2052272, 42.0774238, -78.4596096, 40.7094067, -73.5911691, 39.636373, -78.837912, 36.9183601, -76.1926527, 37.0373978, -76.3144463, 32.833143, -117.201883, 37.9548117, -122.0419721, 32.7957655, -115.5695077, 40.632331, -73.947994, 42.89062610000001, -71.3266019, 42.7083441, -71.4420392, 32.782895, -96.81429399999999, 38.072039, -84.47558649999999, 31.8276201, -106.4446063, 41.435576, -75.62017159999999, 38.7964236, -90.2319381, 34.0945019, -84.0120371, 41.3384926, -89.1196755, 33.94848, -83.98769290000001, 39.2624946, -76.52667509999999, 38.5651562, -76.07398909999999, 40.5706482, -122.3569389, 36.5714047, -89.9705896, 40.0858413, -82.9612073, 40.4996891, -74.8542051, 33.0489691, -85.0236383, 36.2064013, -83.3232962, 41.9983634, -72.5834819, 42.3158773, -83.10594429999999, 42.509468, -82.9638039, 40.9799564, -75.9799559, 38.78166119999999, -77.2342086, 38.911897, -78.188447, 38.3155255, -88.9264729, 43.0336688, -76.19048409999999, 43.858341, -91.24070499999999, 29.7913338, -95.5451451, 40.8737337, -74.53496679999999, 46.5455128, -87.41842489999999, 40.048172, -76.293106, 27.189272, -80.250244, 33.951298, -84.509413, 33.5002217, -86.8471962, 41.011148, -73.946167, 40.0308234, -75.0853982, 42.4280274, -79.3500997, 37.928177, -122.320953, 45.45957910000001, -98.4638059, 30.1986455, -93.21225779999999, 43.0789248, -75.6508611, 37.7369586, -84.3109575, 39.8453148, -84.1142296, 33.5709519, -84.413189, 41.3312024, -73.0815489, 41.8608166, -88.0095831, 40.763862, -111.87148, 41.9194082, -73.0585936, 40.8044737, -124.1527739, 46.590843, -112.0065312, 37.8017107, -122.2649849, 38.697321, -93.25011699999999, 38.5029518, -89.9821607, 30.2164086, -92.00285819999999, 42.2569531, -72.249808, 40.780748, -73.802319, 41.3721474, -73.7351413, 44.865132, -93.041887, 41.660185, -70.2034233, 39.9299424, -77.63909389999999, 29.790467, -95.1875247, 46.8691524, -68.00299, 29.7705312, -95.6016348, 38.592369, -90.553809, 36.395891, -97.863162, 41.593826, -85.857868, 41.4550946, -74.0498257, 41.81538260000001, -86.24747839999999, 64.8372382, -147.7595899, 37.3669455, -121.8485785, 39.942464, -75.590838, 45.493978, -122.810757, 42.3593716, -83.4624829, 42.6605491, -83.4031658, 39.3354, -82.97501360000001, 27.1067192, -82.4372044, 27.726825, -82.679852, 40.1241219, -74.06846209999999, 29.004924, -80.915498, 43.6502119, -93.36210290000001, 43.7283987, -87.7322166, 41.8940302, -88.1023833, 35.217782, -89.9136429, 46.7137487, -92.10313239999999, 34.0203624, -86.0202247, 40.6175831, -74.4257642, 44.6830418, -74.9874683, 40.7605211, -73.926169, 32.8068463, -97.1555679, 32.5476998, -94.34755650000001, 31.6884812, -89.13583469999999, 42.7188553, -83.41729749999999, 28.6735504, -81.5065317, 39.435948, -76.306214, 41.4924803, -73.0792177, 41.3526245, -74.685645, 43.0055606, -78.208013, 41.588561, -87.44044699999999, 29.7029027, -95.2943143, 42.2623668, -84.75704379999999, 42.533955, -82.911811, 34.154804, -118.475066, 41.1649845, -112.0265696, 38.9018108, -104.7684239, 47.0442585, -122.8330299, 40.6924472, -73.6836745, 42.4686224, -83.3564942, 32.6806113, -114.6253038, 42.612322, -83.32817299999999, 43.0699678, -76.1030007, 36.7435497, -119.7898058, 34.163531, -118.826775, 41.557643, -87.69329259999999, 38.7142296, -90.45668099999999, 40.1327601, -74.83007409999999, 34.7610055, -85.0032545, 21.3211927, -157.8591536, 42.5784467, -72.0038458, 42.4579161, -87.8252685, 43.0100247, -88.2364966, 42.2634404, -85.1980626, 40.7358114, -82.8024015, 32.356408, -88.687417, 38.9586218, -85.8759376, 38.6127113, -121.4470407, 33.9488284, -80.37588319999999, 41.1380376, -88.83624569999999, 41.6799156, -86.1947052, 40.71333449999999, -73.9097001, 40.73702369999999, -73.9794773, 41.3558599, -88.84005839999999, 29.72791, -95.41911499999999, 27.894521, -82.5178509, 44.3757261, -89.8177786, 40.120587, -88.277439, 31.570972, -84.1079189, 33.231252, -97.134998, 29.730866, -94.9574026, 33.4284662, -84.1790855, 25.7611546, -80.3549566, 44.6644458, -70.14871459999999, 33.247731, -84.2727015, 35.841375, -86.391233, 34.069609, -117.435092, 47.3529267, -68.30149999999999, 41.10695949999999, -74.03548479999999, 39.4989181, -84.35510620000001, 41.0581722, -83.66337419999999, 44.517162, -70.55845699999999, 40.7504515, -73.9906695, 31.5495244, -97.1246343, 35.650259, -106.001093, 38.7464539, -121.27148, 44.2937946, -73.99529000000001, 39.179477, -119.766515, 42.8679578, -73.9334832, 39.2669446, -76.8330931, 42.3567028, -82.98779569999999, 40.7221527, -74.08478319999999, 25.76331, -80.262913, 45.0351739, -92.81151659999999, 32.3254829, -90.8652134, 39.407627, -77.3884592, 42.5320137, -83.1804611, 40.7779191, -73.9825668, 40.7381055, -73.88323190000001, 42.2695216, -71.61612939999999, 39.6393206, -77.71393929999999, 41.6271841, -81.4279541, 40.759006, -73.830311, 42.56708, -114.460944, 39.151806, -123.1988196, 41.0264464, -73.7933598, 42.13901509999999, -83.2486002, 42.72233, -84.425049, 43.48051299999999, -83.9739833, 43.0122062, -85.68795469999999, 41.2829829, -84.334171, 42.2965564, -85.6565395, 39.79737859999999, -84.1296728, 39.761302, -75.521807, 29.5487107, -95.09803529999999, 42.4998379, -90.664644, 43.0322706, -89.45711279999999, 37.1012034, -94.4765391, 41.95371919999999, -87.7183771, 43.178427, -88.011111, 37.2367226, -93.26052879999999, 42.953255, -88.00779999999999, 30.6709966, -88.1493694, 30.7198941, -88.1576785, 33.5722409, -85.09335779999999, 36.327596, -119.650434, 37.6781054, -121.7755343, 21.2939146, -157.8281465, 46.84006189999999, -114.0297016, 35.3399519, -119.053616, 34.0238749, -117.688817, 28.305031, -81.411498, 27.8363037, -82.78653779999999, 36.1922685, -86.62502169999999, 35.1898877, -84.8801775, 39.4080719, -75.0389434, 41.63476929999999, -80.15448909999999, 32.475132, -93.79840399999999, 36.884965, -76.281859, 40.6150017, -77.5685692, 41.37416899999999, -83.630224, 36.8113196, -76.3639223, 36.9286746, -76.31733349999999, 30.3227832, -81.5437615, 35.2033925, -80.73809720000001, 36.3001689, -86.69997599999999, 28.8237114, -97.0002774, 41.8010449, -89.6670765, 43.7265354, -98.0256697, 35.164052, -101.887431, 36.3509248, -82.2217658, 41.9304603, -87.7093132, 42.8769492, -77.26959839999999, 39.6493573, -79.9640996, 32.8200146, -79.9918703, 33.4346149, -94.06198189999999, 40.2900036, -83.067985, 34.1639663, -118.9432563, 38.5264017, -89.1247862, 40.2822401, -86.0308554, 41.5715583, -87.55923480000001, 32.9257559, -96.7686085, 40.3404172, -76.0393994, 45.0725096, -83.4452493, 39.2846942, -76.7524135, 27.5093732, -99.5039469, 42.8473431, -70.9115925, 42.6841923, -73.8486307, 42.4733615, -71.0235921, 44.1066501, -70.2267194, 40.6794275, -73.6147567, 41.4329366, -79.7073054, 32.2878796, -110.9787876, 39.4594281, -75.2091276, 39.7615737, -75.0483076, 30.1811645, -85.7084473, 36.405295, -78.9787754, 40.8728659, -73.8787725, 34.0566173, -118.4260218, 27.7522236, -97.41953989999999, 28.0251433, -82.1506531, 29.8280157, -95.3756611, 36.1013003, -86.817685, 36.1375545, -85.5026512, 33.702856, -78.8706629, 33.828635, -117.835639, 37.3629621, -122.0271999, 25.958959, -80.20528999999999, 29.2882279, -94.8374809, 40.5418714, -74.42332619999999, 42.0575605, -76.7937989, 40.658662, -73.66223, 33.4004532, -104.5232398, 36.7047069, -121.6532954, 39.98854499999999, -75.789486, 41.516753, -81.6524644, 34.7351433, -86.6268764, 30.0054427, -90.17210419999999, 36.9525477, -120.0755466, 32.47112, -85.02866600000002, 39.0139463, -77.371732, 33.9139516, -117.4588335, 37.6832026, -85.850179, 32.8378519, -116.9841272, 27.4704108, -81.44245459999999, 39.9196722, -75.1883675, 40.7658119, -73.98312299999999, 28.82708289999999, -81.6859295, 40.2313461, -76.95330899999999, 40.3841464, -79.8240156, 33.886608, -117.863486, 43.0529803, -75.27177879999999, 33.6627731, -96.5976994, 43.1600955, -77.565856, 41.3285848, -72.9665981, 40.0267743, -83.1613369, 40.5992539, -73.9890666, 40.6732402, -73.5106497, 45.7511818, -87.07978779999999, 41.03413159999999, -73.7698614, 42.0554351, -73.9567915, 44.9486113, -93.2736035, 36.710188, -76.237774, 33.8027482, -118.0706171, 40.6994719, -73.9105797, 32.5124745, -92.15790679999999, 30.4325868, -91.0574512, 43.4147224, -83.90602969999999, 30.2486308, -81.6972603, 34.6435402, -79.00986329999999, 40.013141, -74.874003, 39.6855789, -75.5848767, 40.6264, -79.7221746, 36.135503, -95.850432, 35.9559321, -83.9333312, 35.5037159, -82.9912246, 26.1524495, -80.2566056, 40.653762, -74.0054378, 43.0431832, -75.3868351, 44.4230582, -69.02032779999999, 40.6254667, -74.14934339999999, 42.26911, -88.8534169, 41.8233813, -87.6886653, 43.45691739999999, -88.81682590000001, 39.9498363, -75.1695625, 39.736901, -86.102209, 35.7852453, -78.6880304, 37.453956, -122.1831145, 37.2327971, -80.4188679, 45.7700869, -108.575233, 45.1837277, -67.2831528, 38.7930919, -89.9506799, 40.8288843, -73.1990015, 35.9107551, -79.0611364, 26.1300613, -81.77164789999999, 41.9385289, -84.985502, 41.794078, -85.4290589, 42.3992686, -83.0004828, 40.644542, -73.901252, 44.9488075, -93.226789, 33.5799469, -112.0135027, 34.9818561, -101.9193168, 26.179899, -80.203059, 40.749802, -73.616776, 29.90284399999999, -81.319989, 29.7279534, -95.3450002, 37.7355431, -88.93298039999999, 41.162553, -81.47573600000001, 40.6655444, -74.11722, 40.4374426, -74.22287349999999, 39.2819479, -80.3486745, 35.317222, -78.6269978, 39.408043, -86.437533, 40.8793619, -74.6485728, 43.0601025, -83.7582666, 44.9681737, -72.1223882, 33.8695912, -84.5268469, 42.74379, -71.1510969, 42.0686578, -72.0091595, 43.2182091, -75.4776849, 42.6547827, -77.0584308, 28.228959, -81.6484849, 26.3689645, -80.0770694, 44.7327598, -93.2210516, 29.9146223, -95.4112237, 35.0864147, -106.5160208, 40.699886, -99.0724805, 35.2682574, -77.5821924, 44.2943365, -93.2771068, 39.842229, -105.082576, 41.9249058, -83.3652426, 38.7753269, -85.4027835, 41.881811, -88.1939379, 38.308493, -104.6174217, 40.6701624, -73.8603037, 41.37289070000001, -75.7004898, 44.9179212, -74.88873869999999, 40.89137119999999, -74.51402039999999, 41.6780955, -70.9406863, 28.661378, -81.39174299999999, 34.9929273, -80.53935, 43.9669542, -75.8788587, 40.563941, -84.174807, 41.4305111, -74.423435, 39.2903303, -76.6191759, 39.9210415, -75.38480299999999, 47.3720218, -122.2051945, 47.4366396, -120.3240917, 39.80407599999999, -85.770568, 40.0238437, -86.9023502, 40.688432, -75.2207323, 39.9047276, -86.06408739999999, 33.500717, -117.659395, 41.9284539, -72.669746, 41.2850043, -72.93651679999999, 34.02463669999999, -84.52806269999999, 33.059954, -83.2290356, 33.0252586, -80.1705353, 33.7577366, -84.50344369999999, 33.4404764, -82.02119379999999, 36.7463696, -95.93449199999999, 44.0702681, -121.3009691, 35.548124, -97.61717, 38.0037362, -121.8345394, 31.5542415, -110.2786748, 34.5802783, -118.1280359, 35.1867505, -111.6620751, 36.1137928, -115.0666252, 33.9252058, -116.8993248, 40.143919, -75.31152949999999, 40.6050376, -73.75510779999999, 42.225632, -89.0727579, 39.0280208, -94.27130559999999, 40.2192374, -79.6094849, 37.0138618, -121.5863809, 37.5151203, -120.8484007, 40.0459731, -86.0010018, 40.8640754, -73.86709549999999, 40.6797488, -73.8618426, 41.1264099, -73.7853782, 42.21657829999999, -85.5886408, 33.4394777, -117.6201493, 40.760891, -73.967455, 40.6487475, -73.95802549999999, 44.8296211, -92.9589043, 39.608184, -86.375523, 39.7691126, -105.0306436, 29.8704482, -95.3289089, 41.6231654, -87.5739294, 31.7530097, -106.3443467, 41.11860000000001, -87.8409842, 33.2048932, -97.1521556, 40.4222241, -86.8589228, 39.2831309, -81.54879079999999, 40.8067546, -74.1854209, 40.7303531, -73.9540407, 36.1310881, -97.05997200000002, 30.6354312, -96.3268088, 40.826315, -73.86176999999999, 41.1349011, -77.4536877, 25.98415, -80.2111089, 33.5090685, -82.5020629, 39.9156187, -85.3834495, 47.5227224, -111.307431, 28.1969551, -82.7409761, 43.6858663, -85.4844304, 40.737081, -73.990802, 39.2886296, -76.7272857, 37.67231719999999, -121.030115, 29.7032682, -95.5870432, 33.5095967, -112.2050201, 40.8564288, -84.5979328, 36.1329874, -95.9050651, 44.915223, -68.68365349999999, 29.777418, -95.1239593, 41.67316539999999, -72.6461141, 45.0559673, -93.32239840000001, 43.3943698, -84.6674575, 27.9081556, -81.8427571, 26.027386, -80.208974, 25.987071, -80.142918, 31.216525, -81.5192635, 28.552804, -81.46428, 40.86167469999999, -73.8924904, 45.6797629, -111.0575473, 41.5275893, -88.069361, 42.0231524, -97.4258293, 42.9035448, -85.7859349, 35.1664877, -90.18644499999999, 25.80842, -80.277267, 42.643984, -83.03371, 40.1923655, -105.1022198, 43.58656260000001, -116.5747314, 40.7280224, -73.44619949999999, 31.244185, -90.45479859999999, 29.8945804, -90.1134735, 42.9976904, -84.2136931, 38.6919177, -90.38985489999999, 39.706127, -104.920382, 40.1594081, -89.3875671, 39.1868594, -96.5616335, 38.791676, -90.563456, 36.081427, -86.95250399999999, 34.9722697, -80.98775119999999, 40.7511129, -73.870248, 28.3251593, -82.6991436, 39.289407, -76.613494, 42.982938, -76.1423499, 40.8841271, -73.9017156, 36.2262938, -119.3373521, 40.730751, -74.00109499999999, 37.0841103, -84.6161462, 34.4772139, -93.05943459999999, 44.810712, -93.330936, 33.3933824, -111.8779127, 34.1989784, -118.1875904, 39.1632589, -75.51526439999999, 37.0568088, -120.8670023, 35.151349, -89.89150300000001, 45.10837979999999, -87.6181448, 39.8776021, -83.0561731, 45.569359, -94.140355, 40.9367661, -72.65009429999999, 41.720912, -74.3931379, 44.78016650000001, -68.7436024, 41.240668, -85.853146, 42.5431494, -83.78696359999999, 38.0073383, -84.2123452, 40.85438509999999, -73.907212, 39.5359406, -76.34829309999999, 39.0229518, -76.6938639, 47.6985793, -117.4105125, 39.313739, -76.596097, 42.6706133, -83.33515829999999, 30.1837922, -81.7024203, 31.1168297, -97.725376, 39.9207213, -80.74844709999999, 33.0200781, -96.7072453, 29.654651, -95.56671700000001, 45.1166007, -95.042176, 40.7879559, -82.9863645, 41.6786912, -71.5799475, 42.1959798, -73.362008, 33.2386706, -92.6664854, 30.5933847, -88.16945369999999, 40.744974, -73.97908400000001, 40.777715, -73.954374, 33.78745000000001, -118.029084, 40.828443, -73.42618999999999, 21.4942561, -158.0290802, 30.3357085, -95.4679889, 39.644751, -74.78526699999999, 40.0563529, -75.0604954, 44.48817469999999, -88.0669649, 43.0465648, -71.436897, 43.4477529, -71.6290262, 40.1845817, -92.5715539, 40.2669932, -76.6890762, 29.9668278, -90.0881861, 40.9525987, -72.9253805, 40.6578505, -73.88966429999999, 37.9746224, -122.0667168, 40.3209577, -79.8357243, 41.4511264, -96.4915029, 42.3744467, -71.0402727, 30.8206, -83.3129, 33.6545656, -84.49440349999999, 33.661387, -84.0618807, 37.272602, -79.888959, 40.4927544, -81.4705705, 42.65516, -83.4769038, 43.4164034, -84.0673679, 41.636163, -83.479038, 29.64062719999999, -95.24430149999999, 29.8326237, -95.48194459999999, 35.7159943, -81.3368315, 40.01690809999999, -79.07873289999999, 40.4763097, -86.1084709, 35.5596952, -77.061312, 28.5477433, -81.7443516, 26.290912, -80.094588, 28.5246867, -81.309726, 30.287575, -81.39099399999999, 30.717951, -95.567627, 39.6005521, -75.8272089, 39.333602, -76.4451502, 35.0920281, -92.4265714, 41.44086, -72.1066483, 45.20743270000001, -93.40652, 38.5911944, -90.33833109999999, 42.79096759999999, -86.07900699999999, 39.854621, -104.977204, 40.0548359, -83.0702963, 30.019431, -95.434634, 29.5470233, -98.5086783, 40.8444831, -73.8465526, 39.1397976, -88.56580129999999, 44.8195157, -93.20734279999999, 43.1288709, -89.308702, 39.900076, -79.71643259999999, 40.7753236, -73.912292, 28.4412654, -81.4028043, 44.311476, -96.7775806, 46.3563686, -94.218226, 42.084655, -86.486075, 44.6774526, -90.1654738, 36.2134267, -115.0994784, 33.724476, -84.76275299999999, 34.7662659, -92.38772929999999, 43.1896858, -85.25264419999999, 32.9154169, -117.1302692, 34.4718104, -84.9218389, 38.7397047, -82.96454489999999, 37.4378501, -94.7043891, 41.942134, -85.6456817, 31.2010925, -82.3284228, 42.3638607, -71.1011059, 39.2849184, -84.44440349999999, 39.8960946, -80.1694298, 40.84548400000001, -76.8231962, 41.366196, -85.07643399999999, 39.519573, -85.75193, 39.7293563, -82.61284930000001, 41.4122692, -80.35894610000001, 40.9134867, -73.7735419, 39.818024, -77.23593699999999, 29.56002569999999, -95.7894951, 41.0943542, -73.93715379999999, 39.27193219999999, -76.4709934, 33.9982729, -86.00381080000001, 37.1094164, -113.5665876, 36.9257695, -76.25214849999999, 46.0756158, -118.302994, 38.7048569, -121.2712833, 40.581576, -111.872698, 47.3216044, -122.221926, 42.2939309, -83.8393334, 40.8334913, -73.8583969, 38.3617886, -98.7836377, 40.0428072, -75.3737622, 39.3366447, -76.71294859999999, 38.9176957, -76.9734136, 40.88129130000001, -73.8824656, 40.6129606, -73.98279339999999, 33.9667579, -84.41069, 41.0554386, -73.53867699999999, 42.3321668, -88.2056997, 40.7500823, -73.9394486, 40.4077285, -105.1021356, 40.0011583, -75.1526666, 34.9207926, -79.7492158, 30.9043472, -84.5534259, 29.42991799999999, -98.549199, 33.9175546, -118.0722635, 28.1066447, -81.6284822, 41.9056423, -87.9983228, 35.21838330000001, -114.0073593, 40.7377269, -73.9966018, 40.5927711, -73.6574682, 40.8501658, -73.93614699999999, 30.5077889, -84.2500287, 28.4815904, -81.3093729, 35.9626668, -77.83066339999999, 41.668285, -86.251817, 35.3488503, -80.16689439999999, 43.5747305, -89.7795029, 45.5040459, -122.4158628, 47.19374000000001, -122.292601, 39.6552502, -105.0554081, 45.1108511, -93.221932, 41.6974732, -86.31235920000002, 29.998465, -91.80425699999999, 35.624256, -117.669188, 40.8670562, -73.89741029999999, 38.55497800000001, -121.3723552, 38.7795561, -76.0607797, 41.120854, -85.06317399999999, 45.1742027, -93.3462222, 36.121688, -86.70549299999999, 39.544979, -83.42622449999999, 42.240974, -83.599621, 43.147934, -87.9557291, 41.8514394, -87.7614143, 42.8831297, -85.6234255, 39.9201607, -75.26437059999999, 42.669301, -83.13399199999999, 28.4514076, -81.33675889999999, 28.6950577, -81.32753369999999, 29.9426891, -82.11029789999999, 30.0732448, -90.4971559, 31.0922368, -97.322919, 30.3910996, -89.0436629, 44.8376708, -73.08072969999999, 41.2586692, -75.90159589999999, 38.0231272, -121.3224047, 41.97231379999999, -70.9744358, 42.88211200000001, -72.557715, 33.7472375, -116.9527398, 33.9605622, -98.51393689999999, 29.0118874, -95.42067279999999, 40.7594179, -73.918239, 28.022901, -81.92457200000001, 34.0260027, -118.4315133, 35.4031921, -119.4005808, 38.7714031, -93.734169, 39.847081, -86.122455, 36.728973, -97.06783999999999, 35.4632399, -97.6006152, 32.3267606, -86.29207559999999, 35.6057286, -87.0652412, 32.4591279, -86.4508559, 34.1700694, -84.14993179999999, 33.6368291, -86.6833736, 35.1340267, -89.9926981, 33.904971, -84.429912, 39.9375405, -76.6927074, 39.7522825, -77.5724004, 39.3336539, -83.01738120000002, 41.4715917, -87.3735179, 42.23933230000001, -87.9653565, 41.010848, -78.44965599999999, 36.73492420000001, -86.5775061, 36.0604607, -95.79830930000001, 34.6030849, -98.4186198, 48.1999153, -114.332399, 37.8399569, -85.9374988, 39.7795936, -86.2883152, 40.7701132, -73.8344631, 39.0958312, -84.6092374, 45.6570522, -68.6887295, 46.9772972, -123.8045754, 47.1215911, -122.4352505, 34.278052, -118.709409, 30.1808671, -82.68371239999999, 40.5158676, -74.4881929, 40.75248, -73.992837, 40.66923, -73.930729, 40.8276846, -73.82339809999999, 40.826867, -73.95074699999999, 28.550572, -81.5831, 29.9695357, -90.0496034, 29.8890367, -83.4129896, 42.58947750000001, -83.12976909999999, 42.1721884, -83.767703, 42.5325993, -83.1074957, 41.0480879, -81.72929169999999, 42.792049, -78.811762, 43.0568019, -77.6523272, 42.8571749, -73.8358954, 37.4036009, -122.1168361, 40.86606440000001, -73.92589, 33.7042582, -84.27164330000001, 40.4226082, -104.7277286, 34.0597827, -118.1733972, 37.3535999, -77.4132576, 41.1331292, -85.1015317, 40.7490969, -73.7554164, 40.86256849999999, -73.9028293, 45.516413, -122.973319, 33.60873, -114.606196, 40.6294832, -75.311649, 36.17125490000001, -86.6795873, 40.28572279999999, -79.3909193, 40.4002647, -80.5498226, 45.0100342, -93.02006329999999, 45.0094555, -93.10529980000001, 43.1991548, -77.575086, 46.8654451, -96.8451848, 38.843749, -76.9505126, 42.9705915, -85.6591071, 41.4465094, -81.5642915, 41.705898, -81.36068, 37.292847, -76.72485499999999, 32.7859931, -97.5670536, 42.6700325, -83.0379497, 33.7538492, -84.392791, 30.6891847, -88.1720314, 29.655252, -81.657837, 28.035563, -82.65228599999999, 25.9793415, -80.2476645, 44.2168664, -70.5170484, 42.507414, -70.896507, 34.1364196, -117.2989758, 35.5193546, -108.768167, 41.7668775, -88.36621749999999, 43.091767, -87.979545, 42.4027412, -83.1602109, 34.3084246, -78.7123723, 34.1919979, -77.9339725, 33.384907, -84.7848569, 35.928218, -89.8820083, 40.4388222, -84.9784504, 39.492152, -86.063728, 43.0459265, -83.3199944, 42.67396230000001, -82.82470719999999, 39.9053025, -75.061077, 31.7503119, -85.8727241, 32.879477, -83.765264, 26.959605, -82.06914900000001, 30.284309, -89.75364499999999, 40.727543, -73.8122829, 28.1845725, -80.5930186, 37.2662212, -81.2316603, 35.661995, -80.462987, 39.1997876, -85.94881629999999, 26.272647, -80.2292609, 37.7888905, -122.4014533, 38.9423664, -94.6073097, 41.7199986, -87.6435959, 42.0946647, -88.2876197, 37.2502574, -77.4104445, 40.8167747, -73.2936816, 39.1173881, -94.38268389999999, 41.557706, -93.5975751, 39.207475, -94.5479749, 32.7178267, -117.153864, 40.78192, -89.6207079, 44.6903049, -75.47561170000002, 30.4304717, -81.66031339999999, 32.775528, -97.28873879999999, 32.9526556, -117.0597372, 39.9403453, -82.0131924, 42.5668312, -84.8294743, 32.0011522, -102.1165439, 30.0135274, -90.1594803, 28.3553584, -80.6088607, 43.0421387, -84.56353600000001, 43.3544474, -83.871116, 41.7862521, -88.0714395, 33.6024319, -83.85300699999999, 36.312862, -82.38439699999999, 40.0779358, -74.0427766, 42.795124, -77.79451999999999, 35.9211158, -84.09184719999999, 41.6726119, -86.3185816, 41.7280512, -93.5996334, 40.748161, -73.973793, 41.8298283, -88.05506319999999, 37.8662837, -87.5734355, 27.738663, -82.748644, 38.4431751, -78.8577676, 41.364718, -82.07738499999999, 39.523473, -76.18461599999999, 41.2560712, -77.0432842, 45.8468388, -95.38960039999999, 45.1162652, -93.24101499999999, 40.9135614, -73.8538581, 40.7112971, -73.8544477, 39.9429521, -83.85415549999999, 37.7520793, -122.4180826, 45.0670249, -93.2191791, 36.161195, -95.8860739, 29.7367682, -95.5355805, 42.4347268, -82.9784755, 32.306452, -95.30001500000002, 40.99456989999999, -73.6734377, 42.6542541, -84.5321415, 41.7510807, -88.03946959999999, 40.15316809999999, -75.225871, 42.78298969999999, -73.95000929999999, 39.6399523, -86.85789749999999, 32.4118094, -93.79546479999999, 33.3786949, -111.9301502, 32.3638939, -88.7279571, 29.954632, -90.071924, 40.1873166, -76.1846125, 34.760609, -79.46937199999999, 35.7917198, -80.85567499999999, 35.7763715, -78.7647839, 41.3715522, -71.96121640000001, 42.59102439999999, -71.2044925, 40.7589503, -85.1657312, 27.859307, -82.639371, 38.2502194, -77.4980755, 42.5200089, -75.52212159999999, 31.189254, -85.3979109, 31.3215342, -85.83012, 32.8491075, -83.6260747, 34.82639, -82.56925799999999, 33.8489974, -87.2820955, 33.767271, -84.25198999999999, 36.1876924, -86.2957537, 42.056069, -88.00194599999999, 39.7637, -104.9401253, 41.5763977, -87.17846, 30.6711266, -88.1229872, 37.348215, -87.49767100000001, 38.21499319999999, -85.7547462, 40.7678278, -84.10923629999999, 39.542277, -119.7358867, 38.7925929, -76.92877200000001, 39.5533881, -76.10071099999999, 39.5092821, -87.3844171, 32.9511422, -96.7619122, 38.925161, -94.399094, 43.42227399999999, -73.714623, 41.7481231, -71.20832829999999, 41.10010949999999, -74.0222655, 40.9000362, -73.82659269999999, 38.9659843, -77.39612489999999, 29.5441027, -98.41060139999999, 29.7060052, -95.47808529999999, 35.397081, -77.964609, 35.7337728, -79.8075655, 42.0120444, -87.7081458, 36.138453, -86.882215, 47.700434, -116.788086, 37.07517199999999, -76.47018299999999, 39.1672198, -86.5710783, 41.308863, -81.834537, 34.021599, -117.8109911, 47.712551, -122.185894, 42.461256, -123.322117, 39.7771129, -104.8476453, 40.6969609, -111.9739904, 33.9856166, -84.2732552, 45.006775, -93.398611, 30.1322883, -94.01626929999999, 33.5657265, -112.0646554, 40.9162839, -74.17133559999999, 35.0541564, -90.00856809999999, 34.2593052, -118.3063064, 40.2974231, -111.6963358, 42.3226456, -83.48215669999999, 29.6774253, -95.4940896, 38.5771085, -90.4060789, 30.2245443, -93.37678369999999, 29.899888, -90.02979789999999, 34.0021629, -84.5990135, 35.084688, -85.19363299999999, 40.7017284, -73.8803351, 41.04185289999999, -73.57943329999999, 41.9529787, -70.6863924, 29.3753624, -98.4566907, 39.965248, -75.5955852, 40.7699939, -82.5898332, 42.916462, -82.4837218, 30.48817709999999, -91.1217088, 43.4143821, -83.9676009, 34.0260804, -118.2768729, 32.4414873, -93.7817409, 33.8889258, -117.810524, 40.8888239, -74.0391428, 40.6697257, -73.986763, 40.790025, -73.946204, 39.6838264, -83.9369614, 40.8286589, -73.87818539999999, 35.7349994, -81.7099198, 30.325029, -81.4006069, 30.3700996, -81.7232739, 34.2576519, -118.433078, 34.1874933, -118.6430917, 42.834427, -88.749589, 40.7013798, -73.9435104, 31.3116263, -89.3121808, 33.937776, -83.324568, 41.6475306, -88.0895061, 25.70203, -80.34942819999999, 35.5223326, -97.5374745, 36.1803219, -94.139389, 38.6390878, -90.2436846, 41.9084702, -83.42337300000001, 38.9511465, -77.3349058, 40.9040085, -74.10073179999999, 40.6547688, -73.9615283, 40.665173, -73.7561789, 41.4097608, -78.56068739999999, 41.0318952, -81.4287698, 39.8816695, -86.0703755, 41.9086636, -84.0306567, 36.7384226, -108.177763, 38.988289, -84.641885, 32.7465199, -97.22324619999999, 39.93572, -83.11330699999999, 41.2283034, -82.60314629999999, 36.2006159, -86.7393682, 32.7069263, -117.0089668, 33.045246, -117.261329, 40.8623193, -73.6228996, 40.705942, -73.792785, 38.0766584, -78.47931109999999, 37.598016, -77.621342, 39.2350704, -84.50890299999999, 33.94989899999999, -83.4112794, 41.7467711, -111.8338073, 45.6428436, -122.6012553, 36.9321631, -121.7696311, 42.6339328, -83.74376149999999, 39.83332559999999, -84.82444249999999, 42.9440888, -74.1875799, 41.4915289, -87.5575924, 43.039396, -78.824659, 41.71565320000001, -72.7625656, 42.14611, -80.004488, 37.5902715, -122.0199988, 34.2665169, -119.2723523, 32.607054, -85.483835, 44.344562, -98.21470769999999, 38.4053775, -96.19590769999999, 38.624505, -90.287486, 42.797065, -78.752308, 32.1082031, -81.1554859, 41.9392792, -87.72827649999999, 41.276976, -80.84282999999999, 38.1979585, -84.829857, 40.7302379, -84.07001629999999, 36.9580178, -84.0743948, 39.6718819, -85.13515, 41.7186896, -88.32020490000001, 41.9698967, -87.68966549999999, 29.5553173, -98.5891314, 41.9744743, -88.7158407, 36.84868, -75.97684799999999, 35.816101, -78.694328, 33.6216069, -117.660734, 41.9351882, -71.4692109, 41.4703991, -72.81697559999999, 41.69970199999999, -93.0446271, 36.9176356, -94.87751639999999, 34.234918, -119.038583, 37.0165943, -85.99113439999999, 36.7999229, -76.2301882, 33.8474533, -79.0654553, 32.4404045, -80.7064383, 33.4073117, -86.80585549999999, 44.0795903, -123.0693787, 37.5495639, -122.046473, 38.2494609, -122.6270933, 28.2461598, -82.18921879999999, 35.1205177, -120.586237, 35.9138758, -81.5280753, 42.9037899, -76.8362319, 26.512368, -80.058708, 41.578181, -87.792806, 39.0589351, -94.5901238, 42.3156899, -88.4382275, 37.08502800000001, -97.03961600000001, 41.077673, -81.499639, 46.8051292, -92.06892889999999, 46.678126, -122.962672, 42.2139271, -83.5428, 42.913365, -85.65597199999999, 40.7851076, -74.0188549, 29.3949122, -94.9496846, 32.9087285, -96.7386946, 32.8883505, -105.9607816, 29.4400039, -98.49922250000002, 31.333647, -92.40727199999999, 40.7176775, -76.1914954, 36.7005311, -77.5442848, 35.0279293, -78.9271503, 31.5629378, -84.17695189999999, 34.0782797, -117.6316943, 40.175304, -75.1281576, 34.3779775, -118.5669298, 33.4946798, -112.2373797, 35.1008578, -106.7072364, 38.4197429, -81.8581629, 41.41890799999999, -81.7589611, 41.90926820000001, -87.7553989, 42.2721915, -84.9828323, 42.3417727, -77.3364998, 43.046874, -77.10973500000001, 32.8135016, -96.9489682, 39.4839983, -88.1821959, 44.9991585, -93.2638004, 44.962027, -93.1913137, 38.1773443, -83.4369885, 41.3798411, -81.73615029999999, 39.561952, -84.25975000000001, 41.5762525, -73.10087659999999, 30.4266707, -89.091765, 34.0719413, -117.7894647, 43.102403, -77.75484999999999, 33.8844585, -118.329392, 34.5731386, -92.5805891, 40.74445300000001, -86.0959678, 42.0099734, -71.30448779999999, 41.375683, -88.422562, 41.8713571, -71.5291318, 38.3548469, -87.5920805, 45.0507229, -93.15607, 33.7271669, -116.4023922, 26.1953478, -80.2491714, 32.7428577, -117.0437726, 42.972283, -85.77483660000001, 34.789747, -92.22683599999999, 38.5217819, -90.3470739, 34.17637, -119.208853, 37.9448632, -91.7854145, 37.1595053, -93.26678609999999, 37.7686083, -122.4533808, 43.2263971, -123.3499957, 43.63208969999999, -116.2863998, 35.2592461, -81.2168385, 33.4070356, -111.9586667, 33.5097809, -112.084802, 36.0558699, -78.90349909999999, 36.5054572, -80.6246192, 35.269186, -80.853644, 37.29050429999999, -80.0763929, 46.1357179, -67.8401561, 43.18730790000001, -88.72902619999999, 41.9367739, -88.0769852, 38.12996460000001, -121.2758445, 38.9571527, -94.67189499999999, 40.812857, -85.83655999999999, 40.5295698, -81.4921985, 43.038264, -87.944509, 40.9382992, -98.3801883, 39.911276, -86.2199065, 44.5359417, -89.5745247, 41.6266199, -86.2355537, 39.350402, -76.610214, 39.0286239, -96.83600109999999, 34.9224298, -88.5163955, 30.3641088, -97.69693889999999, 32.2657305, -110.9433648, 31.3253044, -94.72663519999999, 42.6799949, -83.19280300000001, 40.050246, -84.228753, 39.2487836, -81.55551969999999, 44.9502637, -93.0224633, 35.154369, -79.416136, 35.3073826, -82.4558587, 41.7980589, -71.3312814, 26.197903, -81.800687, 38.228388, -85.57823479999999, 40.895303, -73.976593, 41.577, -109.25585, 37.3248287, -121.8231243, 46.2919455, -119.2776779, 35.7648569, -83.9804199, 35.8968236, -77.5358049, 33.6352703, -85.8252986, 40.029381, -76.23683299999999, 39.4731, -80.15267419999999, 40.2787762, -96.7460964, 35.8364825, -80.25411369999999, 39.2915664, -77.8525259, 40.7476408, -73.9972555, 30.1891, -92.062715, 28.05354, -81.77661700000002, 35.3757941, -119.0024792, 37.9068792, -76.86419819999999, 35.690552, -79.8038627, 40.8114994, -73.94265659999999, 41.8974948, -87.6235846, 39.568005, -76.978662, 40.9882897, -75.1890494, 38.1632275, -85.5973276, 38.0860875, -97.91831769999999, 38.370132, -81.66937899999999, 41.3999352, -79.8310213, 41.58138900000001, -81.211789, 35.3457285, -96.91144279999999, 37.7582515, -77.4620757, 40.2429706, -75.6196624, 39.8765158, -84.3103161, 42.7170936, -73.8101909, 29.6266437, -90.7517611, 31.8302681, -106.4389659, 34.143324, -118.3926419, 37.0319295, -100.9214368, 30.7842232, -85.2770759, 40.747948, -73.98451399999999, 34.9489353, -82.23518469999999, 42.334274, -87.8558731, 42.782201, -73.696358, 35.5578617, -82.64037560000001, 36.8543892, -76.26273309999999, 40.5391503, -79.8300994, 35.373321, -86.22107199999999, 36.3341065, -94.1273632, 41.1428227, -95.91164429999999, 33.8361943, -90.7350654, 31.0672689, -93.27404279999999, 39.0431663, -94.4158047, 37.5633265, -122.2717135, 34.1749269, -97.141647, 37.6688871, -122.4700086, 41.373386, -81.86646999999999, 44.7097905, -84.6555557, 32.0716023, -84.2164308, 40.833018, -84.937225, 41.9239178, -89.0687073, 42.1872529, -88.1016609, 38.015346, -87.574466, 34.8037426, -86.9519445, 33.464488, -94.04368749999999, 36.061264, -89.39489, 28.5464359, -82.3995403, 40.394049, -86.854597, 30.4850614, -91.08250319999999, 42.27249399999999, -84.452181, 48.305234, -122.6439328, 45.6101572, -122.6805592, 39.2905448, -84.3958347, 37.517955, -77.351337, 37.6184889, -77.49871999999999, 40.4801728, -78.0171689, 41.5723926, -81.5259789, 40.8467671, -73.8933545, 43.0603546, -87.88978379999999, 39.2860007, -94.9043078, 43.7748265, -91.22119339999999, 46.8943835, -102.7831341, 47.4927029, -94.8980603, 41.7121586, -71.1265456, 35.089795, -85.312613, 41.0798134, -73.8640854, 41.2249909, -75.8778492, 42.7668688, -73.816121, 42.095737, -76.2314013, 41.62724, -87.8530849, 42.13714, -88.019808, 43.0570887, -89.5017472, 41.5139258, -82.9189696, 35.8568872, -85.7979648, 40.8547281, -82.3364107, 39.1258766, -84.4849101, 37.1422615, -80.5798853, 37.4149109, -79.208598, 39.22420460000001, -76.61317, 37.7532041, -100.0243256, 37.9755741, -100.8532936, 36.61165099999999, -88.315709, 43.6415259, -84.2469148, 37.337212, -122.041017, 36.432887, -77.63654, 43.2072918, -78.3988849, 34.6918625, -82.83701839999999, 40.5775882, -74.1021432, 40.9803985, -76.8851139, 42.67896580000001, -88.27432519999999, 27.515437, -97.85555579999999, 42.943145, -78.9070455, 41.2288112, -76.9645321, 40.785215, -77.8300735, 36.6446318, -93.22286109999999, 36.8895189, -76.23848540000002, 41.8478206, -89.4849342, 43.5148111, -96.675343, 42.1031082, -75.8671652, 40.441237, -80.003478, 37.2985804, -78.3933895, 41.6903612, -87.8100111, 34.0639811, -118.366722, 38.9858967, -74.8276812, 37.762298, -84.8432852, 41.9563229, -78.6458846, 36.1459157, -86.8121161, 39.714416, -82.57349, 42.9190653, -76.5934166, 35.924954, -86.8738398, 41.8381643, -71.408762, 41.4815139, -72.9051411, 31.335018, -110.942624, 33.4945335, -111.9083308, 32.789425, -117.098198, 39.8459018, -88.9699547, 38.37145, -97.629373, 41.43912479999999, -97.36715269999999, 25.8873722, -80.2910155, 45.4808285, -91.73371709999999, 35.606018, -77.3717652, 34.0186593, -85.2528604, 39.183102, -75.53083699999999, 42.3482383, -87.88177379999999, 37.349759, -121.827498, 33.1517658, -117.1979023, 42.5409403, -83.4580225, 42.790224, -83.73473299999999, 40.704837, -84.15065299999999, 38.9223492, -121.0558943, 40.0630856, -75.2384211, 40.7458038, -73.99070189999999, 39.9151752, -74.15403959999999, 40.6966342, -73.74303929999999, 40.6762252, -73.8906779, 30.42510099999999, -86.64401199999999, 30.0018317, -90.12910199999999, 29.8842205, -97.9224809, 29.774296, -95.24659400000002, 45.38876500000001, -84.917609, 34.0676473, -117.3266491, 42.858012, -78.82509999999999, 47.5813734, -122.1362432, 44.943592, -122.983759, 43.2984078, -72.4823117, 43.81685410000001, -83.001497, 42.997537, -87.898479, 21.3773601, -157.729643, 36.9421173, -86.42079679999999, 36.0764961, -87.3760357, 42.978998, -78.74157799999999, 30.2391783, -90.9152321, 32.717655, -103.141024, 34.8099553, -102.4092079, 33.7020515, -84.11547960000001, 41.6410159, -70.8857137, 34.183338, -118.604401, 39.047619, -84.576863, 38.3431991, -75.18828239999999, 40.82257999999999, -73.8914831, 40.73997, -74.0305518, 38.0328755, -78.48492759999999, 40.644583, -73.9876781, 35.1610544, -78.9708555, 39.789343, -74.927193, 41.7701113, -87.72217220000002, 39.2808606, -80.2722904, 40.1105741, -75.2133066, 41.2135934, -79.3816788, 31.579465, -90.470454, 35.19326, -101.817964, 37.3446631, -85.33996289999999, 38.2506723, -85.6227277, 44.4048664, -83.32526210000002, 38.078157, -83.9467824, 39.9624725, -86.1145215, 32.8447024, -85.1809335, 28.450603, -81.471727, 40.57507590000001, -105.100047, 40.7784455, -96.70578379999999, 41.3680919, -89.4648145, 41.9228384, -87.7459063, 41.67726560000001, -87.7201212, 44.78990539999999, -91.5194904, 38.4174972, -82.5107939, 35.0957672, -106.6742251, 36.0915288, -95.88595110000001, 34.9414445, -81.0360548, 32.2135508, -82.40272259999999, 39.996376, -78.24244089999999, 35.477386, -81.237973, 35.3338414, -81.8923543, 41.4190359, -81.60807050000001, 42.6788646, -74.4778007, 40.151113, -74.8593624, 39.0313807, -94.50358519999999, 41.2293333, -89.92767649999999, 36.008194, -83.9748819, 38.9012568, -90.0576423, 39.1172153, -77.25179849999999, 48.107404, -123.403477, 32.7488479, -117.1507546, 44.900174, -91.93248, 33.6664114, -78.91610949999999, 35.070727, -78.966229, 36.4915248, -79.73923119999999, 32.6724219, -115.4986902, 39.3102974, -76.6168848, 38.3444454, -122.7116404, 41.1580004, -80.0892782, 41.552055, -81.4963891, 41.9591245, -83.6679777, 40.7034184, -89.42711489999999, 38.553181, -92.19965499999999, 37.9371483, -86.7591532, 43.2842949, -73.58614279999999, 39.8701785, -86.14075419999999, 35.5218685, -78.29472419999999, 38.7307504, -88.0793248, 43.0365012, -74.8311612, 44.7144368, -73.4459322, 42.9921868, -73.8500823, 43.1470671, -77.59457789999999, 42.5657966, -77.71306419999999, 34.4936191, -93.0824516, 30.4822422, -90.9546316, 32.3559635, -90.18035549999999, 42.0455102, -88.0372319, 30.8581412, -83.94972039999999, 46.73263960000001, -117.0217291, 36.6790997, -80.8964386, 37.771656, -79.968155, 45.5231948, -122.6899994, 43.3922884, -124.2387164, 38.246856, -85.526229, 42.4896942, -83.1485866, 40.07211909999999, -74.85046609999999, 40.656262, -73.9308722, 27.900197, -81.598742, 39.4209729, -81.447943, 37.02554480000001, -76.3637057, 36.8807509, -76.18629, 31.96122579999999, -83.7563175, 32.6219881, -93.27523099999999, 29.6787175, -82.33918709999999, 42.7842615, -83.0130415, 42.2347922, -83.6794068, 34.3464071, -119.070653, 38.157554, -85.708359, 33.5527864, -112.1005394, 40.8736751, -88.641108, 34.1471373, -118.7601482, 34.0630957, -118.1055055, 27.3949374, -82.563074, 39.337248, -84.561274, 31.4905185, -82.8511298, 43.61131659999999, -84.7665403, 40.1182287, -88.2044098, 37.1791904, -94.3249091, 41.6117504, -83.69832199999999, 42.2330799, -83.38516469999999, 40.7002958, -111.8002061, 35.3671391, -119.0428649, 41.510977, -72.1142521, 44.737709, -92.87903399999999, 34.7331633, -80.7695224, 42.4132085, -71.2338363, 40.7546571, -73.9881736, 40.7265978, -73.9859965, 41.782534, -74.7293057, 42.2283945, -83.22936419999999, 40.689156, -73.9806864, 40.6692276, -73.9123461, 28.8102174, -96.977255, 21.343529, -157.928266, 28.8929476, -82.58477189999999, 39.740034, -105.03965, 37.6092398, -120.9741488, 45.002695, -93.228314, 40.699861, -111.8906489, 42.9216848, -78.8297017, 41.6808597, -87.50141649999999, 33.9036491, -84.11872439999999, 37.996103, -122.304899, 39.7612027, -89.6077698, 32.453522, -93.74650199999999, 42.3965994, -83.43531050000001, 41.7970647, -72.55609679999999, 39.0508064, -94.6114483, 39.8019328, -94.8161701, 43.187935, -89.22996599999999, 41.8795491, -87.62446039999999, 47.6101432, -122.3238436, 36.38560320000001, -86.45513419999999, 43.1284949, -89.35883720000001, 42.7739656, -71.4437604, 13.4386985, 144.7770533, 32.4167838, -104.2290946, 40.5167723, -80.21965, 34.2588762, -83.4644337, 39.803659, -75.043639, 33.760098, -117.87849, 33.3949072, -110.7689435, 42.9133619, -85.5421022, 39.525839, -87.11469199999999, 41.517837, -87.98179189999999, 38.21049319999999, -85.209013, 35.9247622, -79.9837546, 34.1282951, -117.887503, 33.6966789, -117.8858761, 35.1497297, -106.5859413, 31.6171014, -81.8973412, 33.58148, -112.133613, 43.008345, -83.653556, 42.9445888, -83.69152609999999, 32.4513928, -93.7214018, 47.139962, -119.27792, 38.2144639, -85.79663959999999, 38.8705934, -78.52553160000001, 38.3607619, -75.0734705, 36.9119759, -76.07096179999999, 37.0488771, -80.76280539999999, 42.0132776, -88.1850811, 32.9802843, -117.2495046, 30.1075345, -93.7467693, 37.9372648, -121.2957209, 26.274371, -80.1322409, 35.7762421, -119.2465935, 47.31564969999999, -122.3032447, 37.6812406, -113.0764779, 40.434507, -79.751806, 26.6677926, -81.826898, 37.470809, -77.53007, 39.0478189, -84.51382439999999, 38.8746643, -104.8159445, 34.1532606, -118.2575491, 40.3163124, -75.30888379999999, 33.5744773, -84.34193780000001, 36.1133219, -79.75315599999999, 35.7233581, -77.893895, 41.0246948, -80.6333305, 27.2985189, -82.4930389, 28.0450685, -82.50534999999999, 39.3975839, -76.54049549999999, 35.0309788, -90.79020679999999, 37.7617839, -121.4343937, 39.586678, -82.9519748, 40.69627699999999, -74.42362899999999, 41.781686, -88.281117, 32.7858057, -117.1703107, 30.1837144, -85.6505526, 42.6019549, -82.89984, 47.2220603, -122.5375205, 42.5507109, -83.0262516, 41.3090201, -105.5572925, 38.97260199999999, -95.2503088, 36.836324, -76.3075973, 35.2442842, -82.7240899, 35.9109844, -84.5832104, 30.1434286, -96.3973498, 38.4204531, -78.8942239, 31.4393505, -85.6426821, 35.36098500000001, -94.366812, 27.2441268, -80.8261684, 35.0587585, -106.5862116, 34.5503523, -112.478367, 35.5084723, -97.7437953, 42.7063488, -73.7753946, 41.8179543, -87.6658671, 41.9845732, -86.1227057, 41.9819521, -88.0699755, 41.6581165, -88.4444773, 37.2477144, -76.658399, 37.243858, -121.959906, 31.8489078, -86.6376368, 39.432808, -84.1941354, 40.928322, -73.896725, 34.9561865, -120.435078, 40.044436, -75.053388, 42.9102481, -70.810833, 42.9684838, -71.4800856, 44.826936, -106.959718, 41.0268446, -76.358198, 42.8946134, -97.3982716, 42.3586744, -71.1549143, 40.598088, -73.9613743, 38.5364107, -91.0043295, 38.3435204, -75.6035993, 42.449455, -85.66293689999999, 39.799918, -86.26821500000001, 37.6074289, -97.33349079999999, 37.56764709999999, -84.3106686, 39.9559288, -75.1574567, 41.0036719, -80.34700900000001, 36.0891692, -78.3009694, 27.5433547, -99.504273, 40.1445482, -75.1674639, 40.6257552, -103.2141845, 33.0404595, -83.9388604, 39.117832, -76.6340439, 39.1574523, -76.51686409999999, 42.60390599999999, -89.653606, 41.6164006, -87.0446825, 40.8233246, -73.87464469999999, 37.3000376, -120.4944199, 39.13863, -121.5908126, 30.123197, -94.157181, 35.8793292, -106.2971786, 31.1784552, -83.7823081, 32.2137276, -98.21506389999999, 40.3478844, -79.94526259999999, 34.692466, -82.98436799999999, 38.879928, -77.3960898, 35.435819, -97.565879, 26.198537, -97.679907, 46.2410891, -119.1203363, 47.4544146, -122.2629184, 42.568071, -87.9553509, 41.6779989, -91.5666439, 26.563807, -81.87266699999999, 29.195047, -82.091881, 41.5534166, -75.22516089999999, 42.1330332, -77.0266053, 40.2785192, -86.4932747, 41.1817558, -80.7184549, 32.8207267, -84.2972376, 39.629775, -106.419102, 41.7826871, -73.9319441, 39.741701, -104.988299, 42.0230224, -93.56240539999999, 34.012309, -118.494572, 42.6762253, -73.6418473, 39.43317529999999, -88.37762880000001, 35.4385666, -84.6394909, 42.0061449, -83.9639401, 42.01021180000001, -80.30172449999999, 42.7775946, -83.2387772, 35.6196131, -95.96078899999999, 37.8058639, -85.4520984, 35.3905832, -97.5305305, 30.433976, -84.30134199999999, 41.943475, -91.67715799999999, 41.451801, -85.269163, 37.278977, -79.9337962, 37.8084314, -81.18479099999999, 43.5939163, -116.2141947, 37.3607553, -81.1015808, 41.443135, -85.984634, 40.5111474, -78.4015028, 41.48648730000001, -75.695109, 41.5022566, -75.58088769999999, 40.0341555, -75.63350179999999, 37.6769729, -97.389017, 42.1541615, -87.83709739999999, 43.7838943, -88.4750917, 33.5123559, -82.08662799999999, 29.4847147, -98.40170619999999, 40.6262264, -91.35580030000001, 42.667009, -73.774455, 36.1113218, -80.0898254, 43.1934941, -88.1274256, 47.6106927, -122.3382244, 33.7763041, -89.8242696, 34.0876511, -118.1759239, 41.5393549, -72.9961604, 38.9730459, -76.757915, 36.302608, -86.627777, 41.8756308, -80.76589229999999, 39.914573, -105.0593717, 35.993118, -78.869064, 43.4839608, -83.4037835, 47.2421516, -122.3614755, 42.3232753, -85.5210609, 37.3855148, -121.9953138, 33.1652914, -87.5247409, 43.0167381, -83.518303, 30.4407669, -88.8976227, 34.7556117, -92.2614023, 41.1230001, -74.5789819, 39.6871336, -74.249702, 30.6335417, -96.3672488, 36.289821, -88.313518, 38.69136779999999, -89.9769764, 41.1541194, -73.9860774, 40.5743957, -85.6742031, 36.8438027, -81.5013014, 40.67353079999999, -73.9991524, 40.5795658, -73.97514129999999, 40.6800919, -73.94007599999999, 44.45002059999999, -95.7735778, 43.9085243, -69.8273928, 40.3227026, -75.1300085, 40.5463034, -80.0165605, 40.3143841, -76.5836182, 26.6653283, -80.1120055, 38.915711, -77.2379223, 37.2271165, -87.1674003, 42.9033485, -73.6918975, 42.6472448, -73.7722682, 44.4132807, -72.0171615, 43.009358, -87.9297848, 42.004577, -87.96017850000001, 47.0457574, -122.9337024, 34.243901, -116.898616, 41.15824080000001, -81.24799910000002, 37.8723261, -122.268662, 33.9958679, -118.1412794, 37.2730628, -76.68319439999999, 34.6230712, -79.04846119999999, 42.0728871, -88.0600418, 39.5529641, -89.2987708, 40.6020624, -98.3915306, 44.5418463, -95.097803, 39.4296433, -78.98957279999999, 39.2900629, -77.2044748, 31.700156, -106.3394, 25.9384794, -97.5331703, 40.4873162, -86.1641071, 31.5053558, -87.31800520000002, 47.51131849999999, -92.5514205, 42.1585447, -71.200591, 41.3581997, -86.31081979999999, 33.9097823, -84.208959, 41.0051521, -92.4258275, 38.6254149, -88.9652615, 35.202376, -106.647091, 40.148339, -85.67419799999999, 36.5149873, -87.300468, 39.7889563, -86.1569488, 35.4840474, -120.6658101, 36.3196691, -82.3455145, 43.05327519999999, -88.37487999999999, 36.9753121, -121.9637071, 41.8504336, -88.30923779999999, 40.959518, -73.84252, 41.9469814, -87.693534, 27.2108885, -81.8455838, 40.6098305, -111.9406766, 31.8770481, -85.1512041, 29.613274, -95.420266, 40.6974953, -74.2294055, 42.946303, -85.07536689999999, 40.788409, -77.861604, 40.13724130000001, -79.84351910000001, 33.9912755, -83.72325699999999, 43.1769501, -83.7657127, 40.5859338, -75.4606787, 38.9123863, -120.003364, 40.8472717, -115.7489742, 32.6603347, -117.0344076, 32.8355755, -109.7304765, 33.4808396, -112.1842813, 36.352967, -79.664014, 41.8898017, -87.626024, 39.994664, -75.093599, 38.57377880000001, -121.409571, 43.0984101, -79.0334288, 40.3160169, -75.5916802, 39.2805648, -76.67134949999999, 43.0465303, -86.2210755, 44.6423776, -123.0642133, 46.8878561, -98.7210142, 32.2677505, -107.7663235, 42.1265112, -77.9674661, 41.8019729, -81.05122399999999, 42.468737, -83.42593600000001, 32.8965988, -96.8962761, 41.060316, -85.213692, 42.4769843, -70.95607009999999, 41.725046, -85.9724344, 33.7749341, -118.1889768, 39.8669116, -84.1372887, 42.107062, -83.2858823, 47.9342169, -97.091831, 38.8908599, -76.8545575, 39.9868677, -75.40073000000001, 30.6421267, -81.458197, 36.030957, -80.3832259, 42.34081920000001, -122.871265, 40.7508809, -73.9869725, 42.6490879, -85.3039819, 40.7543101, -73.9996841, 42.0175309, -88.0804227, 32.78717900000001, -79.95474109999999, 34.3621095, -89.5090649, 38.7308713, -120.7880307, 42.3679371, -83.08086159999999, 33.639727, -112.099224, 41.6234792, -79.6727744, 39.6039024, -87.68399649999999, 30.0092889, -90.267028, 40.892686, -85.504057, 47.664929, -117.1974972, 41.7608442, -88.20956199999999, 40.7799149, -87.74974309999999, 30.5187163, -92.072227, 35.2894714, -93.13289259999999, 34.03969319999999, -118.6700612, 33.6111543, -112.151728, 29.05995039999999, -82.05682949999999, 43.197181, -71.5311823, 37.3872644, -121.8605988, 47.6888717, -117.3644889, 37.7293791, -88.5365089, 39.92453, -75.169189, 40.6455743, -89.6738446, 41.55182130000001, -88.0883526, 42.2655574, -88.00350250000001, 26.6644503, -81.8882696, 29.1685159, -82.1378386, 33.855454, -84.025117, 34.92644, -95.74257659999999, 33.6240246, -97.14954859999999, 30.6485474, -97.67809969999999, 32.741286, -97.2630779, 21.285334, -157.837965, 28.9212262, -81.2981768, 39.088994, -94.67592800000001, 38.7571877, -76.9943511, 40.1747852, -87.6295408, 21.2973191, -157.8411201, 39.5957522, -104.8867547, 40.5595469, -74.1680654, 41.048058, -80.35676699999999, 32.8792136, -111.733701, 40.4517609, -74.3991006, 37.4360603, -79.1223595, 42.4792888, -71.1173347, 33.55423400000001, -83.47416609999999, 39.6648161, -75.6056621, 43.4084777, -87.8707195, 43.0321969, -88.17864999999999, 36.245087, -93.11689, 34.75149940000001, -77.4457903, 35.6840131, -82.00927449999999, 39.6772769, -75.4953847, 30.6071593, -88.0756703, 41.6501185, -91.5395114, 41.7026935, -122.6448431, 41.716221, -83.682935, 30.2275536, -93.1797905, 37.0332968, -95.61947119999999, 36.15823760000001, -95.9666522, 32.7949723, -96.7009552, 41.6960663, -86.21724209999999, 44.781698, -88.58666699999999, 42.977934, -88.107781, 41.97617169999999, -87.65534610000002, 34.051106, -118.2792845, 41.8868943, -88.28246519999999, 33.9000165, -98.4962022, 39.2794503, -74.5769636, 42.6192464, -73.120209, 47.6714802, -122.1141152, 39.431524, -74.511246, 39.1199235, -82.993127, 40.3233102, -78.95562799999999, 40.274857, -81.8700999, 28.55374, -81.3487845, 35.9981066, -75.6509458, 40.9050387, -124.0830304, 34.5051905, -82.0084139, 34.6067814, -79.6832779, 34.1061169, -117.5948043, 36.7287693, -88.6313514, 39.0871687, -74.8196988, 44.7994709, -93.50821300000001, 40.232688, -77.14259249999999, 40.42740500000001, -80.0533591, 41.969605, -72.33062919999999, 37.62022899999999, -77.455249, 41.7981521, -72.23481699999999, 41.933991, -71.31241949999999, 40.52908900000001, -75.506935, 45.43226300000001, -122.76786, 33.4575479, -84.4532421, 29.4012327, -95.2463234, 34.6363506, -86.5667716, 34.695351, -81.192918, 38.8605665, -86.5179825, 36.6036826, -119.458287, 30.366965, -87.172091, 44.73982059999999, -85.6442297, 47.791207, -122.369126, 33.7888886, -117.9611801, 45.6279143, -84.47918729999999, 41.58077129999999, -83.88090299999999, 30.4458128, -87.2413945, 33.201191, -79.991564, 38.0054344, -121.3540604, 35.1575968, -107.8705902, 35.2326781, -80.8460822, 44.59480500000001, -75.183926, 40.3842203, -79.8632788, 38.7541315, -89.6807374, 41.9951353, -87.66042019999999, 35.080729, -106.62179, 41.8441552, -87.7325192, 34.2464528, -80.6003214, 39.262659, -84.27101499999999, 44.0240737, -116.9407258, 36.3338903, -78.43674469999999, 25.686126, -80.40338299999999, 43.062248, -92.6748389, 41.6639057, -86.1195249, 42.2791599, -83.43543369999999, 47.1990431, -121.9785916, 45.6566498, -118.8096993, 39.4195383, -87.41815799999999, 39.3750432, -76.8111894, 31.6024004, -94.6554675, 40.7185119, -74.001164, 38.8099695, -90.86502310000002, 34.911881, -82.428985, 36.5792135, -82.5675152, 42.2580968, -85.5901543, 45.6074072, -121.2010916, 39.4976389, -121.5714538, 40.5137298, -107.5605531, 44.45224870000001, -88.0867336, 37.69471559999999, -75.71976440000002, 29.9799317, -95.51371759999999, 37.6743321, -92.6549313, 38.937691, -97.21321300000001, 33.7139661, -117.1905857, 33.599291, -111.984412, 41.68686210000001, -83.5324912, 37.8177125, -96.87696079999999, 32.1553191, -80.7598589, 44.2817557, -105.4939164, 44.2513444, -84.22632610000001, 40.6913932, -73.9917897, 38.6353875, -77.2697743, 48.165278, -103.6257396, 44.2962048, -94.4439781, 43.67702440000001, -94.44871270000002, 43.1478104, -93.22703620000001, 35.08905, -78.9832156, 31.120025, -97.88179199999999, 39.9720186, -75.15864669999999, 38.4449481, -90.3759615, 36.72600180000001, -84.16616929999999, 41.2048652, -96.0807677, 36.8509222, -76.1793766, 39.9475777, -82.944574, 39.0453486, -82.6297943, 30.0827577, -94.12648759999999, 47.7576547, -122.2447591, 34.1126899, -117.7619831, 40.6150406, -73.9289222, 39.6549611, -75.7505886, 41.7779653, -87.6645088, 35.5292756, -108.7132888, 40.6516939, -83.59088899999999, 35.5947012, -80.8176795, 38.484485, -107.8700325, 32.4511448, -100.3973222, 31.2248435, -85.40053910000002, 38.5505501, -121.6973613, 30.8840768, -84.20305619999999, 41.6990061, -88.0677199, 43.14656400000001, -93.360051, 32.9717567, -82.80882009999999, 42.3395347, -71.8376494, 38.4528493, -105.1658269, 35.6229192, -77.3857666, 34.0631951, -117.2094255, 30.1287778, -95.44264969999999, 28.832855, -82.3275541, 41.4515101, -91.0311778, 37.5055059, -77.603039, 42.6782631, -82.7418792, 35.2099565, -78.06330489999999, 40.419221, -86.7780995, 33.243609, -81.374701, 32.771019, -117.0712, 36.2511505, -86.7187957, 37.26444, -107.8763341, 30.146447, -85.591717, 36.1881429, -115.115179, 35.7029281, -81.2083311, 36.8202843, -76.2734845, 38.2462653, -85.75551279999999, 32.778661, -96.803044, 33.8579159, -118.0107511, 33.1042508, -117.0748693, 44.9139326, -91.3896714, 37.10549, -76.49536599999999, 39.14585330000001, -86.5316823, 41.1388458, -96.04382539999999, 34.1816219, -103.3444478, 40.9471217, -90.35234840000001, 43.1220452, -77.61837659999999, 40.5660696, -90.03420179999999, 41.1319681, -85.1573018, 43.1458679, -77.5590088, 47.226335, -123.124371, 32.3973452, -94.8549795, 34.831938, -82.306617, 43.59249920000001, -83.91488249999999, 29.6641199, -95.123842, 27.9589444, -82.5048932, 29.790011, -95.3726576, 48.533966, -117.9043531, 38.4084527, -121.3803304, 39.1753256, -89.65425789999999, 44.0932421, -93.5061271, 41.3256504, -75.937165, 43.9742346, -75.6151927, 41.6281044, -87.480248, 30.4797371, -90.0893771, 37.3520524, -121.9585717, 30.3465888, -81.6673196, 40.464406, -79.92669579999999, 39.7588498, -86.11310019999999, 38.0423662, -84.5030286, 61.1811928, -149.8315799, 41.4926002, -82.0200837, 43.075892, -89.454836, 36.6247412, -82.1593481, 40.7157637, -74.0052218, 40.7986343, -73.9398709, 41.880191, -71.364592, 41.9348664, -79.6526142, 42.237163, -70.883157, 38.6890688, -87.5065802, 40.8610847, -74.06668909999999, 42.8944103, -78.8864206, 40.069825, -74.953222, 36.7875213, -90.43171249999999, 38.8017214, -90.699266, 36.8271185, -89.76431459999999, 34.0275625, -118.2191955, 42.252849, -71.124386, 40.2877727, -84.1880886, 42.1428026, -72.55345779999999, 40.452822, -86.917637, 42.6486841, -84.07200999999999, 36.837651, -76.136011, 42.4951413, -83.4709294, 36.8605335, -94.3832149, 33.036646, -116.8774806, 40.8440689, -96.7384981, 42.43249429999999, -71.4500474, 43.0093936, -74.3600649, 46.142836, -122.895807, 42.0960617, -76.0546668, 30.0027657, -95.2679738, 38.8472946, -77.3031501, 42.8634978, -84.8888712, 39.998645, -75.733059, 40.263663, -80.172274, 41.0252621, -80.74353719999999, 39.8864493, -83.4482529, 30.005121, -81.689357, 33.8800511, -117.5828499, 42.3189788, -83.1884025, 38.8200453, -82.1787063, 39.2294724, -83.6103504, 42.31376849999999, -71.2121457, 30.4142526, -86.604961, 34.847249, -84.9462889, 48.11476769999999, -96.1564834, 44.7253674, -85.1837791, 43.421421, -82.84494289999999, 33.4579815, -90.6371217, 39.689318, -74.99190399999999, 39.0059672, -87.7547857, 40.3344479, -94.87436699999999, 42.0801768, -86.4178884, 41.1224537, -100.7628129, 47.5203196, -122.2669215, 43.0162489, -83.07145469999999, 41.7486193, -87.75523280000002, 38.6857396, -85.79222229999999, 41.8890269, -87.9109645, 42.0405435, -87.78391440000001, 26.5622542, -81.9491353, 29.62050289999999, -82.3803037, 21.3096617, -157.8095023, 41.411878, -82.210127, 33.9005082, -84.4745379, 45.8118701, -88.0608056, 40.9414334, -87.2167528, 33.3932658, -111.9777438, 43.309311, -87.9585929, 42.9304348, -88.837473, 32.5841915, -117.0396785, 41.3174953, -81.6272015, 47.501282, -122.3545164, 44.8829797, -93.12420379999999, 35.9984304, -106.0641289, 40.663174, -74.214584, 34.1209048, -93.04736849999999, 42.103917, -87.8489747, 38.211914, -85.7209797, 39.724995, -86.152118, 39.8459941, -84.42631639999999, 38.615128, -121.269841, 38.0003138, -85.7637037, 40.1723982, -84.9657533, 36.103329, -80.2300374, 42.2543959, -70.9962986, 36.7112188, -93.3723677, 39.842308, -75.729745, 38.8955025, -99.31698159999999, 40.4921995, -80.0622321, 41.8104142, -77.0788791, 30.26037999999999, -97.7580867, 32.924549, -97.077603, 38.7173797, -82.8569713, 42.29871, -84.02411599999999, 46.3223507, -119.9910334, 37.29993930000001, -121.8224652, 42.859262, -112.435446, 43.5906188, -116.2719779, 36.0486837, -86.6520533, 42.79720409999999, -71.0885175, 43.02384259999999, -71.199161, 48.0530041, -122.1864277, 41.1031617, -85.16318799999999, 38.6925318, -75.3983486, 41.6792975, -73.0199557, 27.0709061, -82.4232933, 41.4357152, -81.5185237, 40.1083799, -83.01560599999999, 47.5452281, -122.0585482, 43.240652, -78.19732599999999, 38.6867872, -121.3415212, 40.1821628, -122.2195775, 30.3295467, -82.96044909999999, 41.7864586, -87.86807069999999, 40.054263, -77.51436199999999, 37.611297, -77.3400939, 35.6243938, -82.5539416, 35.6936133, -80.5133446, 42.559949, -113.7939993, 34.2837467, -81.59759489999999, 42.5891583, -88.42894659999999, 34.0617267, -118.2995698, 35.4874703, -86.4422728, 36.0624967, -79.4001689, 30.03842789999999, -89.9756981, 41.74371, -74.07108199999999, 42.1677255, -71.3555305, 30.763038, -86.57677199999999, 39.1296831, -94.5035218, 35.799079, -78.57712900000001, 41.4193861, -87.3648097, 33.5873167, -86.12468059999999, 26.2032088, -80.1577834, 25.9285083, -80.3094555, 44.97085980000001, -93.49495329999999, 34.3410027, -86.3086432, 32.808037, -116.973147, 36.6983064, -101.4833082, 37.8132407, -94.7060322, 40.6151613, -79.1563319, 37.8221223, -82.8176987, 29.5037174, -95.1154814, 39.16827869999999, -76.7827255, 42.0316067, -91.610421, 43.107513, -88.4833979, 40.828054, -73.9252904, 36.6089429, -121.9232367, 28.347799, -82.186864, 42.5328828, -71.7475618, 41.9442194, -80.5578524, 40.0752152, -80.8734295, 39.481504, -119.790769, 38.2809544, -122.2755307, 41.894698, -87.755238, 27.9779327, -81.9592108, 35.7723515, -78.6380239, 34.6374847, -99.3316634, 30.3028779, -81.9724762, 32.51971770000001, -84.9555614, 32.7831247, -79.9373674, 34.6673416, -88.5649584, 47.5344697, -122.5962289, 29.8425531, -95.6452183, 32.910976, -80.668528, 34.0174594, -84.4911879, 34.43292, -85.7334338, 36.1252246, -115.2223861, 42.24103119999999, -85.67811139999999, 27.3379885, -82.4988972, 40.240554, -76.805115, 40.6745314, -73.43615919999999, 40.48744, -85.59485699999999, 42.2239137, -83.4855949, 42.1970197, -83.2999167, 37.437768, -77.47239739999999, 43.41216439999999, -86.2461884, 39.495616, -84.3212623, 41.463719, -81.953981, 40.3327164, -83.7620506, 39.1504584, -84.62819650000002, 38.6359168, -121.4764835, 38.6633659, -90.5771493, 40.620227, -111.902082, 39.594776, -105.069794, 38.8286137, -104.8414483, 42.9498148, -78.78573589999999, 37.1562716, -76.55528269999999, 35.5324928, -82.8626802, 40.4274369, -79.69913, 42.1084122, -72.0787059, 33.4400615, -86.0826747, 34.05003, -118.248359, 35.9954301, -112.1225794, 41.7118903, -86.8821711, 42.394009, -88.1844124, 32.523789, -97.30884329999999, 42.5819316, -83.611921, 30.496448, -87.189177, 42.92125, -85.5621484, 39.2930059, -76.65674709999999, 25.0096839, -80.51770479999999, 38.0795277, -88.1779632, 36.4146987, -89.0710379, 44.4486174, -93.1700547, 28.2465243, -81.30073809999999, 44.1448099, -87.5674257, 32.8164924, -96.87097539999999, 38.5566029, -83.82575609999999, 39.9450816, -83.0367631, 41.499543, -81.66538299999999, 30.9060108, -87.03447919999999, 35.8410692, -78.6117721, 40.0147962, -74.31152039999999, 29.9624984, -90.15631359999999, 31.3508882, -89.3407304, 25.859784, -80.210172, 43.5993189, -84.08902990000001, 41.9624769, -87.837113, 26.1045455, -80.2013339, 44.8369497, -68.7419814, 40.483397, -89.0232758, 39.665944, -86.097973, 30.2298355, -92.38170459999999, 38.3428893, -77.4932252, 35.408288, -119.021435, 41.613448, -90.78253099999999, 36.1585849, -115.1626224, 46.2890164, -96.1101683, 39.9886679, -83.03056099999999, 31.7293436, -98.97844889999999, 26.171858, -97.99262399999999, 35.5217755, -78.358505, 42.40911990000001, -88.612956, 41.7993429, -87.94667659999999, 43.8336929, -111.778528, 30.58756229999999, -84.5951615, 32.8361656, -96.9293989, 33.568682, -84.5380969, 40.1134215, -85.57357119999999, 45.1956336, -93.23580799999999, 34.0964417, -118.326663, 44.7455484, -93.2807113, 42.225504, -88.311374, 35.0935896, -89.8077234, 40.158043, -75.891377, 43.6375919, -70.2560419, 41.8553955, -71.3518955, 37.9769424, -90.1033444, 38.8119527, -94.5318982, 39.3996081, -76.9328999, 40.8147707, -75.7344361, 29.43084889999999, -98.4048472, 39.0764652, -78.9649517, 39.40869199999999, -76.608868, 31.9382652, -81.3034433, 45.9746211, -94.3381158, 45.3300104, -118.0755144, 39.7502842, -86.2262776, 39.8908619, -84.1902905, 39.4360002, -92.43341799999999, 38.9206146, -77.0223555, 32.978967, -115.5422438, 40.3646074, -79.98383729999999, 30.0901528, -95.63157520000001, 39.97226939999999, -77.63280069999999, 35.0298702, -97.93422819999999, 35.511286, -97.97314109999999, 41.878721, -87.6279522, 38.2190531, -85.6287816, 31.4232292, -100.4962913, 34.9645642, -80.06034489999999, 34.9848799, -81.97350449999999, 39.9597462, -84.18817779999999, 39.55733, -76.37060799999999, 46.711581, -92.4618315, 37.691536, -97.44378900000001, 38.9768263, -89.1011272, 38.5174892, -89.9490122, 42.215359, -87.819035, 41.2972583, -88.1405616, 32.811433, -116.918453, 27.9170794, -82.76332959999999, 39.2238974, -76.6586935, 46.4629225, -90.1649619, 41.7497366, -88.11571339999999, 41.0252135, -84.0483048, 38.2474658, -78.1121175, 34.0363336, -118.0401967, 42.4698428, -92.3220629, 39.5299267, -86.8014784, 47.6144871, -122.3379335, 45.84979910000001, -119.2894859, 46.20965090000001, -119.2228323, 40.547224, -75.6018947, 38.0747283, -75.5590675, 33.8873734, -118.1422678, 32.3645888, -89.47423479999999, 30.64956, -87.91187099999999, 42.0048715, -87.6731925, 40.3738498, -111.7875528, 38.5367367, -76.98439719999999, 42.0071186, -87.6904699, 39.6278461, -106.0633277, 43.5673874, -89.46963869999999, 43.5564308, -83.9506033, 42.8042721, -86.11358349999999, 32.2214316, -110.8613695, 36.100505, -115.186309, 36.0754183, -79.0997347, 40.21353939999999, -75.01114749999999, 39.794113, -75.4673586, 33.2243032, -117.3334189, 39.8384587, -75.087661, 41.685708, -87.607663, 39.688211, -84.132617, 35.2005195, -87.04233459999999, 35.026134, -106.681112, 32.0710495, -96.503534, 42.3032907, -83.1208578, 41.6581999, -88.0004443, 38.222287, -122.1266086, 34.219274, -118.607119, 41.2965325, -92.6524934, 39.966355, -81.8965224, 29.7396844, -95.6436512, 42.7811844, -96.1829297, 38.1951639, -79.0020285, 39.7205056, -91.3925261, 41.4900013, -90.44082569999999, 36.701412, -81.9751192, 37.3491798, -108.5679911, 34.9115899, -85.12477249999999, 36.9571301, -81.0953147, 44.847598, -87.36366699999999, 36.7171847, -78.1176016, 32.5412924, -94.7484873, 39.308623, -81.55324, 35.69745, -89.97949799999999, 35.1494135, -89.9202973, 38.7881581, -90.5136318, 45.297039, -93.7994427, 37.7119439, -89.89157089999999, 41.6458634, -88.6217432, 41.4879122, -87.47034579999999, 41.5481904, -89.13023899999999, 41.1124764, -88.4123236, 41.7424449, -87.66275759999999, 37.77130530000001, -120.8358727, 39.2374343, -121.0367487, 33.8427017, -117.9412361, 46.980467, -120.5447138, 46.73001199999999, -122.978146, 42.3469328, -85.2403161, 42.4427639, -83.6506969, 42.8413453, -85.676887, 33.239376, -87.5774536, 33.9111774, -84.80208929999999, 36.8366772, -119.7537211, 40.2367, -83.35090699999999, 38.9126129, -75.4279748, 41.8097238, -73.10655799999999, 41.85340799999999, -71.428725, 42.1482576, -71.4911948, 43.61739499999999, -70.32043999999999, 40.8497787, -75.28979430000001, 41.6585917, -93.45258059999999, 34.1610491, -86.8359959, 38.4926409, -82.6645392, 47.8901003, -97.0703927, 31.3085039, -86.48329129999999, 32.8125961, -79.8549652, 28.577443, -81.453102, 43.08057669999999, -94.2366667, 39.6510106, -78.91052650000002, 34.0438687, -117.9886415, 29.5676846, -95.28662159999999, 37.4600112, -89.23455469999999, 39.3574436, -85.47880649999999, 41.205576, -96.127262, 33.745468, -118.105129, 43.0912037, -75.2218913, 39.4772139, -80.120549, 40.91043639999999, -78.2468941, 42.1589038, -78.7441084, 38.4843657, -90.7591092, 32.2642764, -109.8391953, 35.2517326, -81.0431716, 41.8181873, -87.9261148, 38.384559, -86.939886, 33.987059, -81.243759, 29.6591451, -82.4072463, 39.1162409, -94.6723028, 46.47438440000001, -84.3586067, 39.7592922, -121.8566327, 47.5015173, -122.1874011, 47.5463009, -122.3303251, 29.8815917, -90.022866, 39.6189401, -83.60514169999999, 41.7508084, -77.29665949999999, 42.607829, -76.1586796, 41.859676, -71.468549, 35.7340936, -79.4384661, 39.9727279, -104.8281272, 41.1784441, -73.18957759999999, 36.5766044, -119.6260816, 35.4638138, -97.6551569, 42.04138570000001, -87.7001025, 40.8384967, -81.260094, 30.745286, -88.1117798, 36.3714003, -80.07000819999999, 42.2922762, -75.3950608, 40.0253533, -83.0145691, 43.4836854, -70.4716554, 40.9832423, -75.1973543, 42.6156758, -83.4341963, 36.7351832, -120.0612325, 45.2782972, -93.0001606, 37.6101812, -77.5644523, 32.9392921, -96.9022067, 36.4341538, -99.41592849999999, 29.4238122, -98.4873916, 34.6935694, -79.9102577, 41.360401, -72.116506, 45.520612, -123.089021, 29.9565686, -94.0068672, 40.9012256, -80.8340027, 39.631209, -78.754603, 47.1485432, -122.2925417, 43.3992803, -94.8103385, 40.123773, -82.9475586, 41.7819243, -70.5417097, 38.4009226, -85.37613139999999, 39.400668, -76.4783999, 35.586633, -82.588177, 39.03227649999999, -122.9244263, 36.917185, -76.230098, 32.9500333, -117.1077207, 39.9440585, -75.11696049999999, 39.313472, -76.7490863, 45.1773369, -93.3931076, 35.2380832, -77.573847, 42.9127449, -78.81416209999999, 35.4906612, -80.6115602, 35.765363, -81.33323, 36.3713558, -94.22097900000001, 35.577227, -89.644009, 32.3998696, -99.7593713, 40.2029574, -79.9254272, 38.992482, -94.71298499999999, 39.3900275, -77.4087935, 43.1115585, -87.9505533, 34.8306249, -92.1824626, 40.386759, -80.091979, 41.508113, -87.848658, 29.6354399, -95.4940711, 34.6236555, -89.95342699999999, 36.0948145, -79.406722, 38.671645, -121.161727, 45.1218223, -94.50536460000001, 41.748007, -87.817346, 38.9748376, -74.94260609999999, 33.4510435, -112.1348622, 39.604535, -77.808115, 43.22079850000001, -85.4711153, 32.8310124, -117.1357414, 42.4154872, -82.93780199999999, 39.02652, -94.44260899999999, 37.382176, -121.979273, 30.004253, -90.0364119, 32.677438, -97.13614000000001, 39.0288221, -95.749259, 27.9620486, -82.4023983, 41.9100276, -87.735468, 41.6866352, -87.64192829999999, 34.6487652, -86.031634, 40.0613765, -74.1417613, 33.9759748, -117.4769171, 42.9142705, -85.73252169999999, 42.1984863, -83.1507067, 32.6039799, -96.8232894, 32.6931145, -117.1344027, 32.1344272, -110.9769771, 22.0493419, -159.3348099, 39.8562625, -86.391904, 36.757912, -119.8320663, 41.0068312, -91.9828162, 42.035777, -91.65579, 30.56362889999999, -81.82982380000001, 40.9623227, -81.5653683, 38.1388916, -89.7030635, 41.8202582, -87.81839939999999, 41.5498571, -87.13707319999999, 26.881682, -80.05653269999999, 34.206195, -84.77574000000001, 40.6954126, -82.5126887, 42.2520681, -85.53136239999999, 37.441814, -77.58503999999999, 43.116371, -83.616928, 39.137179, -77.7056605, 42.5352672, -83.06531869999999, 42.0258416, -87.85322459999999, 42.7198558, -87.8625272, 48.5113598, -122.6121795, 44.4043038, -88.74319009999999, 38.4157591, -87.76357639999999, 41.2773991, -72.5382124, 37.1507, -80.41409999999999, 29.701201, -98.09423299999999, 39.5164127, -76.558216, 42.8729364, -87.93300219999999, 41.5182228, -74.06937649999999, 42.9300668, -75.85269149999999, 39.012835, -85.638469, 36.7146174, -91.87475680000001, 37.6480543, -122.4295872, 38.1543975, -92.6069394, 41.3144155, -81.7227449, 34.4708161, -114.3432726, 41.170666, -85.485147, 41.4636934, -73.2176724, 40.9584181, -75.97464719999999, 41.87580519999999, -80.1291603, 33.8838533, -84.4764941, 45.0371658, -93.1974195, 37.60868740000001, -122.0664155, 44.70523439999999, -93.4341202, 41.0430316, -82.7227743, 45.1789003, -93.87146039999999, 25.6277366, -80.37549650000001, 43.1168925, -88.05346, 40.098717, -83.12359099999999, 38.4324472, -82.0201897, 35.0689674, -106.4989399, 33.4520571, -111.8393378, 36.552409, -82.624943, 34.966871, -81.929588, 35.7122553, -83.5172882, 44.2322374, -69.7739814, 39.67412940000001, -104.7915924, 39.8065457, -104.9297924, 44.523942, -122.9075075, 28.3040861, -81.422404, 42.0815041, -79.23011260000001, 34.572349, -87.013958, 42.0423983, -93.87891929999999, 43.9830762, -83.95888029999999, 42.6181927, -82.9908677, 40.8428384, -79.9187244, 47.62051049999999, -122.3471266, 36.65261, -79.874387, 40.1535081, -105.1031924, 39.9916608, -75.026704, 40.7781217, -73.530771, 32.7475339, -116.9613625, 39.6097363, -84.15985599999999, 31.770435, -106.376847, 43.6485953, -116.6660028, 47.9232711, -122.0973389, 47.6275681, -122.1545355, 27.821451, -82.728967, 41.9291418, -88.7477174, 33.4560797, -112.341577, 35.1311648, -106.552459, 41.2903879, -87.4005439, 40.1961391, -75.4698903, 39.774229, -85.993865, 32.9346942, -80.0503573, 30.3918349, -88.65233959999999, 39.085208, -95.665935, 34.9185275, -110.151204, 26.5859479, -80.067396, 43.83509410000001, -88.8102409, 33.99265550000001, -117.9120896, 43.61739499999999, -70.32043999999999, 39.31920789999999, -84.49821109999999, 42.2997516, -71.4401745, 41.88401020000001, -70.9177339, 44.9872698, -89.65201909999999, 43.103907, -89.487173, 30.1663963, -81.7484296, 39.9191949, -88.9545656, 41.9477887, -87.65727509999999, 34.135465, -117.252807, 39.8199134, -88.87834819999999, 33.376834, -79.2944964, 29.3549284, -98.480754, 38.9876582, -76.54922630000002, 35.9014883, -78.8957697, 41.7495418, -83.62732179999999, 42.727905, -73.70016400000002, 33.6277856, -117.7161983, 44.9022687, -93.5583602, 40.0095696, -74.147528, 41.6480957, -93.6966757, 40.8063364, -73.9256281, 37.3751742, -121.9185642, 38.6365461, -75.5929788, 27.5207627, -82.55799909999999, 28.7087578, -100.4869463, 40.2884785, -76.8201976, 39.636395, -79.966393, 41.3137351, -75.31808939999999, 41.0120234, -74.1672368, 27.5924638, -81.51390459999999, 40.1642484, -74.9024072, 41.7553475, -124.193509, 41.136499, -81.638674, 37.0460078, -88.65569239999999, 35.97193499999999, -83.986087, 35.9003152, -78.68147619999999, 40.6634555, -95.8595954, 39.7438365, -86.2795603, 41.1430969, -75.9001754, 34.2339613, -77.99651, 36.4049993, -105.5741676, 36.8590566, -121.4010824, 29.5720731, -95.0266958, 40.3078239, -88.17264999999999, 28.570267, -81.234233, 37.3160353, -121.7936757, 40.7326732, -89.5745976, 31.8548497, -89.7777872, 35.8969755, -94.9758442, 34.2271622, -83.8654643, 40.1375603, -88.2430665, 40.0740539, -75.084251, 40.21949, -85.4314459, 44.6468601, -124.0523677, 45.21011619999999, -123.1987163, 37.7050343, -85.8467117, 43.4096218, -86.3183123, 41.7685281, -87.6269971, 40.8163156, -73.9168376, 47.5718557, -122.6622272, 40.863591, -74.128095, 40.653412, -111.984287, 38.7465211, -90.57850289999999, 35.0965624, -90.0562472, 39.0691619, -94.52006399999999, 40.0291125, -81.5656116, 41.4769322, -90.5052769, 27.7351649, -82.4306039, 35.1300894, -86.5657597, 41.9444103, -87.8072523, 36.1345261, -80.65968240000001, 36.8204459, -119.789878, 38.6525675, -87.1580542, 41.1713611, -104.8285733, 41.8516145, -87.7220737, 30.050249, -99.138015, 27.8398629, -82.76284009999999, 41.8470848, -87.61674889999999, 42.7677068, -78.6298458, 41.6922339, -83.56999479999999, 36.3503462, -92.3695931, 41.6441845, -87.7386167, 35.5634623, -88.81485789999999, 40.5098811, -88.95597649999999, 32.5398645, -92.6342217, 40.7570347, -75.5941988, 35.2115276, -90.03270499999999, 36.9641491, -76.60569509999999, 41.53564919999999, -73.89902520000001, 39.8231145, -84.94365239999999, 41.6710352, -72.86105529999999, 34.4185734, -79.36910999999999, 35.1541727, -103.7248645, 41.5710156, -84.13465169999999, 38.0833252, -85.66829, 39.6255917, -85.44432069999999, 43.029854, -89.40951, 40.7704767, -76.2253259, 43.341672, -83.739018, 34.028538, -117.650192, 35.226574, -111.5797676, 31.8813516, -102.3852364, 38.9893507, -76.8230013, 33.6806633, -84.39399139999999, 41.924028, -87.7659925, 41.720014, -87.77175799999999, 40.58221109999999, -124.1456316, 39.226339, -84.396817, 34.98533159999999, -78.96530829999999, 42.4042, -71.0355433, 37.8968445, -88.9514773, 43.1144376, -75.2768128, 38.8410202, -91.9507481, 35.7960758, -80.93880539999999, 38.042532, -84.4241473, 47.3979716, -122.295308, 26.643713, -80.056775, 35.19287, -80.795726, 21.309846, -157.860959, 29.7560322, -95.36799649999999, 37.9929157, -103.573706, 44.795727, -93.591375, 44.73109669999999, -93.1319065, 47.6895258, -122.1579321, 37.9863891, -87.6000516, 26.703654, -80.11179899999999, 39.10804419999999, -93.20906160000001, 38.486072, -90.382969, 40.5463954, -89.60242509999999, 35.00615519999999, -78.8175045, 35.317265, -119.0332715, 34.2399675, -111.3229493, 33.5845581, -92.8343294, 39.6134793, -77.4187654, 47.39979, -92.92440099999999, 44.3692447, -100.3580357, 47.7528474, -122.1534388, 39.072496, -94.3800602, 38.580682, -92.235204, 42.2314575, -71.7938092, 37.012498, -76.4036, 38.7818395, -77.0773315, 38.4287072, -75.0559674, 29.8623585, -95.4729492, 32.7891929, -96.5963532, 35.337734, -82.445278, 33.7385213, -117.9204711, 38.6769079, -77.27944269999999, 34.0654242, -106.8926751, 32.7421798, -96.9274319, 41.3720565, -93.5589747, 27.9846694, -82.2725997, 27.8826555, -97.3186264, 41.702427, -87.525075, 36.4812387, -82.4965309, 40.8240115, -97.59776199999999, 37.787874, -89.32454530000001, 37.0520083, -94.4789734, 39.863389, -105.0250159, 39.6020309, -104.987525, 32.6725039, -97.1940849, 32.5196217, -86.21005149999999, 39.447648, -74.7339499, 33.409833, -82.026376, 27.83593, -82.68090699999999, 43.8398555, -84.76770610000001, 39.7451415, -84.3925064, 32.3292185, -90.32652709999999, 40.3988343, -80.026459, 38.2674419, -85.783082, 42.269968, -89.001037, 40.8133767, -79.5498875, 33.5859415, -79.0122385, 36.725032, -76.63371099999999, 39.2867749, -86.7567955, 39.89, -75.52, 40.3635163, -74.9662572, 41.5873573, -83.5670749, 34.12646060000001, -116.4057969, 41.5632144, -72.8748255, 32.6984988, -114.6332466, 32.790362, -80.030732, 42.4281713, -83.37580559999999, 26.0636, -80.283672, 35.865663, -83.56795799999999, 45.3299329, -122.5852123, 25.7134787, -80.4288021, 40.4539226, -109.546449, 44.5012196, -103.860642, 39.4101481, -81.4307084, 33.6796104, -93.60440779999999, 43.47239, -89.76813790000001, 34.2617359, -77.8291408, 40.38609530000001, -86.9181897, 43.5654501, -83.89414579999999, 32.432133, -97.793652, 39.496961, -74.995221, 34.6140126, -120.189158, 32.9522927, -80.16565340000001, 43.68842100000001, -70.294478, 41.538681, -90.6216079, 39.1200471, -90.3284479, 45.4122378, -83.82636289999999, 33.941343, -117.2267238, 47.3578566, -122.1085168, 29.7750029, -95.3171201, 28.048381, -81.9076209, 30.3524139, -81.5766895, 27.7533838, -98.06036019999999, 37.9769304, -87.393199, 26.8092652, -80.09441319999999, 47.2220383, -122.4744932, 42.123385, -75.9699279, 41.9654427, -87.6549994, 45.8568082, -84.7386077, 40.3930283, -75.5019387, 39.4409125, -84.3390419, 41.54781380000001, -87.470732, 40.6077799, -75.4909971, 41.1320563, -74.3640937, 27.5302481, -99.4759043, 40.2687165, -74.5420906, 40.4698231, -83.8894524, 38.5403996, -76.5844017, 28.9834545, -95.9649687, 44.3393976, -93.949302, 40.7520097, -80.31922949999999, 40.2778866, -80.1240897, 40.3700263, -76.19013009999999, 34.2499538, -117.189477, 34.1024607, -117.29825, 40.6901328, -74.2023835, 32.84174, -97.23809299999999, 36.7719099, -76.3392133, 34.8393633, -114.6100944, 37.4764335, -105.8938032, 38.6271871, -77.29983539999999, 33.1765163, -94.9699433, 38.5802165, -95.26856620000001, 44.2366602, -88.4231977, 42.96187279999999, -78.75505629999999, 26.4593938, -80.1231722, 40.9188153, -74.1532969, 42.0331921, -86.5134786, 38.9421319, -121.0957141, 33.9887875, -118.2910369, 37.6171104, -84.7712327, 42.4533501, -93.8171674, 41.4625433, -81.0858708, 25.895684, -80.1621849, 47.8499584, -122.2183951, 36.397751, -83.0153965, 41.8503744, -87.7839687, 35.7709815, -95.3593343, 44.8753949, -94.3765293, 40.6538869, -73.5678308, 41.50810570000001, -83.35848639999999, 42.1342068, -72.74164259999999, 42.7226049, -82.59633439999999, 41.6012962, -72.67571509999999, 45.38095029999999, -122.7638889, 39.25370849999999, -84.79529389999999, 43.020523, -78.87888199999999, 42.6994954, -78.9848769, 41.64778450000001, -85.9373097, 61.3270071, -149.5712894, 35.587033, -82.488787, 38.2438774, -104.6181261, 34.726455, -77.528727, 40.6343881, -80.3175986, 31.6167672, -84.2197865, 32.5372749, -82.971344, 34.0478528, -117.3094152, 45.067193, -93.44384199999999, 41.2286305, -80.45061179999999, 48.3961253, -114.3348802, 48.5550752, -109.6898021, 44.0051597, -88.5814505, 39.8735968, -74.8120727, 27.328739, -82.53007699999999, 29.4384171, -98.44979, 33.9976812, -96.40597009999999, 38.4212154, -82.2671716, 41.3219217, -72.8781135, 30.607351, -96.3098535, 26.2277252, -80.2255912, 45.4080356, -122.5682125, 42.2495242, -121.7897596, 42.46779919999999, -122.8119888, 40.1220374, -111.6379013, 42.0963429, -102.8932254, 43.0480198, -76.22808429999999, 41.9984164, -87.8840389, 29.2782748, -81.0837349, 34.8689342, -85.51424920000001, 44.7918021, -93.2185069, 39.6528768, -104.995428, 39.7394589, -105.197358, 36.884969, -104.4333003, 41.3105319, -96.05341039999999, 39.9265394, -86.15864479999999, 42.1148062, -87.7418601, 35.0801905, -84.0355254, 35.6098957, -82.3200071, 42.9179624, -89.2379895, 45.4758837, -122.5796171, 36.07184, -83.928102, 37.00162900000001, -121.55995, 31.1084054, -93.19309390000001, 40.3416765, -76.8028933, 35.0744495, -106.5511758, 32.3773195, -95.33190719999999, 42.8045712, -73.90351369999999, 42.5321848, -78.4493674, 40.6609614, -74.2671884, 42.1647154, -72.61363879999999, 43.0883499, -75.7515453, 39.4431669, -77.9870863, 36.7364109, -119.697568, 41.9534174, -87.76906869999999, 39.820336, -75.23690309999999, 32.3346124, -96.614558, 32.3379522, -111.0483765, 34.2473188, -110.0273386, 38.9856412, -80.2257916, 39.877172, -105.0962519, 41.09105, -112.002518, 37.9890761, -81.1341905, 42.2330333, -72.0124746, 37.434443, -121.901365, 40.1076568, -83.73721420000001, 38.8023739, -81.7392619, 42.6389194, -83.3492297, 30.5324666, -87.26695099999999, 32.678682, -97.04495899999999, 32.5037972, -87.83791889999999, 37.1398631, -93.2969184, 40.81391, -96.631711, 38.349839, -90.15029299999999, 39.0087291, -94.2765822, 36.1748774, -115.0615875, 28.872144, -82.09092199999999, 42.125529, -71.6460699, 42.2528649, -73.790959, 29.9659616, -95.58593189999999, 37.10831750000001, -79.2916276, 40.0508318, -76.3943413, 41.0494951, -94.3693126, 41.961189, -75.7432424, 32.4256545, -84.9493253, 33.480165, -80.460787, 40.6054302, -79.60496789999999, 38.8599899, -76.96888799999999, 39.9137118, -104.9404005, 33.640074, -112.0289332, 40.07088299999999, -75.44307150000002, 39.824435, -86.15861, 37.140411, -84.0998303, 35.2052093, -89.8617261, 35.133423, -89.96188579999999, 36.2083964, -86.7774026, 39.7810732, -86.0900549, 41.6577271, -86.21856129999999, 32.0531022, -81.10682489999999, 42.1676785, -72.4809841, 26.0455674, -80.2318514, 26.935539, -80.081051, 25.5193295, -80.4260449, 38.2057691, -81.50549649999999, 41.4068926, -82.5925224, 39.2796331, -89.8996156, 28.821943, -81.784639, 38.6736857, -90.40020469999999, 40.761931, -95.38562309999999, 38.034012, -84.45423, 36.1521567, -86.8435217, 41.7950256, -87.62303209999999, 28.079953, -82.738486, 38.2097987, -84.2529869, 44.90381610000001, -93.1640979, 40.61718690000001, -89.4647674, 39.1102558, -76.9334882, 58.3643841, -134.5760263, 33.4685383, -82.07744029999999, 36.235472, -86.758967, 39.24544909999999, -94.65963599999999, 45.3102169, -93.55649749999999, 41.33016, -93.1095125, 42.1431113, -72.4896523, 43.51577169999999, -84.11844930000001, 30.0222875, -95.5224144, 39.3479901, -80.00312009999999, 43.387214, -95.1270898, 40.00467, -75.18001699999999, 41.7922601, -107.2157928, 40.7011675, -80.1041236, 34.885025, -82.7044568, 42.3640791, -87.83037209999999, 36.1162066, -97.07034519999999, 38.253443, -85.745296, 41.9007206, -88.739037, 38.9988342, -104.7811281, 41.2406507, -73.03428579999999, 40.2094839, -74.0270309, 39.5627543, -75.4580965, 41.7544984, -71.41301090000002, 42.2956892, -71.7726279, 34.019368, -118.15083, 40.82340930000001, -74.1872411, 40.6977621, -74.2599181, 40.8159927, -73.9589499, 32.7767319, -96.76512489999999, 36.8246432, -76.40465189999999, 43.0450244, -91.1404519, 42.9478378, -76.54765069999999, 40.0081321, -86.12736869999999, 43.1044111, -77.53914050000002, 30.0953804, -94.1113572, 30.307544, -89.376204, 28.033383, -80.62129000000002, 42.071182, -80.0397931, 36.1205033, -79.84343779999999, 29.447913, -95.0770579, 47.749346, -122.655195, 35.9702496, -85.03823129999999, 44.1900071, -94.01465519999999, 30.7639831, -85.5419759, 28.02541, -82.561932, 33.787372, -117.808641, 39.75251, -84.1386107, 41.0714179, -75.7021309, 26.3274773, -81.8051009, 37.6671711, -122.0811968, 32.5854982, -82.3237535, 37.6438026, -122.4537217, 41.7221587, -87.5757783, 34.9981695, -78.3098816, 30.1972814, -97.7857458, 34.440328, -86.942959, 40.09266239999999, -76.11686, 36.7983781, -76.1779744, 40.17619699999999, -76.98544849999999, 29.5282787, -90.3360557, 25.9394434, -80.27658699999999, 35.163449, -83.39253599999999, 38.2063777, -85.6678986, 26.675691, -80.66998799999999, 44.05301370000001, -123.1216954, 37.8369091, -94.3584774, 37.681847, -97.33592019999999, 39.367651, -101.0548046, 37.9668511, -121.295337, 33.9721497, -112.725125, 35.839194, -84.295378, 40.5672633, -75.3400975, 30.6879754, -88.123838, 30.4849176, -90.4573483, 37.0931868, -76.3964732, 33.3236393, -105.6279322, 42.0953408, -83.677111, 34.478855, -91.55148899999999, 35.6056189, -105.2229707, 41.4921947, -112.0166118, 39.1468622, -94.5562619, 36.0603005, -80.2595623, 44.8307377, -93.2869305, 43.9804605, -84.5004886, 39.010006, -74.79332099999999, 42.627083, -88.626924, 41.8691065, -87.9349829, 31.5303795, -83.8265174, 47.4439172, -122.1961723, 26.6194115, -81.9404232, 41.9485328, -88.09496089999999, 38.2185721, -91.1625682, 35.5977485, -84.504999, 40.3503096, -75.919647, 40.8715998, -82.6464269, 32.309467, -110.892122, 38.9631479, -92.2899126, 40.09737, -88.19118019999999, 41.0898827, -80.5903641, 35.9214851, -81.1852832, 39.25825, -84.3408335, 42.209301, -89.07348999999999, 42.2097886, -85.8908518, 42.915021, -78.89256329999999, 42.3014913, -72.7481306, 29.41611979999999, -98.649988, 42.7216813, -83.3797489, 39.4760774, -118.8007118, 45.5372795, -122.8670715, 29.8036692, -90.81623429999999, 33.2671397, -93.224769, 42.140425, -83.210143, 42.4420089, -83.7562195, 43.5670136, -76.1277027, 43.2083582, -77.6908576, 26.3678715, -80.2033723, 37.5177847, -82.56604039999999, 42.27814009999999, -74.91599459999999, 40.6278496, -73.7373258, 28.0876456, -82.46044429999999, 28.484, -81.459519, 39.8538188, -74.9824738, 41.9706163, -87.7636971, 41.5260323, -90.4990346, 44.566934, -92.575537, 39.2920572, -84.3134402, 36.2840495, -95.84594680000001, 26.6068138, -81.6504964, 38.9579604, -119.7734755, 40.4672115, -85.3706414, 37.6451446, -98.7155239, 41.8073371, -87.7435098, 40.1489607, -79.54114969999999, 40.8343077, -83.2443369, 42.9067826, -74.5483951, 41.2891414, -72.6689949, 38.544825, -106.917205, 30.286336, -81.527226, 42.4595744, -92.3574422, 33.685579, -117.85695, 46.7070106, -92.0473718, 39.8166871, -89.642806, 37.95549099999999, -87.5139669, 32.797225, -97.3492009, 38.59954889999999, -86.10162849999999, 34.045896, -118.464775, 33.3662016, -111.8585294, 30.495972, -87.262188, 32.5093109, -92.1193012, 39.0711249, -84.30307599999999, 41.1488912, -80.6658685, 40.715293, -89.559806, 41.7360507, -87.62295429999999, 37.6601507, -82.28819969999999, 30.078706, -94.16873299999999, 38.1863245, -85.6375626, 38.7511107, -112.0878705, 38.799743, -77.32320299999999, 31.702435, -83.252844, 32.8355943, -97.0103127, 32.8804344, -117.1595451, 39.9139186, -75.1511326, 41.638692, -87.448894, 30.3989784, -91.1077328, 34.1887025, -101.7509225, 37.788294, -90.4224114, 38.4738276, -121.4285479, 39.7289815, -105.0821967, 44.9246578, -92.97173289999999, 42.2628739, -84.4229158, 42.96349379999999, -85.69607649999999, 35.99287899999999, -86.52725, 39.760715, -84.63721, 42.252419, -89.087373, 45.3626111, -68.5162945, 38.8838251, -94.85522209999999, 43.6182686, -72.95736409999999, 35.9004554, -75.6114116, 34.073393, -117.907192, 46.2650397, -96.6179854, 32.8334935, -97.3429637, 40.1475893, -97.17165969999999, 40.2659612, -82.9184022, 37.384728, -79.9035789, 26.0221877, -80.2979701, 35.4661372, -97.5295675, 40.6493625, -111.9387263, 39.6110062, -105.020619, 28.697462, -81.360424, 32.132734, -94.8047428, 33.1219172, -96.6665541, 40.47181519999999, -88.9543887, 41.2894762, -72.9583535, 39.8023809, -105.10744, 40.7719752, -111.9185396, 37.334452, -79.24303499999999, 47.6285246, -117.3682516, 35.2556881, -87.3248409, 38.1746929, -85.7674342, 38.3661989, -93.75063019999999, 33.1970657, -87.52921889999999, 33.954395, -118.113195, 40.7484892, -111.8304885, 36.3822554, -81.4877152, 33.450032, -112.029563, 38.141967, -90.57624059999999, 34.5252865, -83.9761158, 32.4475384, -93.86377689999999, 26.201428, -98.32430599999999, 38.8922687, -89.41313559999999, 39.7210541, -82.20477559999999, 39.5307042, -119.8141099, 30.6842435, -88.22510009999999, 33.1213877, -96.0983347, 30.2936748, -81.60403289999999, 37.779584, -87.082555, 38.1448079, -85.7772267, 39.197858, -76.81939489999999, 25.7682132, -80.3666863, 38.2948319, -77.4809339, 35.089457, -80.868686, 43.47329149999999, -110.7868501, 35.1705, -92.71915440000001, 33.1668871, -86.2605892, 42.9771215, -77.991467, 39.7578249, -105.142857, 39.3618171, -104.8425422, 39.08927250000001, -108.4557174, 47.7082709, -122.3316747, 39.8309033, -105.0248168, 43.0361753, -87.9923057, 43.046505, -89.34895600000002, 29.9829595, -92.13067980000001, 40.7359111, -74.171526, 38.9806319, -77.0261465, 42.5537646, -71.5717253, 41.31565399999999, -72.94136499999999, 39.6788269, -104.9150942, 39.5194859, -107.3200065, 35.2410102, -81.1946143, 42.5024611, -78.6889837, 45.8892931, -89.70239389999999, 39.0818677, -78.2130384, 35.220079, -80.802542, 28.6706374, -81.4533653, 39.9823749, -74.783293, 35.2177744, -89.9950862, 43.2102528, -77.186225, 39.7650588, -89.68742650000002, 33.7823943, -118.1534869, 39.7994078, -94.81462789999999, 29.931807, -95.4014514, 32.7198288, -96.61748039999999, 41.225924, -96.0437656, 25.8618044, -80.2751246, 32.6286369, -117.0387309, 44.4859345, -88.02001899999999, 46.7404042, -92.16598809999999, 44.8358485, -93.3969161, 42.72561839999999, -90.48187879999999, 25.809933, -80.317374, 41.7224482, -83.5091551, 27.4620474, -82.5985488, 39.0478245, -76.93740509999999, 41.8847041, -87.6292466, 40.5311953, -79.95696240000001, 44.96287179999999, -92.9852209, 41.80907029999999, -87.66227669999999, 39.6445214, -80.85759929999999, 33.71069, -84.216929, 37.7694098, -80.4653616, 39.8969552, -76.622362, 41.8418923, -79.1444909, 35.3785599, -83.21254789999999, 42.5653507, -87.85830969999999, 37.9671562, -122.0617194, 33.2006031, -96.6382143, 40.3842089, -82.4856502, 35.0460214, -89.68608789999999, 43.0197866, -87.932677, 41.2597938, -96.0375464, 33.1155388, -95.59342799999999, 42.287991, -89.115453, 47.8591029, -121.9692688, 38.7427364, -77.2112666, 28.2919557, -81.40757099999999, 32.7573319, -97.0624953, 27.6985372, -97.41140779999999, 42.7997235, -82.7416327, 40.6524309, -74.19813289999999, 29.212748, -99.77812999999999, 40.7853456, -96.6507536, 30.2487192, -81.7679401, 27.9403719, -82.3682415, 45.1407978, -93.1633274, 47.7020743, -104.1658735, 35.3206685, -97.4877916, 35.5394203, -97.5653548, 38.5883319, -121.3052991, 44.3564819, -89.1035878, 34.0566376, -117.8956062, 37.365246, -118.394805, 32.5572963, -83.8839826, 33.6950163, -85.14574499999999, 29.9084125, -90.36388029999999, 40.9836549, -81.4924551, 44.2283179, -74.46325809999999, 30.0202092, -95.37997109999999, 32.5328166, -93.67218009999999, 34.5108144, -83.5452128, 43.08426240000001, -73.5122928, 37.0471344, -122.0325374, 29.6848848, -95.15574509999999, 46.26230409999999, -119.2861105, 28.0504573, -82.7802363, 34.3108201, -89.9433032, 41.57754, -88.15809, 34.6245258, -78.60801579999999, 34.5160495, -87.718536, 30.4848404, -97.67314809999999, 36.0732898, -76.6112228, 32.5225945, -94.68899689999999, 38.795496, -104.7569819, 35.0999849, -77.09207099999999, 30.1957055, -85.7974141, 40.3071944, -74.0624309, 31.7687056, -106.3191291, 39.3090661, -85.2148603, 38.662638, -94.36642400000001, 40.3978184, -74.2268126, 38.8069007, -77.1338598, 25.8089841, -80.2322921, 35.050457, -89.86117999999999, 44.861142, -93.52359609999999, 26.9400366, -82.3491793, 37.7248407, -122.1571701, 38.8125043, -90.3489917, 38.53745019999999, -90.49428929999999, 39.991014, -75.13535499999999, 32.8515175, -97.1128732, 36.1778122, -81.1449684, 26.2278623, -80.2702745, 20.877791, -156.6793949, 41.7733553, -87.9727185, 30.253973, -93.25850799999999, 41.4043556, -94.9906931, 36.0850808, -95.8007233, 26.8962101, -82.00666059999999, 39.816194, -105.08076, 32.008404, -97.09236, 30.2410246, -92.6629055]),\\n\\n  index: new Float32Array([3, 6, 7, 13, 14, 15, 22, 26, 28, 29, 32, 37, 38, 39, 40, 47, 49, 52, 53, 55, 56, 57, 59, 61, 63, 66, 68, 70, 71, 72, 73, 74, 76, 77, 78, 79, 80, 82, 83, 84, 86, 87, 88, 90, 91, 93, 94, 95, 97, 100, 101, 103, 104, 108, 109, 110, 112, 116, 117, 119, 121, 122, 123, 124, 128, 132, 134, 135, 139, 142, 144, 146, 147, 148, 151, 152, 154, 156, 158, 159, 160, 162, 163, 164, 165, 166, 168, 169, 171, 173, 174, 179, 180, 181, 183, 187, 188, 189, 190, 191, 192, 193, 197, 198, 200, 201, 202, 203, 204, 205, 207, 209, 210, 211, 212, 216, 217, 219, 220, 221, 222, 223, 225, 226, 229, 231, 232, 234, 235, 236, 240, 241, 242, 248, 249, 250, 252, 253, 255, 256, 258, 260, 261, 262, 264, 265, 268, 270, 273, 274, 276, 277, 278, 280, 284, 287, 288, 289, 290, 291, 292, 293, 294, 295, 301, 302, 306, 308, 309, 312, 313, 315, 316, 317, 318, 319, 320, 324, 326, 328, 329, 330, 335, 337, 338, 339, 342, 343, 346, 348, 351, 353, 356, 357, 359, 362, 364, 366, 368, 371, 373, 375, 380, 381, 383, 384, 385, 391, 392, 396, 398, 400, 401, 405, 406, 407, 409, 410, 411, 415, 416, 420, 422, 424, 425, 428, 429, 432, 434, 435, 437, 438, 441, 442, 445, 447, 449, 451, 453, 454, 455, 458, 459, 460, 462, 463, 465, 466, 467, 468, 470, 471, 472, 475, 476, 478, 482, 483, 486, 487, 488, 490, 491, 492, 493, 496, 500, 501, 503, 504, 505, 506, 507, 512, 513, 516, 520, 521, 524, 525, 529, 530, 531, 532, 534, 536, 538, 540, 543, 549, 550, 551, 552, 553, 555, 557, 558, 561, 562, 563, 565, 566, 567, 568, 569, 570, 571, 572, 573, 574, 577, 578, 579, 583, 585, 589, 590, 592, 593, 594, 595, 596, 597, 599, 600, 603, 604, 605, 609, 611, 612, 613, 616, 618, 620, 621, 623, 625, 626, 627, 629, 632, 633, 634, 638, 641, 643, 644, 645, 647, 648, 649, 650, 652, 653, 654, 655, 658, 660, 661, 662, 666, 668, 669, 670, 671, 672, 677, 678, 681, 682, 683, 684, 685, 688, 690, 691, 693, 695, 697, 701, 702, 705, 706, 708, 711, 713, 714, 715, 716, 717, 718, 719, 722, 723, 724, 725, 726, 728, 729, 731, 735, 736, 737, 738, 739, 740, 741, 742, 744, 747, 748, 749, 750, 751, 752, 753, 754, 757, 758, 761, 762, 763, 764, 766, 767, 768, 769, 770, 772, 773, 775, 776, 777, 778, 779, 780, 781, 782, 784, 787, 788, 789, 790, 791, 792, 793, 794, 795, 797, 799, 801, 802, 803, 804, 805, 806, 807, 809, 811, 812, 813, 814, 815, 816, 817, 818, 820, 821, 823, 825, 826, 829, 830, 832, 833, 834, 837, 839, 841, 842, 843, 844, 846, 847, 849, 850, 851, 852, 853, 854, 855, 856, 857, 858, 860, 862, 863, 864, 865, 866, 867, 870, 871, 872, 874, 875, 876, 877, 881, 882, 883, 885, 886, 887, 888, 890, 891, 892, 894, 897, 898, 900, 901, 903, 904, 905, 908, 909, 910, 911, 912, 916, 917, 918, 919, 921, 922, 924, 925, 927, 930, 932, 933, 935, 936, 938, 939, 940, 941, 942, 943, 944, 945, 947, 948, 949, 951, 952, 953, 958, 959, 961, 962, 965, 966, 967, 968, 969, 970, 971, 973, 974, 975, 976, 979, 981, 982, 983, 987, 988, 989, 990, 993, 995, 996, 998, 999, 1000, 1001, 1005, 1006, 1007, 1008, 1009, 1010, 1013, 1014, 1018, 1020, 1021, 1022, 1023, 1024, 1026, 1027, 1030, 1032, 1033, 1034, 1035, 1037, 1039, 1043, 1044, 1045, 1047, 1048, 1049, 1050, 1051, 1052, 1053, 1055, 1057, 1058, 1059, 1061, 1063, 1064, 1065, 1072, 1073, 1074, 1075, 1076, 1077, 1079, 1080, 1081, 1083, 1084, 1085, 1086, 1087, 1088, 1090, 1092, 1093, 1095, 1096, 1098, 1099, 1100, 1102, 1103, 1105, 1107, 1108, 1109, 1110, 1111, 1113, 1114, 1115, 1116, 1118, 1119, 1120, 1121, 1122, 1123, 1124, 1125, 1126, 1127, 1132, 1133, 1135, 1136, 1146, 1147, 1148, 1149, 1150, 1152, 1154, 1155, 1157, 1158, 1159, 1161, 1162, 1163, 1166, 1167, 1168, 1169, 1170, 1171, 1172, 1174, 1175, 1179, 1180, 1181, 1182, 1183, 1190, 1195, 1199, 1200, 1201, 1203, 1205, 1206, 1207, 1208, 1209, 1211, 1212, 1213, 1215, 1216, 1218, 1219, 1220, 1221, 1222, 1223, 1224, 1225, 1226, 1228, 1229, 1230, 1231, 1233, 1235, 1238, 1239, 1240, 1243, 1246, 1247, 1248, 1249, 1250, 1252, 1255, 1257, 1258, 1259, 1260, 1263, 1264, 1265, 1266, 1267, 1270, 1272, 1273, 1274, 1276, 1278, 1279, 1281, 1284, 1288, 1289, 1291, 1293, 1294, 1296, 1298, 1300, 1301, 1302, 1304, 1305, 1308, 1309, 1310, 1312, 1313, 1314, 1316, 1317, 1318, 1322, 1323, 1325, 1327, 1328, 1329, 1330, 1337, 1339, 1340, 1341, 1343, 1344, 1345, 1346, 1349, 1350, 1351, 1352, 1353, 1355, 1356, 1357, 1359, 1360, 1361, 1362, 1363, 1364, 1365, 1366, 1367, 1369, 1370, 1373, 1377, 1379, 1380, 1381, 1382, 1384, 1385, 1386, 1387, 1388, 1389, 1391, 1392, 1393, 1394, 1395, 1396, 1398, 1399, 1402, 1403, 1405, 1406, 1408, 1409, 1411, 1412, 1413, 1416, 1417, 1418, 1420, 1421, 1422, 1423, 1424, 1426, 1429, 1432, 1435, 1437, 1438, 1439, 1440, 1442, 1443, 1444, 1446, 1447, 1450, 1453, 1459, 1460, 1461, 1462, 1465, 1466, 1468, 1471, 1472, 1473, 1474, 1475, 1476, 1477, 1478, 1479, 1480, 1481, 1482, 1485, 1488, 1489, 1490, 1491, 1492, 1493, 1494, 1496, 1498, 1500, 1502, 1503, 1504, 1505, 1508, 1509, 1510, 1511, 1512, 1513, 1515, 1517, 1518, 1519, 1525, 1527, 1528, 1529, 1530, 1531, 1532, 1533, 1534, 1537, 1538, 1540, 1541, 1543, 1545, 1546, 1547, 1548, 1549, 1550, 1552, 1553, 1554, 1555, 1556, 1557, 1560, 1561, 1564, 1565, 1567, 1568, 1569, 1570, 1572, 1575, 1576, 1577, 1581, 1582, 1583, 1585, 1587, 1588, 1589, 1591, 1592, 1593, 1594, 1595, 1596, 1599, 1601, 1602, 1603, 1605, 1611, 1612, 1613, 1614, 1616, 1620, 1621, 1624, 1625, 1626, 1627, 1629, 1630, 1631, 1632, 1633, 1634, 1636, 1637, 1638, 1641, 1643, 1644, 1645, 1649, 1650, 1654, 1655, 1656, 1657, 1658, 1660, 1661, 1662, 1664, 1666, 1667, 1669, 1670, 1672, 1674, 1679, 1680, 1681, 1682, 1683, 1687, 1692, 1693, 1696, 1697, 1698, 1699, 1700, 1702, 1703, 1705, 1706, 1707, 1708, 1709, 1710, 1711, 1712, 1715, 1716, 1718, 1719, 1720, 1721, 1722, 1723, 1724, 1725, 1727, 1728, 1729, 1730, 1732, 1733, 1738, 1739, 1740, 1741, 1742, 1745, 1746, 1747, 1748, 1749, 1750, 1755, 1756, 1759, 1760, 1761, 1762, 1766, 1767, 1768, 1769, 1770, 1771, 1772, 1773, 1774, 1775, 1779, 1781, 1782, 1783, 1784, 1786, 1788, 1789, 1790, 1794, 1795, 1796, 1797, 1799, 1802, 1803, 1806, 1807, 1810, 1811, 1812, 1814, 1816, 1817, 1818, 1819, 1821, 1822, 1823, 1824, 1825, 1826, 1828, 1829, 1831, 1834, 1835, 1837, 1838, 1840, 1841, 1842, 1843, 1844, 1847, 1848, 1850, 1851, 1852, 1855, 1856, 1858, 1859, 1862, 1863, 1864, 1866, 1867, 1868, 1869, 1870, 1871, 1872, 1874, 1878, 1879, 1881, 1882, 1883, 1884, 1885, 1886, 1888, 1890, 1892, 1893, 1894, 1896, 1897, 1898, 1899, 1901, 1902, 1905, 1907, 1908, 1909, 1910, 1911, 1913, 1914, 1916, 1917, 1919, 1920, 1921, 1922, 1923, 1924, 1925, 1926, 1927, 1928, 1929, 1930, 1933, 1934, 1935, 1936, 1938, 1939, 1941, 1942, 1943, 1945, 1946, 1947, 1948, 1949, 1950, 1952, 1953, 1954, 1956, 1959, 1961, 1962, 1963, 1964, 1965, 1966, 1967, 1968, 1969, 1971, 1979, 1980, 1981, 1982, 1983, 1985, 1989, 1991, 1992, 1993, 1998, 1999, 2000, 2001, 2002, 2005, 2006, 2007, 2008, 2010, 2011, 2012, 2013, 2014, 2015, 2017, 2018, 2019, 2020, 2021, 2022, 2023, 2025, 2026, 2027, 2029, 2030, 2032, 2033, 2034, 2036, 2038, 2039, 2043, 2045, 2046, 2048, 2050, 2051, 2053, 2054, 2055, 2056, 2057, 2060, 2062, 2063, 2066, 2067, 2070, 2071, 2072, 2073, 2074, 2075, 2077, 2078, 2079, 2080, 2081, 2083, 2086, 2087, 2089, 2090, 2091, 2092, 2093, 2094, 2095, 2098, 2099, 2100, 2101, 2103, 2104, 2106, 2108, 2109, 2110, 2111, 2112, 2113, 2114, 2115, 2116, 2120, 2121, 2123, 2126, 2130, 2132, 2133, 2134, 2147, 2149, 2151, 2153, 2154, 2155, 2156, 2159, 2160, 2161, 2162, 2164, 2165, 2166, 2167, 2168, 2169, 2170, 2171, 2174, 2175, 2176, 2177, 2178, 2179, 2182, 2183, 2184, 2186, 2190, 2192, 2194, 2196, 2197, 2199, 2200, 2201, 2202, 2203, 2204, 2205, 2206, 2208, 2209, 2210, 2211, 2212, 2213, 2214, 2215, 2216, 2218, 2219, 2221, 2223, 2224, 2226, 2228, 2230, 2232, 2233, 2234, 2236, 2238, 2239, 2240, 2241, 2242, 2251, 2255, 2256, 2257, 2258, 2259, 2260, 2261, 2263, 2264, 2267, 2268, 2269, 2270, 2271, 2273, 2274, 2275, 2276, 2278, 2279, 2280, 2281, 2282, 2283, 2284, 2285, 2286, 2287, 2288, 2289, 2290, 2291, 2292, 2293, 2295, 2297, 2299, 2300, 2302, 2303, 2304, 2305, 2306, 2307, 2308, 2310, 2311, 2312, 2313, 2315, 2316, 2317, 2318, 2319, 2320, 2321, 2322, 2324, 2325, 2326, 2327, 2328, 2331, 2332, 2333, 2334, 2335, 2336, 2338, 2339, 2341, 2342, 2345, 2348, 2349, 2350, 2351, 2352, 2354, 2355, 2356, 2359, 2362, 2363, 2364, 2365, 2367, 2368, 2369, 2371, 2373, 2376, 2378, 2380, 2381, 2382, 2383, 2385, 2387, 2388, 2389, 2390, 2391, 2392, 2394, 2395, 2396, 2397, 2400, 2401, 2403, 2407, 2408, 2409, 2411, 2412, 2413, 2414, 2415, 2417, 2418, 2419, 2421, 2423, 2424, 2425, 2426, 2427, 2428, 2429, 2430, 2431, 2433, 2434, 2435, 2437, 2439, 2440, 2441, 2442, 2444, 2446, 2447, 2449, 2450, 2451, 2454, 2456, 2459, 2464, 2466, 2467, 2468, 2469, 2471, 2472, 2473, 2474, 2477, 2478, 2479, 2480, 2482, 2484, 2485, 2490, 2491, 2492, 2493, 2495, 2496, 2497, 2498, 2499, 2501, 2503, 2504, 2505, 2506, 2507, 2508, 2510, 2512, 2514, 2515, 2517, 2519, 2520, 2522, 2523, 2525, 2526, 2527, 2528, 2529, 2531, 2532, 2533, 2534, 2535, 2536, 2541, 2542, 2547, 2548, 2549, 2550, 2551, 2552, 2553, 2557, 2558, 2559, 2560, 2561, 2562, 2563, 2565, 2567, 2569, 2570, 2576, 2577, 2579, 2580, 2581, 2582, 2592, 2594, 2595, 2596, 2597, 2598, 2599, 2600, 2601, 2602, 2604, 2605, 2606, 2607, 2609, 2610, 2611, 2612, 2613, 2614, 2615, 2617, 2618, 2624, 2625, 2626, 2628, 2629, 2630, 2633, 2634, 2637, 2638, 2639, 2640, 2641, 2642, 2643, 2646, 2648, 2649, 2652, 2653, 2655, 2657, 2658, 2659, 2660, 2661, 2662, 2663, 2664, 2665, 2666, 2668, 2669, 2670, 2671, 2672, 2674, 2675, 2676, 2677, 2678, 2680, 2682, 2686, 2687, 2688, 2691, 2692, 2693, 2694, 2699, 2702, 2704, 2707, 2708, 2709, 2710, 2711, 2712, 2713, 2714, 2715, 2722, 2723, 2724, 2725, 2726, 2727, 2730, 2731, 2733, 2734, 2737, 2738, 2740, 2741, 2742, 2743, 2745, 2746, 2747, 2749, 2750, 2751, 2752, 2753, 2754, 2755, 2757, 2758, 2759, 2763, 2764, 2765, 2766, 2767, 2768, 2769, 2770, 2771, 2773, 2774, 2775, 2776, 2778, 2779, 2780, 2781, 2782, 2787, 2788, 2790, 2792, 2793, 2794, 2795, 2796, 2797, 2798, 2799, 2801, 2802, 2803, 2804, 2805, 2807, 2808, 2809, 2810, 2812, 2813, 2814, 2817, 2819, 2820, 2821, 2824, 2825, 2828, 2830, 2831, 2833, 2837, 2838, 2839, 2840, 2841, 2842, 2843, 2845, 2846, 2847, 2848, 2849, 2851, 2852, 2853, 2854, 2855, 2856, 2857, 2858, 2859, 2860, 2863, 2864, 2865, 2867, 2868, 2869, 2870, 2872, 2873, 2874, 2875, 2877, 2878, 2879, 2880, 2881, 2885, 2887, 2889, 2890, 2891, 2892, 2893, 2894, 2895, 2896, 2897, 2898, 2899, 2900, 2901, 2902, 2903, 2904, 2906, 2907, 2909, 2912, 2913, 2914, 2916, 2917, 2919, 2921, 2922, 2923, 2924, 2925, 2926, 2927, 2928, 2929, 2930, 2931, 2932, 2933, 2934, 2936, 2938, 2939, 2940, 2942, 2943, 2944, 2945, 2947, 2951, 2953, 2955, 2956, 2957, 2958, 2959, 2962, 2963, 2965, 2966, 2967, 2968, 2969, 2970, 2971, 2972, 2973, 2974, 2975, 2976, 2977, 2978, 2980, 2981, 2982, 2984, 2987, 2988, 2990, 2991, 2992, 2993, 2994, 2998, 2999, 3001, 3002, 3003, 3004, 3006, 3007, 3008, 3009, 3010, 3011, 3012, 3015, 3016, 3017, 3019, 3021, 3022, 3023, 3024, 3025, 3027, 3028, 3029, 3030, 3031, 3032, 3033, 3036, 3037, 3038, 3039, 3040, 3041, 3042, 3043, 3044, 3045, 3048, 3049, 3050, 3053, 3054, 3056, 3059, 3060, 3061, 3063, 3064, 3065, 3066, 3067, 3073, 3076, 3077, 3078, 3079, 3080, 3081, 3082, 3083, 3084, 3085, 3086, 3087, 3088, 3089, 3090, 3091, 3094, 3095, 3096, 3099, 3100, 3102, 3107, 3108, 3109, 3110, 3112, 3113, 3114, 3115, 3116, 3117, 3118, 3119, 3120, 3123, 3124, 3125, 3126, 3128, 3129, 3131, 3132, 3133, 3134, 3135, 3136, 3137, 3138, 3139, 3140, 3144, 3145, 3146, 3147, 3148, 3149, 3150, 3152, 3153, 3154, 3155, 3156, 3158, 3159, 3160, 3161, 3162, 3163, 3165, 3166, 3169, 3170, 3171, 3172, 3173, 3174, 3176, 3177, 3178, 3179, 3180, 3181, 3182, 3183, 3184, 3186, 3187, 3191, 3192, 3193, 3194, 3195, 3196, 3198, 3199, 3200, 3201, 3203, 3204, 3205, 3206, 3207, 3208, 3209, 3212, 3213, 3214, 3215, 3217, 3218, 3219, 3220, 3221, 3222, 3224, 3228, 3230, 3231, 3232, 3233, 3239, 3240, 3241, 3243, 3245, 3246, 3247, 3248, 3250, 3252, 3253, 3255, 3257, 3258, 3259, 3260, 3261, 3262, 3263, 3264, 3266, 3267, 3268, 3269, 3270, 3272, 3273, 3274, 3276, 3277, 3278, 3279, 3282, 3283, 3285, 3286, 3287, 3288, 3289, 3290, 3291, 3292, 3293, 3294, 3296, 3297, 3298, 3300, 3301, 3302, 3304, 3305, 3307, 3308, 3310, 3314, 3316, 3317, 3318, 3319, 3320, 3323, 3324, 3325, 3326, 3327, 3330, 3331, 3334, 3335, 3336, 3337, 3339, 3340, 3341, 3342, 3344, 3345, 3346, 3348, 3349, 3350, 3354, 3355, 3356, 3358, 3359, 3360, 3362, 3363, 3364, 3365, 3366, 3368, 3370, 3371, 3372, 3373, 3374, 3375, 3376, 3379, 3381, 3383, 3384, 3385, 3386, 3387, 3388, 3389, 3391, 3392, 3393, 3394, 3395, 3396, 3397, 3398, 3399, 3400, 3401, 3402, 3403, 3404, 3405, 3406, 3407, 3408, 3409, 3410, 3411, 3412, 3413, 3414, 3415, 3416, 3420, 3421, 3422, 3423, 3424, 3425, 3427, 3428, 3429, 3430, 3431, 3432, 3433, 3434, 3438, 3439, 3441, 3443, 3444, 3445, 3447, 3448, 3451, 3452, 3453, 3454, 3455, 3456, 3457, 3458, 3461, 3462, 3464, 3466, 3468, 3471, 3473, 3474, 3475, 3478, 3480, 3481, 3482, 3485, 3487, 3488, 3489, 3490, 3491, 3492, 3493, 3494, 3495, 3496, 3497, 3498, 3499, 3500, 3501, 3502, 3504, 3505, 3506, 3507, 3508, 3510, 3514, 3516, 3517, 3518, 3519, 3520, 3521, 3522, 3523, 3524, 3525, 3526, 3529, 3533, 3534, 3535, 3536, 3537, 3538, 3539, 3540, 3542, 3543, 3545, 3546, 3551, 3554, 3555, 3556, 3558, 3560, 3561, 3562, 3564, 3565, 3566, 3567, 3568, 3569, 3570, 3571, 3573, 3574, 3575, 3576, 3577, 3578, 3579, 3580, 3589, 3590, 3592, 3593, 3594, 3595, 3596, 3597, 3598, 3601, 3606, 3608, 3610, 3611, 3612, 3613, 3615, 3617, 3621, 3622, 3623, 3625, 3628, 3630, 3631, 3632, 3633, 3634, 3635, 3636, 3637, 3645, 3646, 3647, 3648, 3653, 3654, 3656, 3657, 3658, 3659, 3660, 3661, 3663, 3665, 3666, 3667, 3669, 3670, 3671, 3673, 3674, 3679, 3680, 3681, 3682, 3684, 3685, 3686, 3687, 3690, 3691, 3694, 3695, 3696, 3697, 3698, 3699, 3700, 3701, 3702, 3703, 3706, 3707, 3708, 3709, 3710, 3711, 3712, 3716, 3717, 3718, 3719, 3720, 3721, 3722, 3723, 3724, 3725, 3726, 3731, 3732, 3733, 3734, 3735, 3736, 3737, 3738, 3741, 3743, 3744, 3745, 3746, 3747, 3749, 3750, 3751, 3752, 3753, 3754, 3755, 3756, 3757, 3758, 3759, 3760, 3761, 3762, 3763, 3764, 3765, 3766, 3768, 3769, 3770, 3771, 3772, 3774, 3776, 3777, 3781, 3782, 3783, 3784, 3785, 3787, 3788, 3789, 3790, 3793, 3794, 3796, 3797, 3798, 3801, 3802, 3803, 3804, 3805, 3808, 3809, 3810, 3811, 3812, 3813, 3814, 3815, 3816, 3817, 3818, 3819, 3820, 3822, 3823, 3825, 3826, 3827, 3829, 3830, 3831, 3834, 3835, 3836, 3837, 3839, 3840, 3841, 3842, 3843, 3845, 3848, 3849, 3850, 3851, 3852, 3854, 3855, 3856, 3857, 3858, 3863, 3864, 3865, 3866, 3867, 3869, 3872, 3873, 3874, 3875, 3876, 3878, 3880, 3881, 3882, 3883, 3884, 3885, 3886, 3887, 3889, 3890, 3891, 3892, 3893, 3894, 3895, 3896, 3898, 3899, 3900, 3901, 3902, 3903, 3906, 3907, 3908, 3909, 3910, 3911, 3912, 3913, 3918, 3920, 3922, 3923, 3924, 3925, 3926, 3927, 3928, 3929, 3931, 3933, 3934, 3935, 3936, 3942, 3944, 3945, 3947, 3949, 3951, 3952, 3953, 3954, 3955, 3956, 3957, 3958, 3959, 3960, 3961, 3962, 3963, 3964, 3965, 3967, 3968, 3969, 3970, 3971, 3972, 3974, 3975, 3976, 3977, 3978, 3979, 3980, 3981, 3984, 3985, 3986, 3987, 3988, 3990, 3993, 3994, 3995, 3996, 3997, 4001, 4002, 4003, 4004, 4005, 4006, 4007, 4008, 4009, 4010, 4011, 4015, 4016, 4017, 4018, 4019, 4020, 4021, 4022, 4025, 4027, 4028, 4029, 4030, 4032, 4035, 4036, 4037, 4039, 4041, 4045, 4046, 4049, 4051, 4053, 4054, 4056, 4057, 4060, 4061, 4063, 4066, 4067, 4068, 4070, 4071, 4072, 4073, 4074, 4075, 4076, 4077, 4079, 4081, 4087, 4088, 4089, 4090, 4092, 4093, 4094, 4096, 4097, 4099, 4100, 4101, 4102, 4103, 4104, 4105, 4107, 4108, 4110, 4111, 4112, 4113, 4119, 4120, 4121, 4122, 4123, 4124, 4126, 4128, 4134, 4135, 4137, 4138, 4141, 4142, 4143, 4145, 4146, 4147, 4148, 4151, 4152, 4154, 4155, 4157, 4160, 4162, 4163, 4164, 4165, 4166, 4167, 4168, 4170, 4172, 4173, 4175, 4179, 4180, 4181, 4183, 4184, 4186, 4187, 4188, 4193, 4194, 4195, 4198, 4199, 4201, 4202, 4204, 4205, 4206, 4207, 4208, 4209, 4210, 4212, 4213, 4214, 4215, 4216, 4217, 4218, 4220, 4221, 4224, 4225, 4226, 4227, 4229, 4230, 4231, 4233, 4234, 4235, 4236, 4237, 4238, 4239, 4240, 4241, 4242, 4243, 4244, 4245, 4246, 4250, 4251, 4253, 4254, 4255, 4258, 4259, 4261, 4262, 4263, 4264, 4265, 4267, 4270, 4271, 4272, 4274, 4275, 4276, 4277, 4278, 4280, 4281, 4282, 4283, 4284, 4286, 4287, 4288, 4289, 4290, 4291, 4294, 4295, 4296, 4297, 4298, 4299, 4300, 4302, 4303, 4304, 4305, 4306, 4307, 4308, 4309, 4310, 4311, 4312, 4313, 4314, 4319, 4320, 4321, 4322, 4323, 4324, 4325, 4327, 4329, 4330, 4332, 4333, 4336, 4337, 4338, 4339, 4340, 4341, 4344, 4345, 4346, 4347, 4350, 4353, 4354, 4355, 4356, 4358, 4360, 4361, 4362, 4363, 4366, 4367, 4368, 4369, 4371, 4372, 4373, 4375, 4376, 4379, 4380, 4381, 4385, 4387, 4388, 4390, 4391, 4392, 4393, 4394, 4396, 4399, 4400, 4401, 4402, 4404, 4405, 4406, 4407, 4408, 4409, 4411, 4412, 4415, 4416, 4417, 4418, 4419, 4420, 4424, 4426, 4427, 4428, 4429, 4430, 4433, 4434, 4436, 4438, 4439, 4440, 4441, 4443, 4444, 4445, 4446, 4447, 4449, 4450, 4451, 4453, 4454, 4456, 4457, 4458, 4460, 4461, 4467, 4469, 4470, 4471, 4472, 4473, 4474, 4475, 4478, 4479, 4481, 4483, 4484, 4488, 4489, 4490, 4491, 4492, 4493, 4496, 4497, 4498, 4508, 4509, 4510, 4512, 4513, 4514, 4515, 4516, 4517, 4518, 4521, 4523, 4524, 4525, 4526, 4527, 4528, 4531, 4532, 4534, 4536, 4538, 4540, 4541, 4542, 4543, 4544, 4546, 4549, 4550, 4551, 4552, 4553, 4555, 4556, 4560, 4561, 4562, 4563, 4565, 4566, 4567, 4568, 4569, 4570, 4571, 4573, 4575, 4576, 4578, 4579, 4580, 4581, 4582, 4583, 4584, 4585, 4587, 4588, 4589, 4590, 4591, 4592, 4593, 4594, 4595, 4596, 4598, 4604, 4605, 4606, 4607, 4608, 4609, 4610, 4612, 4617, 4618, 4619, 4620, 4621, 4622, 4623, 4624, 4625, 4626, 4627, 4628, 4629, 4630, 4632, 4633, 4634, 4635, 4637, 4638, 4639, 4640, 4641, 4642, 4643, 4644, 4645, 4646, 4647, 4649, 4650, 4654, 4655, 4656, 4661, 4662, 4663, 4664, 4665, 4666, 4667, 4673, 4675, 4679, 4680, 4681, 4682, 4683, 4684, 4685, 4686, 4688, 4689, 4690, 4691, 4693, 4694, 4695, 4696, 4698, 4699, 4700, 4701, 4702, 4703, 4704, 4705, 4706, 4707, 4708, 4709, 4710, 4712, 4714, 4716, 4717, 4720, 4721, 4722, 4723, 4724, 4727, 4728, 4729, 4731, 4735, 4737, 4738, 4739, 4740, 4741, 4742, 4743, 4745, 4747, 4748, 4749, 4752, 4753, 4754, 4755, 4756, 4757, 4759, 4761, 4762, 4763, 4766, 4767, 4768, 4769, 4770, 4771, 4772, 4773, 4774, 4775, 4776, 4777, 4778, 4779, 4781, 4782, 4785, 4786, 4787, 4788, 4789, 4791, 4792, 4793, 4794, 4795, 4798, 4799, 4800, 4801, 4802, 4803, 4804, 4805, 4806, 4808, 4809, 4811, 4812, 4813, 4816, 4817, 4818, 4819, 4820, 4821, 4822, 4823, 4824, 4825, 4830, 4831, 4833, 4834, 4835, 4836, 4837, 4838, 4840, 4841, 4844, 4845, 4846, 4847, 4848, 4849, 4852, 4853, 4854, 4855, 4856, 4857, 4858, 4859, 4860, 4861, 4862, 4863, 4864, 4865, 4866, 4867, 4868, 4869, 4870, 4871, 4873, 4876, 4878, 4879, 4880, 4881, 4882, 4883, 4884, 4887, 4888, 4889, 4890, 4891, 4892, 4897, 4898, 4899, 4900, 4901, 4902, 4903, 4904, 4905, 4906, 4908, 4909, 4910, 4911, 4912, 4913, 4917, 4918, 4919, 4920, 4921, 4922, 4924, 4925, 4926, 4929, 4930, 4931, 4934, 4935, 4936, 4937, 4938, 4939, 4940, 4941, 4943, 4944, 4945, 4947, 4949, 4951, 4952, 4953, 4955, 4956, 4957, 4958, 4959, 4960, 4961, 4962, 4963, 4965, 4966, 4968, 4969, 4970, 4971, 4975, 4976, 4977, 4978, 4979, 4987, 4988, 4989, 4990, 4991, 4992, 4993, 4994, 4995, 4996, 4997, 4999, 5000, 5002, 5003, 5004, 5005, 5006, 5007, 5008, 5010, 5011, 5012, 5013, 5014, 5015, 5016, 5017, 5018, 5020, 5021, 5022, 5023, 5024, 5026, 5027, 5028, 5029, 5030, 5031, 5032, 5034, 5037, 5039, 5040, 5043, 5044, 5045, 5048, 5049, 5050, 5051, 5052, 5053, 5054, 5055, 5057, 5058, 5059, 5060, 5061, 5062, 5064, 5065, 5066, 5067, 5068, 5069, 5070, 5072, 5073, 5074, 5076, 5077, 5081, 5082, 5083, 5084, 5085, 5087, 5088, 5090, 5091, 5092, 5093, 5094, 5097, 5098, 5099, 5100, 5101, 5103, 5105, 5106, 5110, 5111, 5112, 5114, 5115, 5117, 5118, 5119, 5121, 5122, 5123, 5125, 5126, 5127, 5128, 5129, 5131, 5132, 5134, 5136, 5137, 5138, 5140, 5141, 5142, 5143, 5148, 5149, 5151, 5153, 5154, 5155, 5156, 5157, 5158, 5159, 5160, 5162, 5166, 5167, 5168, 5169, 5170, 5171, 5173, 5174, 5175, 5176, 5177, 5180, 5181, 5182, 5183, 5184, 5185, 5190, 5191, 5192, 5193, 5194, 5195, 5196, 5198, 5199, 5200, 5201, 5202, 5204, 5206, 5207, 5208, 5209, 5210, 5211, 5213, 5215, 5216, 5217, 5218, 5223, 5225, 5226, 5227, 5228, 5229, 5230, 5231, 5232, 5233, 5234, 5236, 5237, 5238, 5239, 5240, 5241, 5242, 5243, 5244, 5245, 5246, 5247, 5248, 5249, 5250, 5251, 5254, 5255, 5256, 5258, 5259, 5266, 5267, 5268, 5269, 5272, 5273, 5274, 5276, 5277, 5278, 5279, 5281, 5282, 5283, 5284, 5286, 5287, 5288, 5289, 5290, 5291, 5292, 5293, 5294, 5295, 5296, 5297, 5298, 5299, 5300, 5302, 5305, 5306, 5307, 5308, 5309, 5311, 5312, 5313, 5314, 5316, 5317, 5318, 5319, 5320, 5321, 5322, 5323, 5326, 5329, 5330, 5331, 5332, 5333, 5334, 5338, 5340, 5341, 5342, 5343, 5344, 5346, 5347, 5348, 5349, 5350, 5351, 5352, 5353, 5354, 5356, 5357, 5359, 5361, 5364, 5365, 5367, 5368, 5369, 5370, 5373, 5375, 5377, 5378, 5383, 5384, 5385, 5386, 5387, 5388, 5389, 5390, 5391, 5392, 5393, 5394, 5395, 5396, 5397, 5398, 5400, 5401, 5403, 5405, 5406, 5407, 5408, 5410, 5411, 5412, 5413, 5414, 5416, 5417, 5418, 5420, 5421, 5422, 5423, 5424, 5430, 5431, 5432, 5433, 5436, 5437, 5439, 5440, 5441, 5442, 5443, 5445, 5446, 5447, 5451, 5452, 5453, 5455, 5456, 5457, 5458, 5459, 5460, 5461, 5462, 5467, 5468, 5470, 5471, 5472, 5473, 5475, 5476, 5477, 5478, 5479, 5480, 5481, 5485, 5486, 5487, 5489, 5490, 5492, 5493, 5495, 5496, 5497, 5498, 5499, 5500, 5501, 5503, 5504, 5505, 5506, 5507, 5508, 5509, 5510, 5511, 5512, 5514, 5515, 5516, 5517, 5518, 5519, 5520, 5521, 5522, 5524, 5525, 5526, 5528, 5529, 5531, 5532, 5533, 5535, 5536, 5538, 5540, 5541, 5543, 5546, 5548, 5552, 5553, 5554, 5555, 5556, 5557, 5558, 5560, 5562, 5563, 5564, 5565, 5566, 5567, 5568, 5569, 5571, 5573, 5574, 5575, 5577, 5578, 5579, 5580, 5581, 5582, 5583, 5586, 5587, 5588, 5589, 5590, 5591, 5592, 5593, 5594, 5595, 5596, 5600, 5603, 5604, 5605, 5606, 5608, 5609, 5610, 5611, 5612, 5615, 5617, 5618, 5619, 5620, 5622, 5623, 5624, 5625, 5626, 5627, 5628, 5629, 5630, 5631, 5632, 5633, 5635, 5636, 5637, 5638, 5639, 5640, 5642, 5644, 5645, 5646, 5647, 5649, 5650, 5651, 5653, 5656, 5657, 5658, 5659, 5660, 5661, 5665, 5666, 5667, 5668, 5669, 5670, 5672, 5673, 5674, 5675, 5678, 5679, 5680, 5681, 5682, 5684, 5686, 5687, 5688, 5690, 5691, 5692, 5693, 5694, 5695, 5696, 5697, 5698, 5699, 5700, 5701, 5702, 5703, 5704, 5708, 5709, 5710, 5712, 5714, 5715, 5716, 5721, 5723, 5724, 5725, 5727, 5728, 5729, 5730, 5731, 5732, 5733, 5735, 5736, 5737, 5738, 5739, 5740, 5741, 5742, 5743, 5744, 5745, 5747, 5748, 5749, 5753, 5754, 5755, 5756, 5757, 5758, 5760, 5761, 5762, 5763, 5764, 5767, 5768, 5769, 5773, 5774, 5776, 5778, 5779, 5780, 5781, 5782, 5783, 5786, 5787, 5790, 5791, 5795, 5796, 5797, 5798, 5799, 5801, 5802, 5803, 5804, 5805, 5806, 5807, 5808, 5809, 5810, 5811, 5812, 5813, 5814, 5815, 5816, 5817, 5818, 5819, 5821, 5822, 5825, 5827, 5828, 5829, 5831, 5832, 5834, 5835, 5836, 5837, 5838, 5839, 5840, 5842, 5843, 5845, 5846, 5850, 5851, 5852, 5853, 5854, 5856, 5858, 5859, 5861, 5862, 5863, 5864, 5870, 5871, 5872, 5874, 5875, 5876, 5877, 5878, 5879, 5880, 5881, 5882, 5883, 5884, 5885, 5886, 5887, 5888, 5891, 5892, 5893, 5894, 5895, 5896, 5897, 5899, 5900, 5901, 5903, 5904, 5905, 5911, 5912, 5913, 5914, 5915, 5916, 5917, 5919, 5920, 5921, 5922, 5923, 5924, 5925, 5926, 5927, 5928, 5929, 5930, 5931, 5932, 5936, 5939, 5940, 5941, 5942, 5943, 5944, 5945, 5946, 5947, 5948, 5949, 5951, 5953, 5954, 5955, 5956, 5957, 5958, 5959, 5960, 5961, 5964, 5965, 5966, 5971, 5972, 5973, 5974, 5975, 5976, 5977, 5978, 5979, 5981, 5982, 5983, 5984, 5985, 5986, 5988, 5989, 5990, 5994, 5995, 5996, 5997, 5998, 5999, 6000, 6001, 6005, 6007, 6009, 6010, 6011, 6012, 6015, 6016, 6017, 6019, 6020, 6021, 6022, 6023, 6026, 6027, 6029, 6031, 6032, 6033, 6034, 6035, 6036, 6037, 6038, 6039, 6041, 6042, 6044, 6045, 6046, 6047, 6048, 6049, 6050, 6053, 6054, 6055, 6056, 6057, 6059, 6060, 6061, 6062, 6063, 6064, 6065, 6069, 6070, 6071, 6074, 6075, 6076, 6077, 6078, 6080, 6081, 6082, 6083, 6084, 6085, 6086, 6087, 6090, 6091, 6092, 6094, 6096, 6097, 6098, 6099, 6100, 6102, 6103, 6105, 6106, 6107, 6108, 6109, 6110, 6111, 6112, 6113, 6114, 6115, 6118, 6119, 6120, 6123, 6124, 6125, 6126, 6127, 6128, 6129, 6130, 6132, 6133, 6134, 6135, 6139, 6141, 6142, 6143, 6144, 6147, 6148, 6149, 6150, 6151, 6152, 6153, 6154, 6155, 6158, 6159, 6160, 6161, 6162, 6164, 6165, 6166, 6168, 6169, 6170, 6171, 6172, 6173, 6174, 6175, 6176, 6177, 6178, 6179, 6180, 6183, 6185, 6187, 6188, 6189, 6191, 6193, 6195, 6196, 6199, 6200, 6201, 6202, 6203, 6204, 6205, 6206, 6207, 6209, 6210, 6211, 6213, 6216, 6217, 6218, 6219, 6223, 6224, 6226, 6228, 6229, 6230, 6231, 6232, 6233, 6234, 6236, 6237, 6238, 6241, 6243, 6245, 6246, 6247, 6248, 6250, 6253, 6254, 6259, 6260, 6264, 6265, 6266, 6267, 6268, 6275, 6276, 6277, 6279, 6280, 6281, 6283, 6284, 6285, 6286, 6287, 6288, 6289, 6290, 6291, 6292, 6293, 6294, 6295, 6296, 6297, 6298, 6299, 6300, 6301, 6302, 6303, 6305, 6306, 6307, 6310, 6311, 6312, 6313, 6314, 6315, 6316, 6317, 6319, 6321, 6323, 6324, 6325, 6326, 6327, 6329, 6330, 6332, 6334, 6335, 6336, 6337, 6338, 6339, 6341, 6343, 6345, 6346, 6347, 6348, 6349, 6350, 6351, 6355, 6356, 6357, 6358, 6359, 6361, 6362, 6363, 6369, 6370, 6371, 6372, 6373, 6374, 6376, 6377, 6378, 6379, 6380, 6381, 6382, 6383, 6384, 6389, 6390, 6391, 6392, 6393, 6394, 6395, 6396, 6399, 6400, 6401, 6402, 6403, 6406, 6407, 6408, 6409, 6410, 6412, 6413, 6414, 6417, 6418, 6419, 6421, 6423, 6425, 6427, 6428, 6429, 6430, 6431, 6432, 6434, 6435, 6436, 6437, 6439, 6440, 6441, 6442, 6443, 6444, 6445, 6446, 6447, 6448, 6449, 6450, 6452, 6453, 6454, 6457, 6458, 6460, 6461, 6463, 6465, 6466, 6467, 6468, 6469, 6470, 6471, 6472, 6475, 6476, 6477, 6480, 6481, 6483, 6484, 6485, 6486, 6488, 6489, 6490, 6491, 6492, 6493, 6494, 6495, 6496, 6497, 6499, 6500, 6501, 6502, 6503, 6504, 6505, 6506, 6507, 6508, 6509, 6511, 6512, 6513, 6514, 6515, 6516, 6517, 6518, 6519, 6520, 6521, 6522, 6523, 6524, 6527, 6528, 6529, 6532, 6534, 6535, 6537, 6538, 6539, 6543, 6545, 6546, 6548, 6550, 6552, 6553, 6555, 6556, 6557, 6558, 6561, 6563, 6564, 6565, 6566, 6567, 6569, 6570, 6574, 6576, 6578, 6583, 6584, 6585, 6588, 6589, 6590, 6591, 6592, 6593, 6594, 6595, 6596, 6598, 6602, 6603, 6604, 6606, 6610, 6612, 6613, 6615, 6616, 6621, 6622])\\n};\\n      var latlngm = mcDonalds.latlng;\\n      var map;\\n      var canvasLayer;\\n      var gl;\\n      var pixelsToWebGLMatrix = new Float32Array(16);\\n      var mapMatrix = new Float32Array(16);\\n\\n      var advancing = true; // true when in 'play' mode; false when paused\\n\\n      var lastTime = 0;\\n      var totalElapsedTime = 0;\\n      var fps = 50;\\n\\n      var currentIndex, minIndex, maxIndex;\\n\\n      function init() {\\n\\t// initialize the map\\n\\tvar mapOptions = {\\n          zoom: 4,\\n          center: new google.maps.LatLng(39.3, -95.8),\\n\\t};\\n        var mapDiv = document.getElementById('map-div');\\n\\tmap = new google.maps.Map(mapDiv, mapOptions);\\n\\n        if (!initWebGL()) {\\n          $('#map-div').append('<div align=\\\"center\\\" style=\\\"position: absolute; z-index:1000000; margin:50px; padding:10px; border-color:black; border-style:solid; border-width:1px; box-shadow:5px 5px 5px grey; background-color:white; font-size:20px\\\"><b>WebGL required</b><br>Please try using a browser that supports WebGL,<br>such as Chrome, Firefox, or Internet Explorer 11.</div>');\\n        }\\n\\n        // Convert from latlng to xy for map, and set up shader programs\\n        prepareSeries(gl, mcDonalds);\\n\\n        currentIndex = minIndex = mcDonalds.index[0];\\n        maxIndex = mcDonalds.index[mcDonalds.index.length - 1];\\n\\n        initPlaybackControls();\\n        console.log(mcDonalds.index.length);\\n\\t\\tconsole.log(latlngm.length);\\n\\t\\t\\n  \\t\\tvar contentString = ''; \\n\\n\\n \\t\\t\\t\\n  \\t\\tvar prev_infowindow = false;\\n\\t\\tgoogle.maps.event.addListener(map, 'mousemove', function(event) \\n\\t\\t{\\n\\t\\telt = findClosestElement(gl, mapMatrix, mcDonalds, event.pixel, 10);\\n\\t\\tconsole.log(elt);//lat, lng, i \\n\\t\\tvar storenumber = '';\\n\\t\\tstorenumber = mcDonalds.index[elt.i]\\n\\t\\tconsole.log(storenumber)\\n\\t\\tcontentString = 'Store Number: '+ storenumber + '</br>' + 'Website: '+'http://www.mcpennsylvania.com/' + storenumber;\\n\\t\\t//var marker = new google.maps.Marker({\\n      //position: elt,\\n      //map: map,\\n      //title: 'Uluru (Ayers Rock)'\\n  \\t\\t//});\\n  \\t\\tvar infowindow = new google.maps.InfoWindow({\\n\\t\\t\\tcontent: contentString,\\n\\t\\t\\tposition: elt});\\n  \\t\\t\\n\\t\\tif(prev_infowindow){\\n\\t\\t\\tprev_infowindow.close();\\n\\t\\t}\\n\\n\\t\\tprev_infowindow = infowindow;\\n\\t\\tinfowindow.open(map);\\n\\t\\t\\n\\t\\t// create_info \\n\\t\\t// takes \\\"i\\\" uses it to get data from series\\n\\t\\t// \\\" absolute div over canvas\\\"\\n\\t\\t// info bubble google maps\\n\\t\\t// http:/ ... /id is the link to the store\\n\\n\\n \\t\\t// \\tconsole.log('Mouse clicked on pixel ' + event.pixel + ', ' + event.pixel.y);\\n \\t\\t\\n \\t\\t\\n \\t\\t\\n \\t\\t\\n\\t\\t});\\n\\t\\t\\n\\t\\t\\n\\t\\t\\n      }\\n\\n      \\n\\n      function drawFrame() {\\n        if (advancing) {\\n          advanceCurrentIndex();\\n        }\\n\\n        // Use additive blending mode.  As we draw overlapping pixels, color values\\n        // are added and then clamped to go no higher than 1.  This has the effect of\\n        // making overlapped areas brighter, approaching white (assuming use of colors\\n        // which are non-zero in each of R, G, B)\\n\\n        gl.enable(gl.BLEND);\\n        gl.blendFunc( gl.SRC_ALPHA, gl.ONE );\\n\\n        // Compute WebGL transform from world xy coords to screen\\n        // copy pixel->webgl matrix\\n        mapMatrix.set(pixelsToWebGLMatrix);\\n\\n        var scale = canvasLayer.getMapScale();\\n        scaleMatrix(mapMatrix, scale, scale);\\n\\n        var translation = canvasLayer.getMapTranslation();\\n        translateMatrix(mapMatrix, translation.x, translation.y);\\n\\n        // Erase frame\\n        gl.clear(gl.COLOR_BUFFER_BIT);\\n\\n        // Compute point diameter, in pixels, based on zoom level\\n\\n        // map.zoom is approx 4 at country level\\n        // How many pixels in diameter should marker be when map zoomed to country level?\\n        var countryPointSizePixels = 3;\\n\\n        // map.zoom is approx 18 at block level\\n        // How many pixels in diameter should marker be when map zoomed to block level?\\n        var blockPointSizePixels = 90;\\n\\n        var pointSize = countryPointSizePixels * Math.pow(blockPointSizePixels / countryPointSizePixels, (map.zoom - 4) / (18 - 4));\\n        var color = [.82, .22, .07, 1.0]; // RGBA, orange\\n\\n        // How much of the marker's radius do we draw at alpha=1, before starting the slope to alpha=0?\\n        // 0 is very soft, 0.95 is a hard circle with well-defined edge\\n        var hardFraction = 0.4;  \\n\\n        drawPoints(gl, mapMatrix, mcDonalds, 0, findIndex(currentIndex, mcDonalds), \\n                   {color: color, pointSize: pointSize, hardFraction: hardFraction});\\n      }\\n      \\n      function advanceCurrentIndex() {\\n        var timeNow = new Date().getTime();\\n        if (lastTime != 0) {\\n          var elapsed = timeNow - lastTime;\\n          totalElapsedTime += elapsed;\\n        }\\n        lastTime = timeNow;\\n\\n        if (totalElapsedTime > 1000 / fps) {\\n          totalElapsedTime = 0;\\n          var newIndex = currentIndex + 100;\\n          if (newIndex >= maxIndex) {\\n            // TODO(rsargent): implement delay at beginning and end\\n            newIndex = 0;\\n          }\\n          playbackSetIndex(newIndex);\\n        }\\n      }\\n\\n      function initWebGL() {\\n        // initialize the canvasLayer\\n        var canvasLayerOptions = {\\n          map: map,\\n          resizeHandler: resize,\\n          animate: true,\\n          updateHandler: drawFrame\\n        };\\n        canvasLayer = new CanvasLayer(canvasLayerOptions);\\n\\n        window.addEventListener('resize', function () {  google.maps.event.trigger(map, 'resize') }, false);\\n\\n        // initialize WebGL\\n        gl = canvasLayer.canvas.getContext('experimental-webgl');\\n        return !!gl;\\n      }\\n\\n      function initPlaybackControls() {\\n        $('#playback-play-pause-button').click(function() {\\n          advancing = (this.textContent == 'Play');\\n          this.textContent = advancing ? 'Pause' : 'Play';\\n        });\\n\\n        $('#playback-range')\\n          .on(\\\"input change\\\", function() {\\n            console.log('change, yeah');\\n            playbackSetIndex(this.valueAsNumber);\\n          })\\n          .mousedown(function() {\\n            advancing = false;\\n          })\\n          .mouseup(function() {\\n            if ($('#playback-play-pause-button').text() == 'Pause') {\\n              advancing = true;\\n            }\\n          });\\n      }\\n\\n      function playbackSetIndex(newIndex) {\\n        currentIndex = newIndex;\\n        $('#playback-display').text(currentIndex);\\n        $('#playback-range').val(currentIndex);\\n      }\\n\\n      function resize() {\\n        var w = canvasLayer.canvas.width;\\n        var h = canvasLayer.canvas.height;\\n\\n        // Extend viewport to entire canvas\\n        gl.viewport(0, 0, w, h);\\n\\n        // Map canvas pixel coordinates to WebGL coordinates\\n        pixelsToWebGLMatrix.set([2/w, 0,   0, 0,\\n                                 0,  -2/h, 0, 0,\\n                                 0,   0,   1, 0,\\n                                -1,   1,   0, 1]);\\n      }\\n\\n      $(init);\\n    </scr\"+\"ipt>\\n\\n    <script id=\\\"pointVertexShader\\\" type=\\\"x-shader/x-vertex\\\">\\n      attribute vec4 worldCoord;\\n      attribute float aPointSize;\\n\\n      uniform mat4 mapMatrix;\\n\\n      void main() {\\n        // transform world coordinate by matrix uniform variable\\n        gl_Position = mapMatrix * worldCoord;\\n\\n        // a constant size for points, regardless of zoom level\\n        gl_PointSize = aPointSize;\\n      }\\n    </scr\"+\"ipt>\\n    <script id=\\\"pointFragmentShader\\\" type=\\\"x-shader/x-fragment\\\">\\n      precision mediump float;\\n      uniform vec4 color;\\n      uniform float hardFraction;\\n\\n      // Circle of diameter 0.5, composed of a \\\"hard\\\" (alpha=1) center of radius 0.5 * hardFraction,\\n      // then transitioning to alpha=0 at diameter 0.5\\n      void main() {\\n        float dist = length(gl_PointCoord.xy - vec2(.5, .5));\\n        // TODO(rsargent):  shouldn't we just be adjusting the alpha here?  Maybe we're taking\\n        // advantage of the double-multiplication to get something other than linear.\\n        // But multiplying all the channels will break if we do something other than an additive blend.\\n        gl_FragColor = color * clamp((0.5 - dist) / (0.5 - 0.5 * hardFraction), 0., 1.);\\n      }\\n    </scr\"+\"ipt>\\n</head>\\n<body style=\\\"height:100%; margin:0; padding:0\\\">\\n    <div id=\\\"map-div\\\" style=\\\"height:100%\\\"></div>\\n    <div style=\\\"position:relative; left:90px; top:-30px; width:550px\\\">\\n      <button id=\\\"playback-play-pause-button\\\" style=\\\"width:50px\\\">Pause</button>\\n      <div align=\\\"right\\\" id=\\\"playback-display\\\" style=\\\"width:40px; display:inline-block\\\"></div>\\n      <input type=\\\"range\\\" style=\\\"width: 300px; position:relative; top:3px\\\"  value=\\\"0\\\" min=\\\"0\\\" max=\\\"17000\\\" list=\\\"number\\\" id=\\\"playback-range\\\"/>\\n    </div>\\n</body>\\n</html>\\n\\n\";\n",
        "</script>\n"
       ],
       "metadata": {},
       "output_type": "pyout",
       "prompt_number": 38,
       "text": [
        "<IPython.core.display.HTML at 0x104962710>"
       ]
      }
     ],
     "prompt_number": 38
    },
    {
     "cell_type": "markdown",
     "metadata": {},
     "source": [
      "If you only have up to ID# 1000, the map will be looking a bit sparse.  You can scrape more directly by increasing the \"last_store = 1000\" above and rerunning the scrape loop, but it's going to take a while and the workarounds to the geolocation quota limit are a bit annoying.  So let's take a shortcut and grab ID's 1000 and above from a pre-baked JSON file.\n",
      "\n",
      "This is going to require you to do some manual surgery on your mcdonalds_locations.json file, which you need to get comfortable with anyway if you want to be able to clean your data.\n",
      "\n",
      "Bring up mcdonalds_locations.json in your favorite editor, and then splice in records from http://rsargent.cmucreatelab.org/mcdonalds/mcdonalds_locations_1000_and_above.json.  Be sure to keep the stores in order (the display code relies on it), and avoid duplicates (in case you've scraped beyond 999 already).  Also, be mindful of the commas and square brackets to keep your JSON correctly formed.  (You can try pasting your creation into http://jsonlint.com/ for useful error messages if something goes wrong).\n",
      "\n",
      "Once you believe you have a complete mcdonalds_locations.json file, you'll need to load the locations into this notebook by re-executing the \"locations = read_or_create_locations()\" line at the top of the notebook, and then re-execute \"Convert to Javascript series\" and \"Construct HTML Source\".  If all goes well, you'll be able to explore all the McDonald's up to store # 16997.\n"
     ]
    },
    {
     "cell_type": "code",
     "collapsed": false,
     "input": [],
     "language": "python",
     "metadata": {},
     "outputs": []
    },
    {
     "cell_type": "markdown",
     "metadata": {},
     "source": [
      "###Next steps\n",
      "\n",
      "####Seeing a store's ID\n",
      "It's tricky to interact with a large number of markers on a Google map;  navigating the map requires clicking, so making thousands of markers click-sensitive gets irritating fast.  A better approach might be similar to the logic of image tooltip hover, where leaving a mouse still for a second or two brings up a small textbox.\n",
      "\n",
      "Implement a way to view the ID from a store's marker, and perhaps also a link to that store's web page (remember the pattern \"http://www.mcpennsylvania.com/ID\" from the scraping code above).  You're going to need this for the next step.\n",
      "\n",
      "<b>Update 2/17:  There's a new primitive in ``series.js`` to assist you in this:</b>\n",
      "\n",
      "    findClosestElement(gl, transform, series, pixelXY, maxDistInPixels):\n",
      "    gl               WebGL context\n",
      "    transform        WebGL transformation matrix (e.g. mapMatrix)\n",
      "    series           Data series to search (e.g. mcDonalds)\n",
      "    pixelXY          Pixel coords inside map div.  (If you subscribe to google maps mouse \n",
      "                     events, you can pass in event.pixel here)\n",
      "    maxDistInPixels  Don't return an element that's more than this distance in pixels from pixelXY\n",
      "\n",
      "If element is found, returns an object with ``i`` (sequence), ``lat``, and ``lng``.\n",
      "\n",
      "If no element found within ``maxDistInPixels``, returns ``null``\n",
      "\n",
      "You can look up the store # from sequence like so: ``mcDonalds.index[sequence]``.\n",
      "\n",
      "####Assessing the accuracy your data\n",
      "With the sheer number of sites, it's well outside the scope of this assignment to clean any sizeable fraction of the data.  If you select street map (instead of satellite) and zoom in enough on a marker, you can often see where Google has labeled a McDonald's colocated with your marker.  But it's possible errors in Google's layer could be somewhat correlated with errors in your layer.  In satellite mode, you might recognize the distictive look of the restaurant, at least when it's free-standing.  And of course there's always street view.  (Be aware that both sources of imagery could potentially be older than the McDonald's you're trying to locate).\n",
      "\n",
      "Pick 30 placemarks at random and try to assess whether they're likely correct, likely incorrect, or not able to tell.  Use this to give a very rough estimate on bounds for the accuracy of the rest of the dataset.\n",
      "\n",
      "####Learn from your data, and tell a story\n",
      "Spend some time exploring this dataset.  See any surprises?  Any patterns that you notice?  Tell and record a brief story in your own words, using screencast software (e.g. QuickTime Player for Mac or http://camstudio.org/ for Windows).  Upload to a video sharing site such as YouTube, and embed into your notebook.\n",
      "\n"
     ]
    },
    {
     "cell_type": "code",
     "collapsed": false,
     "input": [
      "from IPython.display import YouTubeVideo\n",
      "YouTubeVideo('r_v7b6-VC9g') # paste your youtube video ID here from the embed link"
     ],
     "language": "python",
     "metadata": {},
     "outputs": [
      {
       "html": [
        "\n",
        "        <iframe\n",
        "            width=\"400\"\n",
        "            height=300\"\n",
        "            src=\"https://www.youtube.com/embed/r_v7b6-VC9g\"\n",
        "            frameborder=\"0\"\n",
        "            allowfullscreen\n",
        "        ></iframe>\n",
        "        "
       ],
       "metadata": {},
       "output_type": "pyout",
       "prompt_number": 41,
       "text": [
        "<IPython.lib.display.YouTubeVideo at 0x104962d50>"
       ]
      }
     ],
     "prompt_number": 41
    },
    {
     "cell_type": "markdown",
     "metadata": {},
     "source": [
      "###Publish your notebook"
     ]
    },
    {
     "cell_type": "markdown",
     "metadata": {},
     "source": [
      "To publish your notebook, you need to perform three steps:\n",
      "\n",
      "- Download your notebook in .ipynb format (using File/Download at the top of the page)\n",
      "- Place your .ipynb file somewhere publicly readable on the web\n",
      "- Use the IPython Notebook Viewer to translate and view your notebook by pasting in the URL to your notebook [here](http://nbviewer.ipython.org/)\n",
      "\n",
      "You can place your .ipynb file online using your Andrew account, or you can do it as well by using your App Engine instance.  An even better approach, if you're familiar with git and github, would be to create a github repo and push your .ipynb file to it.  This allows others to more easily build from your notebook.  And the notebook viewer has special support for pulling the .ipynb file directly from your repo's HEAD.\n",
      "    "
     ]
    },
    {
     "cell_type": "code",
     "collapsed": false,
     "input": [],
     "language": "python",
     "metadata": {},
     "outputs": []
    }
   ],
   "metadata": {}
  }
 ]
}